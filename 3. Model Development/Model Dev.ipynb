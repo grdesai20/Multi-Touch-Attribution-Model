{
 "cells": [
  {
   "cell_type": "markdown",
   "metadata": {
    "id": "Su3TPMfTxh74"
   },
   "source": [
    "### Checking Memory Usage"
   ]
  },
  {
   "cell_type": "code",
   "execution_count": 1,
   "metadata": {},
   "outputs": [
    {
     "name": "stdout",
     "output_type": "stream",
     "text": [
      "Sufficient Memory is available! \n",
      "\n",
      "Total CPU Count= 8\n",
      "Total Memory= 31.417 GB\n",
      "Total Used Memory= 0.5 GB\n",
      "Total Available Memory= 30.549 GB\n"
     ]
    }
   ],
   "source": [
    "import psutil\n",
    "def mem_usage():\n",
    "    \n",
    "    mem = psutil.virtual_memory()\n",
    "    THRESHOLD = 100 * 1024 * 1024  # 100MB\n",
    "    \n",
    "    mem_total=round(psutil.virtual_memory().total / (1024.0 ** 3),3)\n",
    "    mem_avail=round(psutil.virtual_memory().available / (1024.0 ** 3),3)\n",
    "    mem_used=round(psutil.virtual_memory().used / (1024.0 ** 3),3)\n",
    "\n",
    "    if mem.available <= THRESHOLD:\n",
    "        print('Memory Usage Warning!')\n",
    "    else:\n",
    "        print('Sufficient Memory is available! \\n',)\n",
    "        print('Total CPU Count=', psutil.cpu_count())\n",
    "        print(f'Total Memory= {mem_total} GB')\n",
    "        print(f'Total Used Memory= {mem_used} GB')\n",
    "        print(f'Total Available Memory= {mem_avail} GB')\n",
    "        \n",
    "mem_usage()"
   ]
  },
  {
   "cell_type": "markdown",
   "metadata": {},
   "source": [
    "### Libraries"
   ]
  },
  {
   "cell_type": "code",
   "execution_count": 2,
   "metadata": {
    "id": "Rh8sgSeOxUgx"
   },
   "outputs": [
    {
     "name": "stdout",
     "output_type": "stream",
     "text": [
      "Looking for attribution at path level? Try ChannelAttributionPro! Visit www.channelattribution.net for more information.\n"
     ]
    }
   ],
   "source": [
    "!pip install -U -q PyDrive\n",
    "#!pip install --upgrade plotly\n",
    "#!pip install plotly==4.8.2\n",
    "#!pip install ChannelAttribution\n",
    "\n",
    "import os\n",
    "from pydrive.auth import GoogleAuth\n",
    "from pydrive.drive import GoogleDrive\n",
    "import plotly.express as px\n",
    "import pandas as pd\n",
    "import plotly.graph_objects as go\n",
    "from plotly.subplots import make_subplots\n",
    "import plotly.io as pio\n",
    "import matplotlib.style as style\n",
    "import seaborn as sns\n",
    "import glob\n",
    "from ChannelAttribution import *"
   ]
  },
  {
   "cell_type": "markdown",
   "metadata": {},
   "source": [
    "### Importing data from GCP"
   ]
  },
  {
   "cell_type": "code",
   "execution_count": 3,
   "metadata": {},
   "outputs": [],
   "source": [
    "import google.auth\n",
    "from google.cloud import bigquery\n",
    "from google.cloud import bigquery_storage\n",
    "\n",
    "credentials, your_project_id = google.auth.default(\n",
    "    scopes=[\"https://www.googleapis.com/auth/cloud-platform\"]\n",
    ")\n",
    "\n",
    "bqclient = bigquery.Client(credentials=credentials, project='festive-radar-307222',)\n",
    "bqstorageclient = bigquery_storage.BigQueryReadClient(credentials=credentials)"
   ]
  },
  {
   "cell_type": "code",
   "execution_count": 4,
   "metadata": {},
   "outputs": [],
   "source": [
    "#query_string = \"\"\"SELECT * FROM `festive-radar-307222.mta_data.mta_data_agg_0`;\"\"\"\n",
    "query_string = \"\"\"SELECT * FROM `festive-radar-307222.mta_data.mta_data_agg_1`;\"\"\"\n",
    "#query_string = \"\"\"SELECT * FROM `festive-radar-307222.mta_data.mta_data_agg_2`;\"\"\"\n",
    "\n",
    "df = (\n",
    "    bqclient.query(query_string)\n",
    "    .result()\n",
    "    .to_dataframe(bqstorage_client=bqstorageclient)\n",
    ")"
   ]
  },
  {
   "cell_type": "markdown",
   "metadata": {
    "id": "CYFbt3VO0DJ7"
   },
   "source": [
    "### Model Development"
   ]
  },
  {
   "cell_type": "code",
   "execution_count": 5,
   "metadata": {},
   "outputs": [
    {
     "data": {
      "text/html": [
       "<div>\n",
       "<style scoped>\n",
       "    .dataframe tbody tr th:only-of-type {\n",
       "        vertical-align: middle;\n",
       "    }\n",
       "\n",
       "    .dataframe tbody tr th {\n",
       "        vertical-align: top;\n",
       "    }\n",
       "\n",
       "    .dataframe thead th {\n",
       "        text-align: right;\n",
       "    }\n",
       "</style>\n",
       "<table border=\"1\" class=\"dataframe\">\n",
       "  <thead>\n",
       "    <tr style=\"text-align: right;\">\n",
       "      <th></th>\n",
       "      <th>user_analytics_id</th>\n",
       "      <th>session_cumsum</th>\n",
       "      <th>conv_1_life</th>\n",
       "      <th>visitor_source</th>\n",
       "    </tr>\n",
       "  </thead>\n",
       "  <tbody>\n",
       "    <tr>\n",
       "      <th>0</th>\n",
       "      <td>e02ff5a5fb614470b58aba7d8e45b0ee</td>\n",
       "      <td>1</td>\n",
       "      <td>0</td>\n",
       "      <td>Organic - SEO</td>\n",
       "    </tr>\n",
       "    <tr>\n",
       "      <th>1</th>\n",
       "      <td>eb08d2ce3091477eacdafd0e7257cc7a</td>\n",
       "      <td>1</td>\n",
       "      <td>0</td>\n",
       "      <td>Organic - SEO</td>\n",
       "    </tr>\n",
       "    <tr>\n",
       "      <th>2</th>\n",
       "      <td>83f0452cb9b3418995348edba451dfe8</td>\n",
       "      <td>1</td>\n",
       "      <td>0</td>\n",
       "      <td>Paid Search - B</td>\n",
       "    </tr>\n",
       "    <tr>\n",
       "      <th>3</th>\n",
       "      <td>a65c376301224406be0fd8d016acaf15</td>\n",
       "      <td>1</td>\n",
       "      <td>0</td>\n",
       "      <td>Organic - SEO</td>\n",
       "    </tr>\n",
       "    <tr>\n",
       "      <th>4</th>\n",
       "      <td>c5622c8eacaa4a61bca357453acbd743</td>\n",
       "      <td>1</td>\n",
       "      <td>0</td>\n",
       "      <td>Organic - SEO</td>\n",
       "    </tr>\n",
       "  </tbody>\n",
       "</table>\n",
       "</div>"
      ],
      "text/plain": [
       "                  user_analytics_id  session_cumsum  conv_1_life  \\\n",
       "0  e02ff5a5fb614470b58aba7d8e45b0ee               1            0   \n",
       "1  eb08d2ce3091477eacdafd0e7257cc7a               1            0   \n",
       "2  83f0452cb9b3418995348edba451dfe8               1            0   \n",
       "3  a65c376301224406be0fd8d016acaf15               1            0   \n",
       "4  c5622c8eacaa4a61bca357453acbd743               1            0   \n",
       "\n",
       "    visitor_source  \n",
       "0    Organic - SEO  \n",
       "1    Organic - SEO  \n",
       "2  Paid Search - B  \n",
       "3    Organic - SEO  \n",
       "4    Organic - SEO  "
      ]
     },
     "execution_count": 5,
     "metadata": {},
     "output_type": "execute_result"
    }
   ],
   "source": [
    "df.head(5)"
   ]
  },
  {
   "cell_type": "code",
   "execution_count": 6,
   "metadata": {},
   "outputs": [
    {
     "data": {
      "text/plain": [
       "Index(['user_analytics_id', 'session_cumsum', 'conv_1_life', 'visitor_source'], dtype='object')"
      ]
     },
     "execution_count": 6,
     "metadata": {},
     "output_type": "execute_result"
    }
   ],
   "source": [
    "df.columns"
   ]
  },
  {
   "cell_type": "code",
   "execution_count": 7,
   "metadata": {},
   "outputs": [],
   "source": [
    "data1 = df.sort_values(by=['user_analytics_id', 'session_cumsum'])"
   ]
  },
  {
   "cell_type": "code",
   "execution_count": 36,
   "metadata": {},
   "outputs": [
    {
     "data": {
      "text/html": [
       "<div>\n",
       "<style scoped>\n",
       "    .dataframe tbody tr th:only-of-type {\n",
       "        vertical-align: middle;\n",
       "    }\n",
       "\n",
       "    .dataframe tbody tr th {\n",
       "        vertical-align: top;\n",
       "    }\n",
       "\n",
       "    .dataframe thead th {\n",
       "        text-align: right;\n",
       "    }\n",
       "</style>\n",
       "<table border=\"1\" class=\"dataframe\">\n",
       "  <thead>\n",
       "    <tr style=\"text-align: right;\">\n",
       "      <th></th>\n",
       "      <th>user_analytics_id</th>\n",
       "      <th>session_cumsum</th>\n",
       "      <th>conv_1_life</th>\n",
       "      <th>visitor_source</th>\n",
       "    </tr>\n",
       "  </thead>\n",
       "  <tbody>\n",
       "    <tr>\n",
       "      <th>9387014</th>\n",
       "      <td>d5c48aee85cf46cf9c8639434e705bbc</td>\n",
       "      <td>2</td>\n",
       "      <td>0</td>\n",
       "      <td>Direct</td>\n",
       "    </tr>\n",
       "    <tr>\n",
       "      <th>8373236</th>\n",
       "      <td>d5c48aee85cf46cf9c8639434e705bbc</td>\n",
       "      <td>3</td>\n",
       "      <td>0</td>\n",
       "      <td>Organic - Brand</td>\n",
       "    </tr>\n",
       "    <tr>\n",
       "      <th>9502501</th>\n",
       "      <td>d5c48aee85cf46cf9c8639434e705bbc</td>\n",
       "      <td>4</td>\n",
       "      <td>0</td>\n",
       "      <td>Earned Media</td>\n",
       "    </tr>\n",
       "    <tr>\n",
       "      <th>9190600</th>\n",
       "      <td>d5c48aee85cf46cf9c8639434e705bbc</td>\n",
       "      <td>5</td>\n",
       "      <td>0</td>\n",
       "      <td>Organic - Brand</td>\n",
       "    </tr>\n",
       "    <tr>\n",
       "      <th>9644715</th>\n",
       "      <td>d5c48aee85cf46cf9c8639434e705bbc</td>\n",
       "      <td>6</td>\n",
       "      <td>0</td>\n",
       "      <td>Email</td>\n",
       "    </tr>\n",
       "    <tr>\n",
       "      <th>9205110</th>\n",
       "      <td>d5c48aee85cf46cf9c8639434e705bbc</td>\n",
       "      <td>7</td>\n",
       "      <td>0</td>\n",
       "      <td>Organic - Brand</td>\n",
       "    </tr>\n",
       "  </tbody>\n",
       "</table>\n",
       "</div>"
      ],
      "text/plain": [
       "                        user_analytics_id  session_cumsum  conv_1_life  \\\n",
       "9387014  d5c48aee85cf46cf9c8639434e705bbc               2            0   \n",
       "8373236  d5c48aee85cf46cf9c8639434e705bbc               3            0   \n",
       "9502501  d5c48aee85cf46cf9c8639434e705bbc               4            0   \n",
       "9190600  d5c48aee85cf46cf9c8639434e705bbc               5            0   \n",
       "9644715  d5c48aee85cf46cf9c8639434e705bbc               6            0   \n",
       "9205110  d5c48aee85cf46cf9c8639434e705bbc               7            0   \n",
       "\n",
       "          visitor_source  \n",
       "9387014           Direct  \n",
       "8373236  Organic - Brand  \n",
       "9502501     Earned Media  \n",
       "9190600  Organic - Brand  \n",
       "9644715            Email  \n",
       "9205110  Organic - Brand  "
      ]
     },
     "execution_count": 36,
     "metadata": {},
     "output_type": "execute_result"
    }
   ],
   "source": [
    "#data1[data1['user_analytics_id'] == 'd5c48aee85cf46cf9c8639434e705bbc']"
   ]
  },
  {
   "cell_type": "code",
   "execution_count": 8,
   "metadata": {},
   "outputs": [],
   "source": [
    "# Finding the channel path for each user\n",
    "\n",
    "data2 = data1.groupby(['user_analytics_id'], as_index=False).agg({'visitor_source': lambda x: ' > '.join(map(str, x)),'conv_1_life':max}).rename(columns={'visitor_source':'marketing_channel_subset'})"
   ]
  },
  {
   "cell_type": "code",
   "execution_count": 10,
   "metadata": {},
   "outputs": [
    {
     "data": {
      "text/plain": [
       "14363711    Direct > Organic - Brand > Earned Media > Orga...\n",
       "Name: marketing_channel_subset, dtype: object"
      ]
     },
     "execution_count": 10,
     "metadata": {},
     "output_type": "execute_result"
    }
   ],
   "source": [
    "# Checking user level path for d5c48aee85cf46cf9c8639434e705bbc\n",
    "data2[data2['user_analytics_id'] == 'd5c48aee85cf46cf9c8639434e705bbc']['marketing_channel_subset']"
   ]
  },
  {
   "cell_type": "code",
   "execution_count": 11,
   "metadata": {},
   "outputs": [
    {
     "data": {
      "text/html": [
       "<div>\n",
       "<style scoped>\n",
       "    .dataframe tbody tr th:only-of-type {\n",
       "        vertical-align: middle;\n",
       "    }\n",
       "\n",
       "    .dataframe tbody tr th {\n",
       "        vertical-align: top;\n",
       "    }\n",
       "\n",
       "    .dataframe thead th {\n",
       "        text-align: right;\n",
       "    }\n",
       "</style>\n",
       "<table border=\"1\" class=\"dataframe\">\n",
       "  <thead>\n",
       "    <tr style=\"text-align: right;\">\n",
       "      <th></th>\n",
       "      <th>user_analytics_id</th>\n",
       "      <th>marketing_channel_subset</th>\n",
       "      <th>conv_1_life</th>\n",
       "      <th>non_conv</th>\n",
       "    </tr>\n",
       "  </thead>\n",
       "  <tbody>\n",
       "    <tr>\n",
       "      <th>0</th>\n",
       "      <td>000003f0a7c94f0881a2569974046205</td>\n",
       "      <td>Organic - SEO</td>\n",
       "      <td>0</td>\n",
       "      <td>1</td>\n",
       "    </tr>\n",
       "    <tr>\n",
       "      <th>1</th>\n",
       "      <td>0000042cc6d6499b85e3229158e7bb1f</td>\n",
       "      <td>Organic - SEO</td>\n",
       "      <td>0</td>\n",
       "      <td>1</td>\n",
       "    </tr>\n",
       "    <tr>\n",
       "      <th>2</th>\n",
       "      <td>0000048d47894d2b9bae3b26b64e2190</td>\n",
       "      <td>Organic - SEO</td>\n",
       "      <td>0</td>\n",
       "      <td>1</td>\n",
       "    </tr>\n",
       "    <tr>\n",
       "      <th>3</th>\n",
       "      <td>00000490b3e54a3b96d9abe9fce085ca</td>\n",
       "      <td>Organic - SEO</td>\n",
       "      <td>0</td>\n",
       "      <td>1</td>\n",
       "    </tr>\n",
       "    <tr>\n",
       "      <th>4</th>\n",
       "      <td>00000667738644d1a023d5c73b00e69d</td>\n",
       "      <td>Organic - SEO</td>\n",
       "      <td>0</td>\n",
       "      <td>1</td>\n",
       "    </tr>\n",
       "  </tbody>\n",
       "</table>\n",
       "</div>"
      ],
      "text/plain": [
       "                  user_analytics_id marketing_channel_subset  conv_1_life  \\\n",
       "0  000003f0a7c94f0881a2569974046205            Organic - SEO            0   \n",
       "1  0000042cc6d6499b85e3229158e7bb1f            Organic - SEO            0   \n",
       "2  0000048d47894d2b9bae3b26b64e2190            Organic - SEO            0   \n",
       "3  00000490b3e54a3b96d9abe9fce085ca            Organic - SEO            0   \n",
       "4  00000667738644d1a023d5c73b00e69d            Organic - SEO            0   \n",
       "\n",
       "   non_conv  \n",
       "0         1  \n",
       "1         1  \n",
       "2         1  \n",
       "3         1  \n",
       "4         1  "
      ]
     },
     "execution_count": 11,
     "metadata": {},
     "output_type": "execute_result"
    }
   ],
   "source": [
    "# Finding the non-conversions for each user\n",
    "\n",
    "data2['non_conv'] = data2['conv_1_life'].apply(lambda x: 1 if x == 0 else 0)\n",
    "data2.head()"
   ]
  },
  {
   "cell_type": "code",
   "execution_count": 12,
   "metadata": {},
   "outputs": [
    {
     "name": "stdout",
     "output_type": "stream",
     "text": [
      "Total conversions: 47767\n",
      "Total data points: 17200179\n",
      "Total conversion rate: 0.278%\n"
     ]
    }
   ],
   "source": [
    "print('Total conversions: {}'.format(sum(data2.conv_1_life)))\n",
    "print('Total data points: {}'.format(len(data2)))\n",
    "print('Total conversion rate: {}%'.format(round(sum(data2.conv_1_life) / len(data2)*100, 3)))"
   ]
  },
  {
   "cell_type": "code",
   "execution_count": 13,
   "metadata": {},
   "outputs": [
    {
     "data": {
      "text/html": [
       "<div>\n",
       "<style scoped>\n",
       "    .dataframe tbody tr th:only-of-type {\n",
       "        vertical-align: middle;\n",
       "    }\n",
       "\n",
       "    .dataframe tbody tr th {\n",
       "        vertical-align: top;\n",
       "    }\n",
       "\n",
       "    .dataframe thead th {\n",
       "        text-align: right;\n",
       "    }\n",
       "</style>\n",
       "<table border=\"1\" class=\"dataframe\">\n",
       "  <thead>\n",
       "    <tr style=\"text-align: right;\">\n",
       "      <th></th>\n",
       "      <th>marketing_channel_subset</th>\n",
       "      <th>conv_1_life</th>\n",
       "      <th>non_conv</th>\n",
       "    </tr>\n",
       "  </thead>\n",
       "  <tbody>\n",
       "    <tr>\n",
       "      <th>0</th>\n",
       "      <td>Blog</td>\n",
       "      <td>5</td>\n",
       "      <td>2377</td>\n",
       "    </tr>\n",
       "    <tr>\n",
       "      <th>1</th>\n",
       "      <td>Blog &gt; Direct</td>\n",
       "      <td>1</td>\n",
       "      <td>42</td>\n",
       "    </tr>\n",
       "    <tr>\n",
       "      <th>2</th>\n",
       "      <td>Blog &gt; Direct &gt; Email</td>\n",
       "      <td>0</td>\n",
       "      <td>1</td>\n",
       "    </tr>\n",
       "    <tr>\n",
       "      <th>3</th>\n",
       "      <td>Blog &gt; Direct &gt; Organic - SEO</td>\n",
       "      <td>0</td>\n",
       "      <td>1</td>\n",
       "    </tr>\n",
       "    <tr>\n",
       "      <th>4</th>\n",
       "      <td>Blog &gt; Direct &gt; Organic - SEO &gt; Direct</td>\n",
       "      <td>0</td>\n",
       "      <td>1</td>\n",
       "    </tr>\n",
       "  </tbody>\n",
       "</table>\n",
       "</div>"
      ],
      "text/plain": [
       "                 marketing_channel_subset  conv_1_life  non_conv\n",
       "0                                    Blog            5      2377\n",
       "1                           Blog > Direct            1        42\n",
       "2                   Blog > Direct > Email            0         1\n",
       "3           Blog > Direct > Organic - SEO            0         1\n",
       "4  Blog > Direct > Organic - SEO > Direct            0         1"
      ]
     },
     "execution_count": 13,
     "metadata": {},
     "output_type": "execute_result"
    }
   ],
   "source": [
    "# For each type of conversion path, get # conversions and # non-conversions\n",
    "data3 = data2.groupby(['marketing_channel_subset'], as_index=False).agg(sum)\n",
    "data3.head()"
   ]
  },
  {
   "cell_type": "markdown",
   "metadata": {},
   "source": [
    "#### Unique paths from Marketing channel subset"
   ]
  },
  {
   "cell_type": "code",
   "execution_count": 14,
   "metadata": {},
   "outputs": [
    {
     "data": {
      "text/plain": [
       "(14527, 3)"
      ]
     },
     "execution_count": 14,
     "metadata": {},
     "output_type": "execute_result"
    }
   ],
   "source": [
    "# 22 channels\n",
    "data3.shape"
   ]
  },
  {
   "cell_type": "markdown",
   "metadata": {},
   "source": [
    "#### Max length of a path (Max channels present in a single path)"
   ]
  },
  {
   "cell_type": "code",
   "execution_count": 25,
   "metadata": {},
   "outputs": [
    {
     "data": {
      "text/plain": [
       "266"
      ]
     },
     "execution_count": 25,
     "metadata": {},
     "output_type": "execute_result"
    }
   ],
   "source": [
    "data3.marketing_channel_subset.str.count('>').max()"
   ]
  },
  {
   "cell_type": "markdown",
   "metadata": {},
   "source": [
    "Eg. \n",
    "Organic - SEO > Direct > Organic - SEO > Organic - SEO > Email\n",
    "\n",
    "Would become\n",
    "\n",
    "Organic - SEO > Direct > Organic - SEO > Email"
   ]
  },
  {
   "cell_type": "markdown",
   "metadata": {},
   "source": [
    "#### Top customer conversion paths"
   ]
  },
  {
   "cell_type": "code",
   "execution_count": 16,
   "metadata": {},
   "outputs": [
    {
     "data": {
      "text/html": [
       "<div>\n",
       "<style scoped>\n",
       "    .dataframe tbody tr th:only-of-type {\n",
       "        vertical-align: middle;\n",
       "    }\n",
       "\n",
       "    .dataframe tbody tr th {\n",
       "        vertical-align: top;\n",
       "    }\n",
       "\n",
       "    .dataframe thead th {\n",
       "        text-align: right;\n",
       "    }\n",
       "</style>\n",
       "<table border=\"1\" class=\"dataframe\">\n",
       "  <thead>\n",
       "    <tr style=\"text-align: right;\">\n",
       "      <th></th>\n",
       "      <th>marketing_channel_subset</th>\n",
       "      <th>conv_1_life</th>\n",
       "      <th>non_conv</th>\n",
       "    </tr>\n",
       "  </thead>\n",
       "  <tbody>\n",
       "    <tr>\n",
       "      <th>11226</th>\n",
       "      <td>Partnerships</td>\n",
       "      <td>12309</td>\n",
       "      <td>979354</td>\n",
       "    </tr>\n",
       "    <tr>\n",
       "      <th>4934</th>\n",
       "      <td>Organic - SEO</td>\n",
       "      <td>5432</td>\n",
       "      <td>12108350</td>\n",
       "    </tr>\n",
       "    <tr>\n",
       "      <th>59</th>\n",
       "      <td>Direct</td>\n",
       "      <td>5327</td>\n",
       "      <td>521863</td>\n",
       "    </tr>\n",
       "    <tr>\n",
       "      <th>9845</th>\n",
       "      <td>Paid Search - NB</td>\n",
       "      <td>2900</td>\n",
       "      <td>287353</td>\n",
       "    </tr>\n",
       "    <tr>\n",
       "      <th>8834</th>\n",
       "      <td>Paid Search - B</td>\n",
       "      <td>2227</td>\n",
       "      <td>80666</td>\n",
       "    </tr>\n",
       "    <tr>\n",
       "      <th>...</th>\n",
       "      <td>...</td>\n",
       "      <td>...</td>\n",
       "      <td>...</td>\n",
       "    </tr>\n",
       "    <tr>\n",
       "      <th>10528</th>\n",
       "      <td>Paid Search - NB &gt; Organic - SEO &gt; Direct</td>\n",
       "      <td>22</td>\n",
       "      <td>459</td>\n",
       "    </tr>\n",
       "    <tr>\n",
       "      <th>7164</th>\n",
       "      <td>Organic - SEO &gt; Paid Search - B &gt; Email</td>\n",
       "      <td>22</td>\n",
       "      <td>153</td>\n",
       "    </tr>\n",
       "    <tr>\n",
       "      <th>8380</th>\n",
       "      <td>Organic - SEO &gt; Referral</td>\n",
       "      <td>22</td>\n",
       "      <td>2640</td>\n",
       "    </tr>\n",
       "    <tr>\n",
       "      <th>11502</th>\n",
       "      <td>Partnerships &gt; Direct &gt; Partnerships</td>\n",
       "      <td>21</td>\n",
       "      <td>425</td>\n",
       "    </tr>\n",
       "    <tr>\n",
       "      <th>8693</th>\n",
       "      <td>Paid Email &gt; Organic - SEO</td>\n",
       "      <td>21</td>\n",
       "      <td>1566</td>\n",
       "    </tr>\n",
       "  </tbody>\n",
       "</table>\n",
       "<p>100 rows × 3 columns</p>\n",
       "</div>"
      ],
      "text/plain": [
       "                        marketing_channel_subset  conv_1_life  non_conv\n",
       "11226                               Partnerships        12309    979354\n",
       "4934                               Organic - SEO         5432  12108350\n",
       "59                                        Direct         5327    521863\n",
       "9845                            Paid Search - NB         2900    287353\n",
       "8834                             Paid Search - B         2227     80666\n",
       "...                                          ...          ...       ...\n",
       "10528  Paid Search - NB > Organic - SEO > Direct           22       459\n",
       "7164     Organic - SEO > Paid Search - B > Email           22       153\n",
       "8380                    Organic - SEO > Referral           22      2640\n",
       "11502       Partnerships > Direct > Partnerships           21       425\n",
       "8693                  Paid Email > Organic - SEO           21      1566\n",
       "\n",
       "[100 rows x 3 columns]"
      ]
     },
     "execution_count": 16,
     "metadata": {},
     "output_type": "execute_result"
    }
   ],
   "source": [
    "data3.sort_values(by=['conv_1_life'], ascending=False).head(100)"
   ]
  },
  {
   "cell_type": "markdown",
   "metadata": {},
   "source": [
    "## Heuristic & Markov models"
   ]
  },
  {
   "cell_type": "code",
   "execution_count": 17,
   "metadata": {},
   "outputs": [
    {
     "data": {
      "text/html": [
       "<div>\n",
       "<style scoped>\n",
       "    .dataframe tbody tr th:only-of-type {\n",
       "        vertical-align: middle;\n",
       "    }\n",
       "\n",
       "    .dataframe tbody tr th {\n",
       "        vertical-align: top;\n",
       "    }\n",
       "\n",
       "    .dataframe thead th {\n",
       "        text-align: right;\n",
       "    }\n",
       "</style>\n",
       "<table border=\"1\" class=\"dataframe\">\n",
       "  <thead>\n",
       "    <tr style=\"text-align: right;\">\n",
       "      <th></th>\n",
       "      <th>channel_name</th>\n",
       "      <th>first_touch</th>\n",
       "      <th>last_touch</th>\n",
       "      <th>linear_touch</th>\n",
       "    </tr>\n",
       "  </thead>\n",
       "  <tbody>\n",
       "    <tr>\n",
       "      <th>0</th>\n",
       "      <td>Blog</td>\n",
       "      <td>6.0</td>\n",
       "      <td>24.0</td>\n",
       "      <td>19.426190</td>\n",
       "    </tr>\n",
       "    <tr>\n",
       "      <th>1</th>\n",
       "      <td>Direct</td>\n",
       "      <td>7755.0</td>\n",
       "      <td>7414.0</td>\n",
       "      <td>7481.817356</td>\n",
       "    </tr>\n",
       "    <tr>\n",
       "      <th>2</th>\n",
       "      <td>Email</td>\n",
       "      <td>1103.0</td>\n",
       "      <td>6248.0</td>\n",
       "      <td>4276.690414</td>\n",
       "    </tr>\n",
       "    <tr>\n",
       "      <th>3</th>\n",
       "      <td>Organic - SEO</td>\n",
       "      <td>8901.0</td>\n",
       "      <td>10330.0</td>\n",
       "      <td>9406.365824</td>\n",
       "    </tr>\n",
       "    <tr>\n",
       "      <th>4</th>\n",
       "      <td>Display</td>\n",
       "      <td>35.0</td>\n",
       "      <td>145.0</td>\n",
       "      <td>115.033835</td>\n",
       "    </tr>\n",
       "  </tbody>\n",
       "</table>\n",
       "</div>"
      ],
      "text/plain": [
       "    channel_name  first_touch  last_touch  linear_touch\n",
       "0           Blog          6.0        24.0     19.426190\n",
       "1         Direct       7755.0      7414.0   7481.817356\n",
       "2          Email       1103.0      6248.0   4276.690414\n",
       "3  Organic - SEO       8901.0     10330.0   9406.365824\n",
       "4        Display         35.0       145.0    115.033835"
      ]
     },
     "execution_count": 17,
     "metadata": {},
     "output_type": "execute_result"
    }
   ],
   "source": [
    "H = heuristic_models(data3, \"marketing_channel_subset\", \"conv_1_life\")\n",
    "H.head()"
   ]
  },
  {
   "cell_type": "code",
   "execution_count": 26,
   "metadata": {},
   "outputs": [
    {
     "name": "stdout",
     "output_type": "stream",
     "text": [
      "Number of simulations: 100000 - Convergence reached: 2.55% < 5.00%\n",
      "Percentage of simulated paths that successfully end before maximum number of steps (40) is reached: 99.99%\n"
     ]
    }
   ],
   "source": [
    "M = markov_model(data3, \"marketing_channel_subset\", \"conv_1_life\", var_null='non_conv')\n",
    "M.columns=[\"channel_name\",\"markov_model\"]\n",
    "#M.head(20)"
   ]
  },
  {
   "cell_type": "code",
   "execution_count": 56,
   "metadata": {},
   "outputs": [],
   "source": [
    "R=pd.merge(H,M,on=\"channel_name\",how=\"inner\")\n",
    "R.sort_values(by='channel_name', inplace=True)"
   ]
  },
  {
   "cell_type": "code",
   "execution_count": 55,
   "metadata": {},
   "outputs": [
    {
     "name": "stdout",
     "output_type": "stream",
     "text": [
      "           channel_name  first_touch  last_touch  linear_touch  markov_model\n",
      "0                  Blog          6.0        24.0     19.426190     21.254068\n",
      "13      Connected TV/TV          0.0         2.0      1.116667      3.036295\n",
      "1                Direct       7755.0      7414.0   7481.817356   6773.975146\n",
      "4               Display         35.0       145.0    115.033835    194.322909\n",
      "5          Earned Media         22.0       368.0    236.657337    394.718408\n",
      "2                 Email       1103.0      6248.0   4276.690414   6503.744851\n",
      "6              Facebook        984.0       713.0    831.640188    734.783499\n",
      "19                Gmail         24.0        28.0     25.969120     21.254068\n",
      "18           Influencer        132.0       108.0    120.550000    103.234045\n",
      "17             Internal          0.0         5.0      1.483333      3.036295\n",
      "14             Lead Gen        134.0        86.0    106.895238    118.415523\n",
      "9       Organic - Brand        186.0       813.0    508.706151    798.545703\n",
      "3         Organic - SEO       8901.0     10330.0   9406.365824   9913.504640\n",
      "20                Other          7.0         8.0      8.666667     21.254068\n",
      "11           Paid Email        361.0       232.0    285.837734    200.395500\n",
      "7       Paid Search - B       3493.0      2909.0   3175.923702   2987.714722\n",
      "10     Paid Search - NB       5043.0      3312.0   4080.317521   3771.078947\n",
      "16          Paid Social          8.0         7.0      8.300000      6.072591\n",
      "8          Partnerships      18881.0     13817.0  15991.941781  13347.554793\n",
      "12             Referral        248.0       843.0    690.703006   1478.675884\n",
      "21            Warm Lead        186.0       148.0    160.141270    112.342932\n",
      "15              YouTube        258.0       207.0    232.816667    258.085113\n",
      "Total             47767      47767.0     47767.0  47767.000000  47767.000000\n"
     ]
    }
   ],
   "source": [
    "# Pass the scalar value then sum of all rows will be filled\n",
    "Rmodel=R\n",
    "Rmodel.loc['Total'] = Rmodel['first_touch'].sum()\n",
    "print(Rmodel)"
   ]
  },
  {
   "cell_type": "code",
   "execution_count": 57,
   "metadata": {},
   "outputs": [
    {
     "data": {
      "text/plain": [
       "18881"
      ]
     },
     "execution_count": 57,
     "metadata": {},
     "output_type": "execute_result"
    }
   ],
   "source": [
    "# Total Conversions having PARTNERSHIPS as FIRST touch point\n",
    "\n",
    "data3[data3.marketing_channel_subset.str.contains('^Partnerships.*')].conv_1_life.sum()"
   ]
  },
  {
   "cell_type": "code",
   "execution_count": 58,
   "metadata": {},
   "outputs": [
    {
     "data": {
      "text/plain": [
       "13817"
      ]
     },
     "execution_count": 58,
     "metadata": {},
     "output_type": "execute_result"
    }
   ],
   "source": [
    "# Total Conversions having PARTNERSHIPS as LAST touch point\n",
    "\n",
    "data3[data3.marketing_channel_subset.str.contains('Partnerships$')].conv_1_life.sum()"
   ]
  },
  {
   "cell_type": "markdown",
   "metadata": {},
   "source": [
    "#### Calculating the percentages for each channel per model"
   ]
  },
  {
   "cell_type": "code",
   "execution_count": 59,
   "metadata": {},
   "outputs": [],
   "source": [
    "R['first_touch'] = R['first_touch']/(R['first_touch'].sum())*100\n",
    "R['last_touch'] = R['last_touch']/(R['last_touch'].sum())*100\n",
    "R['linear_touch'] = R['linear_touch']/(R['linear_touch'].sum())*100\n",
    "R['markov_model'] = R['markov_model']/(R['markov_model'].sum())*100"
   ]
  },
  {
   "cell_type": "code",
   "execution_count": 60,
   "metadata": {},
   "outputs": [
    {
     "data": {
      "text/html": [
       "<div>\n",
       "<style scoped>\n",
       "    .dataframe tbody tr th:only-of-type {\n",
       "        vertical-align: middle;\n",
       "    }\n",
       "\n",
       "    .dataframe tbody tr th {\n",
       "        vertical-align: top;\n",
       "    }\n",
       "\n",
       "    .dataframe thead th {\n",
       "        text-align: right;\n",
       "    }\n",
       "</style>\n",
       "<table border=\"1\" class=\"dataframe\">\n",
       "  <thead>\n",
       "    <tr style=\"text-align: right;\">\n",
       "      <th></th>\n",
       "      <th>channel_name</th>\n",
       "      <th>first_touch</th>\n",
       "      <th>last_touch</th>\n",
       "      <th>linear_touch</th>\n",
       "      <th>markov_model</th>\n",
       "    </tr>\n",
       "  </thead>\n",
       "  <tbody>\n",
       "    <tr>\n",
       "      <th>0</th>\n",
       "      <td>Blog</td>\n",
       "      <td>0.012561</td>\n",
       "      <td>0.050244</td>\n",
       "      <td>0.040669</td>\n",
       "      <td>0.044495</td>\n",
       "    </tr>\n",
       "    <tr>\n",
       "      <th>13</th>\n",
       "      <td>Connected TV/TV</td>\n",
       "      <td>0.000000</td>\n",
       "      <td>0.004187</td>\n",
       "      <td>0.002338</td>\n",
       "      <td>0.006356</td>\n",
       "    </tr>\n",
       "    <tr>\n",
       "      <th>1</th>\n",
       "      <td>Direct</td>\n",
       "      <td>16.235058</td>\n",
       "      <td>15.521176</td>\n",
       "      <td>15.663151</td>\n",
       "      <td>14.181287</td>\n",
       "    </tr>\n",
       "    <tr>\n",
       "      <th>4</th>\n",
       "      <td>Display</td>\n",
       "      <td>0.073272</td>\n",
       "      <td>0.303557</td>\n",
       "      <td>0.240823</td>\n",
       "      <td>0.406814</td>\n",
       "    </tr>\n",
       "    <tr>\n",
       "      <th>5</th>\n",
       "      <td>Earned Media</td>\n",
       "      <td>0.046057</td>\n",
       "      <td>0.770406</td>\n",
       "      <td>0.495441</td>\n",
       "      <td>0.826341</td>\n",
       "    </tr>\n",
       "    <tr>\n",
       "      <th>2</th>\n",
       "      <td>Email</td>\n",
       "      <td>2.309126</td>\n",
       "      <td>13.080160</td>\n",
       "      <td>8.953232</td>\n",
       "      <td>13.615561</td>\n",
       "    </tr>\n",
       "    <tr>\n",
       "      <th>6</th>\n",
       "      <td>Facebook</td>\n",
       "      <td>2.060000</td>\n",
       "      <td>1.492662</td>\n",
       "      <td>1.741035</td>\n",
       "      <td>1.538266</td>\n",
       "    </tr>\n",
       "    <tr>\n",
       "      <th>19</th>\n",
       "      <td>Gmail</td>\n",
       "      <td>0.050244</td>\n",
       "      <td>0.058618</td>\n",
       "      <td>0.054366</td>\n",
       "      <td>0.044495</td>\n",
       "    </tr>\n",
       "    <tr>\n",
       "      <th>18</th>\n",
       "      <td>Influencer</td>\n",
       "      <td>0.276341</td>\n",
       "      <td>0.226098</td>\n",
       "      <td>0.252371</td>\n",
       "      <td>0.216120</td>\n",
       "    </tr>\n",
       "    <tr>\n",
       "      <th>17</th>\n",
       "      <td>Internal</td>\n",
       "      <td>0.000000</td>\n",
       "      <td>0.010467</td>\n",
       "      <td>0.003105</td>\n",
       "      <td>0.006356</td>\n",
       "    </tr>\n",
       "    <tr>\n",
       "      <th>14</th>\n",
       "      <td>Lead Gen</td>\n",
       "      <td>0.280528</td>\n",
       "      <td>0.180041</td>\n",
       "      <td>0.223785</td>\n",
       "      <td>0.247902</td>\n",
       "    </tr>\n",
       "    <tr>\n",
       "      <th>9</th>\n",
       "      <td>Organic - Brand</td>\n",
       "      <td>0.389390</td>\n",
       "      <td>1.702012</td>\n",
       "      <td>1.064974</td>\n",
       "      <td>1.671752</td>\n",
       "    </tr>\n",
       "    <tr>\n",
       "      <th>3</th>\n",
       "      <td>Organic - SEO</td>\n",
       "      <td>18.634204</td>\n",
       "      <td>21.625809</td>\n",
       "      <td>19.692185</td>\n",
       "      <td>20.753877</td>\n",
       "    </tr>\n",
       "    <tr>\n",
       "      <th>20</th>\n",
       "      <td>Other</td>\n",
       "      <td>0.014654</td>\n",
       "      <td>0.016748</td>\n",
       "      <td>0.018144</td>\n",
       "      <td>0.044495</td>\n",
       "    </tr>\n",
       "    <tr>\n",
       "      <th>11</th>\n",
       "      <td>Paid Email</td>\n",
       "      <td>0.755752</td>\n",
       "      <td>0.485691</td>\n",
       "      <td>0.598400</td>\n",
       "      <td>0.419527</td>\n",
       "    </tr>\n",
       "    <tr>\n",
       "      <th>7</th>\n",
       "      <td>Paid Search - B</td>\n",
       "      <td>7.312580</td>\n",
       "      <td>6.089978</td>\n",
       "      <td>6.648782</td>\n",
       "      <td>6.254767</td>\n",
       "    </tr>\n",
       "    <tr>\n",
       "      <th>10</th>\n",
       "      <td>Paid Search - NB</td>\n",
       "      <td>10.557498</td>\n",
       "      <td>6.933657</td>\n",
       "      <td>8.542126</td>\n",
       "      <td>7.894737</td>\n",
       "    </tr>\n",
       "    <tr>\n",
       "      <th>16</th>\n",
       "      <td>Paid Social</td>\n",
       "      <td>0.016748</td>\n",
       "      <td>0.014654</td>\n",
       "      <td>0.017376</td>\n",
       "      <td>0.012713</td>\n",
       "    </tr>\n",
       "    <tr>\n",
       "      <th>8</th>\n",
       "      <td>Partnerships</td>\n",
       "      <td>39.527289</td>\n",
       "      <td>28.925827</td>\n",
       "      <td>33.479058</td>\n",
       "      <td>27.943046</td>\n",
       "    </tr>\n",
       "    <tr>\n",
       "      <th>12</th>\n",
       "      <td>Referral</td>\n",
       "      <td>0.519187</td>\n",
       "      <td>1.764817</td>\n",
       "      <td>1.445984</td>\n",
       "      <td>3.095601</td>\n",
       "    </tr>\n",
       "    <tr>\n",
       "      <th>21</th>\n",
       "      <td>Warm Lead</td>\n",
       "      <td>0.389390</td>\n",
       "      <td>0.309837</td>\n",
       "      <td>0.335255</td>\n",
       "      <td>0.235189</td>\n",
       "    </tr>\n",
       "    <tr>\n",
       "      <th>15</th>\n",
       "      <td>YouTube</td>\n",
       "      <td>0.540122</td>\n",
       "      <td>0.433354</td>\n",
       "      <td>0.487401</td>\n",
       "      <td>0.540300</td>\n",
       "    </tr>\n",
       "  </tbody>\n",
       "</table>\n",
       "</div>"
      ],
      "text/plain": [
       "        channel_name  first_touch  last_touch  linear_touch  markov_model\n",
       "0               Blog     0.012561    0.050244      0.040669      0.044495\n",
       "13   Connected TV/TV     0.000000    0.004187      0.002338      0.006356\n",
       "1             Direct    16.235058   15.521176     15.663151     14.181287\n",
       "4            Display     0.073272    0.303557      0.240823      0.406814\n",
       "5       Earned Media     0.046057    0.770406      0.495441      0.826341\n",
       "2              Email     2.309126   13.080160      8.953232     13.615561\n",
       "6           Facebook     2.060000    1.492662      1.741035      1.538266\n",
       "19             Gmail     0.050244    0.058618      0.054366      0.044495\n",
       "18        Influencer     0.276341    0.226098      0.252371      0.216120\n",
       "17          Internal     0.000000    0.010467      0.003105      0.006356\n",
       "14          Lead Gen     0.280528    0.180041      0.223785      0.247902\n",
       "9    Organic - Brand     0.389390    1.702012      1.064974      1.671752\n",
       "3      Organic - SEO    18.634204   21.625809     19.692185     20.753877\n",
       "20             Other     0.014654    0.016748      0.018144      0.044495\n",
       "11        Paid Email     0.755752    0.485691      0.598400      0.419527\n",
       "7    Paid Search - B     7.312580    6.089978      6.648782      6.254767\n",
       "10  Paid Search - NB    10.557498    6.933657      8.542126      7.894737\n",
       "16       Paid Social     0.016748    0.014654      0.017376      0.012713\n",
       "8       Partnerships    39.527289   28.925827     33.479058     27.943046\n",
       "12          Referral     0.519187    1.764817      1.445984      3.095601\n",
       "21         Warm Lead     0.389390    0.309837      0.335255      0.235189\n",
       "15           YouTube     0.540122    0.433354      0.487401      0.540300"
      ]
     },
     "execution_count": 60,
     "metadata": {},
     "output_type": "execute_result"
    }
   ],
   "source": [
    "R"
   ]
  },
  {
   "cell_type": "code",
   "execution_count": 65,
   "metadata": {},
   "outputs": [],
   "source": [
    "# Saving first touch model attribution value to CSV\n",
    "R[['channel_name','first_touch']].to_csv(r'/home/ss13449/Data/conv_value.csv', index = False)"
   ]
  },
  {
   "cell_type": "code",
   "execution_count": 62,
   "metadata": {},
   "outputs": [
    {
     "data": {
      "application/vnd.plotly.v1+json": {
       "config": {
        "plotlyServerURL": "https://plot.ly"
       },
       "data": [
        {
         "alignmentgroup": "True",
         "hovertemplate": "variable=first_touch<br>channel_name=%{x}<br>value=%{y}<extra></extra>",
         "legendgroup": "first_touch",
         "marker": {
          "color": "rgb(127, 60, 141)"
         },
         "name": "first_touch",
         "offsetgroup": "first_touch",
         "orientation": "v",
         "showlegend": true,
         "textposition": "auto",
         "type": "bar",
         "x": [
          "Blog",
          "Connected TV/TV",
          "Direct",
          "Display",
          "Earned Media",
          "Email",
          "Facebook",
          "Gmail",
          "Influencer",
          "Internal",
          "Lead Gen",
          "Organic - Brand",
          "Organic - SEO",
          "Other",
          "Paid Email",
          "Paid Search - B",
          "Paid Search - NB",
          "Paid Social",
          "Partnerships",
          "Referral",
          "Warm Lead",
          "YouTube"
         ],
         "xaxis": "x",
         "y": [
          0.012560973056712792,
          0,
          16.235057675801283,
          0.07327234283082464,
          0.04605690120794691,
          2.309125546925702,
          2.0599995813008984,
          0.05024389222685117,
          0.27634140724768147,
          0,
          0.2805283982665857,
          0.38939016475809657,
          18.634203529633428,
          0.014654468566164926,
          0.7557518789122197,
          7.312579814516298,
          10.557497854167103,
          0.01674796407561706,
          39.52728871396571,
          0.5191868863441288,
          0.38939016475809657,
          0.54012184143865
         ],
         "yaxis": "y"
        },
        {
         "alignmentgroup": "True",
         "hovertemplate": "variable=last_touch<br>channel_name=%{x}<br>value=%{y}<extra></extra>",
         "legendgroup": "last_touch",
         "marker": {
          "color": "rgb(17, 165, 121)"
         },
         "name": "last_touch",
         "offsetgroup": "last_touch",
         "orientation": "v",
         "showlegend": true,
         "textposition": "auto",
         "type": "bar",
         "x": [
          "Blog",
          "Connected TV/TV",
          "Direct",
          "Display",
          "Earned Media",
          "Email",
          "Facebook",
          "Gmail",
          "Influencer",
          "Internal",
          "Lead Gen",
          "Organic - Brand",
          "Organic - SEO",
          "Other",
          "Paid Email",
          "Paid Search - B",
          "Paid Search - NB",
          "Paid Social",
          "Partnerships",
          "Referral",
          "Warm Lead",
          "YouTube"
         ],
         "xaxis": "x",
         "y": [
          0.05024389222685117,
          0.004186991018904265,
          15.521175707078108,
          0.30355684887055917,
          0.7704063474783847,
          13.080159943056922,
          1.4926622982393702,
          0.058617874264659704,
          0.2260975150208303,
          0.010467477547260661,
          0.18004061381288336,
          1.7020118491845835,
          21.625808612640526,
          0.01674796407561706,
          0.48569095819289465,
          6.089978436996253,
          6.933657127305462,
          0.014654468566164926,
          28.925827454100112,
          1.7648167144681475,
          0.3098373353989156,
          0.4333535704565914
         ],
         "yaxis": "y"
        },
        {
         "alignmentgroup": "True",
         "hovertemplate": "variable=linear_touch<br>channel_name=%{x}<br>value=%{y}<extra></extra>",
         "legendgroup": "linear_touch",
         "marker": {
          "color": "rgb(57, 105, 172)"
         },
         "name": "linear_touch",
         "offsetgroup": "linear_touch",
         "orientation": "v",
         "showlegend": true,
         "textposition": "auto",
         "type": "bar",
         "x": [
          "Blog",
          "Connected TV/TV",
          "Direct",
          "Display",
          "Earned Media",
          "Email",
          "Facebook",
          "Gmail",
          "Influencer",
          "Internal",
          "Lead Gen",
          "Organic - Brand",
          "Organic - SEO",
          "Other",
          "Paid Email",
          "Paid Search - B",
          "Paid Search - NB",
          "Paid Social",
          "Partnerships",
          "Referral",
          "Warm Lead",
          "YouTube"
         ],
         "xaxis": "x",
         "y": [
          0.040668642527666554,
          0.002337736652221549,
          15.663151038069136,
          0.24082281623175622,
          0.49544107251310954,
          8.953232177135991,
          1.7410349981999886,
          0.054366235621076855,
          0.2523708836644547,
          0.0031053516723539977,
          0.22378470093419742,
          1.0649740431001997,
          19.692184611970266,
          0.018143627748585155,
          0.5984000135820431,
          6.648782008344854,
          8.542126408121756,
          0.017376012728452708,
          33.47905830504157,
          1.44598364065738,
          0.3352550292906608,
          0.48740064619228085
         ],
         "yaxis": "y"
        },
        {
         "alignmentgroup": "True",
         "hovertemplate": "variable=markov_model<br>channel_name=%{x}<br>value=%{y}<extra></extra>",
         "legendgroup": "markov_model",
         "marker": {
          "color": "rgb(242, 183, 1)"
         },
         "name": "markov_model",
         "offsetgroup": "markov_model",
         "orientation": "v",
         "showlegend": true,
         "textposition": "auto",
         "type": "bar",
         "x": [
          "Blog",
          "Connected TV/TV",
          "Direct",
          "Display",
          "Earned Media",
          "Email",
          "Facebook",
          "Gmail",
          "Influencer",
          "Internal",
          "Lead Gen",
          "Organic - Brand",
          "Organic - SEO",
          "Other",
          "Paid Email",
          "Paid Search - B",
          "Paid Search - NB",
          "Paid Social",
          "Partnerships",
          "Referral",
          "Warm Lead",
          "YouTube"
         ],
         "xaxis": "x",
         "y": [
          0.044495296211543356,
          0.006356470887363335,
          14.181286549707602,
          0.40681413679125344,
          0.8263412153572337,
          13.615560640732266,
          1.5382659547419273,
          0.044495296211543356,
          0.21612001017035343,
          0.006356470887363335,
          0.24790236460717008,
          1.6717518433765572,
          20.753877447241294,
          0.044495296211543356,
          0.4195270785659802,
          6.254767353165523,
          7.894736842105263,
          0.01271294177472667,
          27.943046020849227,
          3.0956013221459444,
          0.23518942283244343,
          0.5403000254258835
         ],
         "yaxis": "y"
        }
       ],
       "layout": {
        "barmode": "group",
        "legend": {
         "title": {
          "text": "variable"
         },
         "tracegroupgap": 0
        },
        "margin": {
         "t": 60
        },
        "paper_bgcolor": "rgba(0, 0, 0, 0)",
        "plot_bgcolor": "rgba(0, 0, 0, 0)",
        "template": {
         "data": {
          "bar": [
           {
            "error_x": {
             "color": "#2a3f5f"
            },
            "error_y": {
             "color": "#2a3f5f"
            },
            "marker": {
             "line": {
              "color": "#E5ECF6",
              "width": 0.5
             }
            },
            "type": "bar"
           }
          ],
          "barpolar": [
           {
            "marker": {
             "line": {
              "color": "#E5ECF6",
              "width": 0.5
             }
            },
            "type": "barpolar"
           }
          ],
          "carpet": [
           {
            "aaxis": {
             "endlinecolor": "#2a3f5f",
             "gridcolor": "white",
             "linecolor": "white",
             "minorgridcolor": "white",
             "startlinecolor": "#2a3f5f"
            },
            "baxis": {
             "endlinecolor": "#2a3f5f",
             "gridcolor": "white",
             "linecolor": "white",
             "minorgridcolor": "white",
             "startlinecolor": "#2a3f5f"
            },
            "type": "carpet"
           }
          ],
          "choropleth": [
           {
            "colorbar": {
             "outlinewidth": 0,
             "ticks": ""
            },
            "type": "choropleth"
           }
          ],
          "contour": [
           {
            "colorbar": {
             "outlinewidth": 0,
             "ticks": ""
            },
            "colorscale": [
             [
              0,
              "#0d0887"
             ],
             [
              0.1111111111111111,
              "#46039f"
             ],
             [
              0.2222222222222222,
              "#7201a8"
             ],
             [
              0.3333333333333333,
              "#9c179e"
             ],
             [
              0.4444444444444444,
              "#bd3786"
             ],
             [
              0.5555555555555556,
              "#d8576b"
             ],
             [
              0.6666666666666666,
              "#ed7953"
             ],
             [
              0.7777777777777778,
              "#fb9f3a"
             ],
             [
              0.8888888888888888,
              "#fdca26"
             ],
             [
              1,
              "#f0f921"
             ]
            ],
            "type": "contour"
           }
          ],
          "contourcarpet": [
           {
            "colorbar": {
             "outlinewidth": 0,
             "ticks": ""
            },
            "type": "contourcarpet"
           }
          ],
          "heatmap": [
           {
            "colorbar": {
             "outlinewidth": 0,
             "ticks": ""
            },
            "colorscale": [
             [
              0,
              "#0d0887"
             ],
             [
              0.1111111111111111,
              "#46039f"
             ],
             [
              0.2222222222222222,
              "#7201a8"
             ],
             [
              0.3333333333333333,
              "#9c179e"
             ],
             [
              0.4444444444444444,
              "#bd3786"
             ],
             [
              0.5555555555555556,
              "#d8576b"
             ],
             [
              0.6666666666666666,
              "#ed7953"
             ],
             [
              0.7777777777777778,
              "#fb9f3a"
             ],
             [
              0.8888888888888888,
              "#fdca26"
             ],
             [
              1,
              "#f0f921"
             ]
            ],
            "type": "heatmap"
           }
          ],
          "heatmapgl": [
           {
            "colorbar": {
             "outlinewidth": 0,
             "ticks": ""
            },
            "colorscale": [
             [
              0,
              "#0d0887"
             ],
             [
              0.1111111111111111,
              "#46039f"
             ],
             [
              0.2222222222222222,
              "#7201a8"
             ],
             [
              0.3333333333333333,
              "#9c179e"
             ],
             [
              0.4444444444444444,
              "#bd3786"
             ],
             [
              0.5555555555555556,
              "#d8576b"
             ],
             [
              0.6666666666666666,
              "#ed7953"
             ],
             [
              0.7777777777777778,
              "#fb9f3a"
             ],
             [
              0.8888888888888888,
              "#fdca26"
             ],
             [
              1,
              "#f0f921"
             ]
            ],
            "type": "heatmapgl"
           }
          ],
          "histogram": [
           {
            "marker": {
             "colorbar": {
              "outlinewidth": 0,
              "ticks": ""
             }
            },
            "type": "histogram"
           }
          ],
          "histogram2d": [
           {
            "colorbar": {
             "outlinewidth": 0,
             "ticks": ""
            },
            "colorscale": [
             [
              0,
              "#0d0887"
             ],
             [
              0.1111111111111111,
              "#46039f"
             ],
             [
              0.2222222222222222,
              "#7201a8"
             ],
             [
              0.3333333333333333,
              "#9c179e"
             ],
             [
              0.4444444444444444,
              "#bd3786"
             ],
             [
              0.5555555555555556,
              "#d8576b"
             ],
             [
              0.6666666666666666,
              "#ed7953"
             ],
             [
              0.7777777777777778,
              "#fb9f3a"
             ],
             [
              0.8888888888888888,
              "#fdca26"
             ],
             [
              1,
              "#f0f921"
             ]
            ],
            "type": "histogram2d"
           }
          ],
          "histogram2dcontour": [
           {
            "colorbar": {
             "outlinewidth": 0,
             "ticks": ""
            },
            "colorscale": [
             [
              0,
              "#0d0887"
             ],
             [
              0.1111111111111111,
              "#46039f"
             ],
             [
              0.2222222222222222,
              "#7201a8"
             ],
             [
              0.3333333333333333,
              "#9c179e"
             ],
             [
              0.4444444444444444,
              "#bd3786"
             ],
             [
              0.5555555555555556,
              "#d8576b"
             ],
             [
              0.6666666666666666,
              "#ed7953"
             ],
             [
              0.7777777777777778,
              "#fb9f3a"
             ],
             [
              0.8888888888888888,
              "#fdca26"
             ],
             [
              1,
              "#f0f921"
             ]
            ],
            "type": "histogram2dcontour"
           }
          ],
          "mesh3d": [
           {
            "colorbar": {
             "outlinewidth": 0,
             "ticks": ""
            },
            "type": "mesh3d"
           }
          ],
          "parcoords": [
           {
            "line": {
             "colorbar": {
              "outlinewidth": 0,
              "ticks": ""
             }
            },
            "type": "parcoords"
           }
          ],
          "pie": [
           {
            "automargin": true,
            "type": "pie"
           }
          ],
          "scatter": [
           {
            "marker": {
             "colorbar": {
              "outlinewidth": 0,
              "ticks": ""
             }
            },
            "type": "scatter"
           }
          ],
          "scatter3d": [
           {
            "line": {
             "colorbar": {
              "outlinewidth": 0,
              "ticks": ""
             }
            },
            "marker": {
             "colorbar": {
              "outlinewidth": 0,
              "ticks": ""
             }
            },
            "type": "scatter3d"
           }
          ],
          "scattercarpet": [
           {
            "marker": {
             "colorbar": {
              "outlinewidth": 0,
              "ticks": ""
             }
            },
            "type": "scattercarpet"
           }
          ],
          "scattergeo": [
           {
            "marker": {
             "colorbar": {
              "outlinewidth": 0,
              "ticks": ""
             }
            },
            "type": "scattergeo"
           }
          ],
          "scattergl": [
           {
            "marker": {
             "colorbar": {
              "outlinewidth": 0,
              "ticks": ""
             }
            },
            "type": "scattergl"
           }
          ],
          "scattermapbox": [
           {
            "marker": {
             "colorbar": {
              "outlinewidth": 0,
              "ticks": ""
             }
            },
            "type": "scattermapbox"
           }
          ],
          "scatterpolar": [
           {
            "marker": {
             "colorbar": {
              "outlinewidth": 0,
              "ticks": ""
             }
            },
            "type": "scatterpolar"
           }
          ],
          "scatterpolargl": [
           {
            "marker": {
             "colorbar": {
              "outlinewidth": 0,
              "ticks": ""
             }
            },
            "type": "scatterpolargl"
           }
          ],
          "scatterternary": [
           {
            "marker": {
             "colorbar": {
              "outlinewidth": 0,
              "ticks": ""
             }
            },
            "type": "scatterternary"
           }
          ],
          "surface": [
           {
            "colorbar": {
             "outlinewidth": 0,
             "ticks": ""
            },
            "colorscale": [
             [
              0,
              "#0d0887"
             ],
             [
              0.1111111111111111,
              "#46039f"
             ],
             [
              0.2222222222222222,
              "#7201a8"
             ],
             [
              0.3333333333333333,
              "#9c179e"
             ],
             [
              0.4444444444444444,
              "#bd3786"
             ],
             [
              0.5555555555555556,
              "#d8576b"
             ],
             [
              0.6666666666666666,
              "#ed7953"
             ],
             [
              0.7777777777777778,
              "#fb9f3a"
             ],
             [
              0.8888888888888888,
              "#fdca26"
             ],
             [
              1,
              "#f0f921"
             ]
            ],
            "type": "surface"
           }
          ],
          "table": [
           {
            "cells": {
             "fill": {
              "color": "#EBF0F8"
             },
             "line": {
              "color": "white"
             }
            },
            "header": {
             "fill": {
              "color": "#C8D4E3"
             },
             "line": {
              "color": "white"
             }
            },
            "type": "table"
           }
          ]
         },
         "layout": {
          "annotationdefaults": {
           "arrowcolor": "#2a3f5f",
           "arrowhead": 0,
           "arrowwidth": 1
          },
          "autotypenumbers": "strict",
          "coloraxis": {
           "colorbar": {
            "outlinewidth": 0,
            "ticks": ""
           }
          },
          "colorscale": {
           "diverging": [
            [
             0,
             "#8e0152"
            ],
            [
             0.1,
             "#c51b7d"
            ],
            [
             0.2,
             "#de77ae"
            ],
            [
             0.3,
             "#f1b6da"
            ],
            [
             0.4,
             "#fde0ef"
            ],
            [
             0.5,
             "#f7f7f7"
            ],
            [
             0.6,
             "#e6f5d0"
            ],
            [
             0.7,
             "#b8e186"
            ],
            [
             0.8,
             "#7fbc41"
            ],
            [
             0.9,
             "#4d9221"
            ],
            [
             1,
             "#276419"
            ]
           ],
           "sequential": [
            [
             0,
             "#0d0887"
            ],
            [
             0.1111111111111111,
             "#46039f"
            ],
            [
             0.2222222222222222,
             "#7201a8"
            ],
            [
             0.3333333333333333,
             "#9c179e"
            ],
            [
             0.4444444444444444,
             "#bd3786"
            ],
            [
             0.5555555555555556,
             "#d8576b"
            ],
            [
             0.6666666666666666,
             "#ed7953"
            ],
            [
             0.7777777777777778,
             "#fb9f3a"
            ],
            [
             0.8888888888888888,
             "#fdca26"
            ],
            [
             1,
             "#f0f921"
            ]
           ],
           "sequentialminus": [
            [
             0,
             "#0d0887"
            ],
            [
             0.1111111111111111,
             "#46039f"
            ],
            [
             0.2222222222222222,
             "#7201a8"
            ],
            [
             0.3333333333333333,
             "#9c179e"
            ],
            [
             0.4444444444444444,
             "#bd3786"
            ],
            [
             0.5555555555555556,
             "#d8576b"
            ],
            [
             0.6666666666666666,
             "#ed7953"
            ],
            [
             0.7777777777777778,
             "#fb9f3a"
            ],
            [
             0.8888888888888888,
             "#fdca26"
            ],
            [
             1,
             "#f0f921"
            ]
           ]
          },
          "colorway": [
           "#636efa",
           "#EF553B",
           "#00cc96",
           "#ab63fa",
           "#FFA15A",
           "#19d3f3",
           "#FF6692",
           "#B6E880",
           "#FF97FF",
           "#FECB52"
          ],
          "font": {
           "color": "#2a3f5f"
          },
          "geo": {
           "bgcolor": "white",
           "lakecolor": "white",
           "landcolor": "#E5ECF6",
           "showlakes": true,
           "showland": true,
           "subunitcolor": "white"
          },
          "hoverlabel": {
           "align": "left"
          },
          "hovermode": "closest",
          "mapbox": {
           "style": "light"
          },
          "paper_bgcolor": "white",
          "plot_bgcolor": "#E5ECF6",
          "polar": {
           "angularaxis": {
            "gridcolor": "white",
            "linecolor": "white",
            "ticks": ""
           },
           "bgcolor": "#E5ECF6",
           "radialaxis": {
            "gridcolor": "white",
            "linecolor": "white",
            "ticks": ""
           }
          },
          "scene": {
           "xaxis": {
            "backgroundcolor": "#E5ECF6",
            "gridcolor": "white",
            "gridwidth": 2,
            "linecolor": "white",
            "showbackground": true,
            "ticks": "",
            "zerolinecolor": "white"
           },
           "yaxis": {
            "backgroundcolor": "#E5ECF6",
            "gridcolor": "white",
            "gridwidth": 2,
            "linecolor": "white",
            "showbackground": true,
            "ticks": "",
            "zerolinecolor": "white"
           },
           "zaxis": {
            "backgroundcolor": "#E5ECF6",
            "gridcolor": "white",
            "gridwidth": 2,
            "linecolor": "white",
            "showbackground": true,
            "ticks": "",
            "zerolinecolor": "white"
           }
          },
          "shapedefaults": {
           "line": {
            "color": "#2a3f5f"
           }
          },
          "ternary": {
           "aaxis": {
            "gridcolor": "white",
            "linecolor": "white",
            "ticks": ""
           },
           "baxis": {
            "gridcolor": "white",
            "linecolor": "white",
            "ticks": ""
           },
           "bgcolor": "#E5ECF6",
           "caxis": {
            "gridcolor": "white",
            "linecolor": "white",
            "ticks": ""
           }
          },
          "title": {
           "x": 0.05
          },
          "xaxis": {
           "automargin": true,
           "gridcolor": "white",
           "linecolor": "white",
           "ticks": "",
           "title": {
            "standoff": 15
           },
           "zerolinecolor": "white",
           "zerolinewidth": 2
          },
          "yaxis": {
           "automargin": true,
           "gridcolor": "white",
           "linecolor": "white",
           "ticks": "",
           "title": {
            "standoff": 15
           },
           "zerolinecolor": "white",
           "zerolinewidth": 2
          }
         }
        },
        "xaxis": {
         "anchor": "y",
         "domain": [
          0,
          1
         ],
         "title": {
          "text": "channel_name"
         }
        },
        "yaxis": {
         "anchor": "x",
         "domain": [
          0,
          1
         ],
         "title": {
          "text": "value"
         }
        }
       }
      },
      "text/html": [
       "<div>                            <div id=\"126f98a2-2218-446b-879f-a3d6109d0d43\" class=\"plotly-graph-div\" style=\"height:525px; width:100%;\"></div>            <script type=\"text/javascript\">                require([\"plotly\"], function(Plotly) {                    window.PLOTLYENV=window.PLOTLYENV || {};                                    if (document.getElementById(\"126f98a2-2218-446b-879f-a3d6109d0d43\")) {                    Plotly.newPlot(                        \"126f98a2-2218-446b-879f-a3d6109d0d43\",                        [{\"alignmentgroup\": \"True\", \"hovertemplate\": \"variable=first_touch<br>channel_name=%{x}<br>value=%{y}<extra></extra>\", \"legendgroup\": \"first_touch\", \"marker\": {\"color\": \"rgb(127, 60, 141)\"}, \"name\": \"first_touch\", \"offsetgroup\": \"first_touch\", \"orientation\": \"v\", \"showlegend\": true, \"textposition\": \"auto\", \"type\": \"bar\", \"x\": [\"Blog\", \"Connected TV/TV\", \"Direct\", \"Display\", \"Earned Media\", \"Email\", \"Facebook\", \"Gmail\", \"Influencer\", \"Internal\", \"Lead Gen\", \"Organic - Brand\", \"Organic - SEO\", \"Other\", \"Paid Email\", \"Paid Search - B\", \"Paid Search - NB\", \"Paid Social\", \"Partnerships\", \"Referral\", \"Warm Lead\", \"YouTube\"], \"xaxis\": \"x\", \"y\": [0.012560973056712792, 0.0, 16.235057675801283, 0.07327234283082464, 0.04605690120794691, 2.309125546925702, 2.0599995813008984, 0.05024389222685117, 0.27634140724768147, 0.0, 0.2805283982665857, 0.38939016475809657, 18.634203529633428, 0.014654468566164926, 0.7557518789122197, 7.312579814516298, 10.557497854167103, 0.01674796407561706, 39.52728871396571, 0.5191868863441288, 0.38939016475809657, 0.54012184143865], \"yaxis\": \"y\"}, {\"alignmentgroup\": \"True\", \"hovertemplate\": \"variable=last_touch<br>channel_name=%{x}<br>value=%{y}<extra></extra>\", \"legendgroup\": \"last_touch\", \"marker\": {\"color\": \"rgb(17, 165, 121)\"}, \"name\": \"last_touch\", \"offsetgroup\": \"last_touch\", \"orientation\": \"v\", \"showlegend\": true, \"textposition\": \"auto\", \"type\": \"bar\", \"x\": [\"Blog\", \"Connected TV/TV\", \"Direct\", \"Display\", \"Earned Media\", \"Email\", \"Facebook\", \"Gmail\", \"Influencer\", \"Internal\", \"Lead Gen\", \"Organic - Brand\", \"Organic - SEO\", \"Other\", \"Paid Email\", \"Paid Search - B\", \"Paid Search - NB\", \"Paid Social\", \"Partnerships\", \"Referral\", \"Warm Lead\", \"YouTube\"], \"xaxis\": \"x\", \"y\": [0.05024389222685117, 0.004186991018904265, 15.521175707078108, 0.30355684887055917, 0.7704063474783847, 13.080159943056922, 1.4926622982393702, 0.058617874264659704, 0.2260975150208303, 0.010467477547260661, 0.18004061381288336, 1.7020118491845835, 21.625808612640526, 0.01674796407561706, 0.48569095819289465, 6.089978436996253, 6.933657127305462, 0.014654468566164926, 28.925827454100112, 1.7648167144681475, 0.3098373353989156, 0.4333535704565914], \"yaxis\": \"y\"}, {\"alignmentgroup\": \"True\", \"hovertemplate\": \"variable=linear_touch<br>channel_name=%{x}<br>value=%{y}<extra></extra>\", \"legendgroup\": \"linear_touch\", \"marker\": {\"color\": \"rgb(57, 105, 172)\"}, \"name\": \"linear_touch\", \"offsetgroup\": \"linear_touch\", \"orientation\": \"v\", \"showlegend\": true, \"textposition\": \"auto\", \"type\": \"bar\", \"x\": [\"Blog\", \"Connected TV/TV\", \"Direct\", \"Display\", \"Earned Media\", \"Email\", \"Facebook\", \"Gmail\", \"Influencer\", \"Internal\", \"Lead Gen\", \"Organic - Brand\", \"Organic - SEO\", \"Other\", \"Paid Email\", \"Paid Search - B\", \"Paid Search - NB\", \"Paid Social\", \"Partnerships\", \"Referral\", \"Warm Lead\", \"YouTube\"], \"xaxis\": \"x\", \"y\": [0.040668642527666554, 0.002337736652221549, 15.663151038069136, 0.24082281623175622, 0.49544107251310954, 8.953232177135991, 1.7410349981999886, 0.054366235621076855, 0.2523708836644547, 0.0031053516723539977, 0.22378470093419742, 1.0649740431001997, 19.692184611970266, 0.018143627748585155, 0.5984000135820431, 6.648782008344854, 8.542126408121756, 0.017376012728452708, 33.47905830504157, 1.44598364065738, 0.3352550292906608, 0.48740064619228085], \"yaxis\": \"y\"}, {\"alignmentgroup\": \"True\", \"hovertemplate\": \"variable=markov_model<br>channel_name=%{x}<br>value=%{y}<extra></extra>\", \"legendgroup\": \"markov_model\", \"marker\": {\"color\": \"rgb(242, 183, 1)\"}, \"name\": \"markov_model\", \"offsetgroup\": \"markov_model\", \"orientation\": \"v\", \"showlegend\": true, \"textposition\": \"auto\", \"type\": \"bar\", \"x\": [\"Blog\", \"Connected TV/TV\", \"Direct\", \"Display\", \"Earned Media\", \"Email\", \"Facebook\", \"Gmail\", \"Influencer\", \"Internal\", \"Lead Gen\", \"Organic - Brand\", \"Organic - SEO\", \"Other\", \"Paid Email\", \"Paid Search - B\", \"Paid Search - NB\", \"Paid Social\", \"Partnerships\", \"Referral\", \"Warm Lead\", \"YouTube\"], \"xaxis\": \"x\", \"y\": [0.044495296211543356, 0.006356470887363335, 14.181286549707602, 0.40681413679125344, 0.8263412153572337, 13.615560640732266, 1.5382659547419273, 0.044495296211543356, 0.21612001017035343, 0.006356470887363335, 0.24790236460717008, 1.6717518433765572, 20.753877447241294, 0.044495296211543356, 0.4195270785659802, 6.254767353165523, 7.894736842105263, 0.01271294177472667, 27.943046020849227, 3.0956013221459444, 0.23518942283244343, 0.5403000254258835], \"yaxis\": \"y\"}],                        {\"barmode\": \"group\", \"legend\": {\"title\": {\"text\": \"variable\"}, \"tracegroupgap\": 0}, \"margin\": {\"t\": 60}, \"paper_bgcolor\": \"rgba(0, 0, 0, 0)\", \"plot_bgcolor\": \"rgba(0, 0, 0, 0)\", \"template\": {\"data\": {\"bar\": [{\"error_x\": {\"color\": \"#2a3f5f\"}, \"error_y\": {\"color\": \"#2a3f5f\"}, \"marker\": {\"line\": {\"color\": \"#E5ECF6\", \"width\": 0.5}}, \"type\": \"bar\"}], \"barpolar\": [{\"marker\": {\"line\": {\"color\": \"#E5ECF6\", \"width\": 0.5}}, \"type\": \"barpolar\"}], \"carpet\": [{\"aaxis\": {\"endlinecolor\": \"#2a3f5f\", \"gridcolor\": \"white\", \"linecolor\": \"white\", \"minorgridcolor\": \"white\", \"startlinecolor\": \"#2a3f5f\"}, \"baxis\": {\"endlinecolor\": \"#2a3f5f\", \"gridcolor\": \"white\", \"linecolor\": \"white\", \"minorgridcolor\": \"white\", \"startlinecolor\": \"#2a3f5f\"}, \"type\": \"carpet\"}], \"choropleth\": [{\"colorbar\": {\"outlinewidth\": 0, \"ticks\": \"\"}, \"type\": \"choropleth\"}], \"contour\": [{\"colorbar\": {\"outlinewidth\": 0, \"ticks\": \"\"}, \"colorscale\": [[0.0, \"#0d0887\"], [0.1111111111111111, \"#46039f\"], [0.2222222222222222, \"#7201a8\"], [0.3333333333333333, \"#9c179e\"], [0.4444444444444444, \"#bd3786\"], [0.5555555555555556, \"#d8576b\"], [0.6666666666666666, \"#ed7953\"], [0.7777777777777778, \"#fb9f3a\"], [0.8888888888888888, \"#fdca26\"], [1.0, \"#f0f921\"]], \"type\": \"contour\"}], \"contourcarpet\": [{\"colorbar\": {\"outlinewidth\": 0, \"ticks\": \"\"}, \"type\": \"contourcarpet\"}], \"heatmap\": [{\"colorbar\": {\"outlinewidth\": 0, \"ticks\": \"\"}, \"colorscale\": [[0.0, \"#0d0887\"], [0.1111111111111111, \"#46039f\"], [0.2222222222222222, \"#7201a8\"], [0.3333333333333333, \"#9c179e\"], [0.4444444444444444, \"#bd3786\"], [0.5555555555555556, \"#d8576b\"], [0.6666666666666666, \"#ed7953\"], [0.7777777777777778, \"#fb9f3a\"], [0.8888888888888888, \"#fdca26\"], [1.0, \"#f0f921\"]], \"type\": \"heatmap\"}], \"heatmapgl\": [{\"colorbar\": {\"outlinewidth\": 0, \"ticks\": \"\"}, \"colorscale\": [[0.0, \"#0d0887\"], [0.1111111111111111, \"#46039f\"], [0.2222222222222222, \"#7201a8\"], [0.3333333333333333, \"#9c179e\"], [0.4444444444444444, \"#bd3786\"], [0.5555555555555556, \"#d8576b\"], [0.6666666666666666, \"#ed7953\"], [0.7777777777777778, \"#fb9f3a\"], [0.8888888888888888, \"#fdca26\"], [1.0, \"#f0f921\"]], \"type\": \"heatmapgl\"}], \"histogram\": [{\"marker\": {\"colorbar\": {\"outlinewidth\": 0, \"ticks\": \"\"}}, \"type\": \"histogram\"}], \"histogram2d\": [{\"colorbar\": {\"outlinewidth\": 0, \"ticks\": \"\"}, \"colorscale\": [[0.0, \"#0d0887\"], [0.1111111111111111, \"#46039f\"], [0.2222222222222222, \"#7201a8\"], [0.3333333333333333, \"#9c179e\"], [0.4444444444444444, \"#bd3786\"], [0.5555555555555556, \"#d8576b\"], [0.6666666666666666, \"#ed7953\"], [0.7777777777777778, \"#fb9f3a\"], [0.8888888888888888, \"#fdca26\"], [1.0, \"#f0f921\"]], \"type\": \"histogram2d\"}], \"histogram2dcontour\": [{\"colorbar\": {\"outlinewidth\": 0, \"ticks\": \"\"}, \"colorscale\": [[0.0, \"#0d0887\"], [0.1111111111111111, \"#46039f\"], [0.2222222222222222, \"#7201a8\"], [0.3333333333333333, \"#9c179e\"], [0.4444444444444444, \"#bd3786\"], [0.5555555555555556, \"#d8576b\"], [0.6666666666666666, \"#ed7953\"], [0.7777777777777778, \"#fb9f3a\"], [0.8888888888888888, \"#fdca26\"], [1.0, \"#f0f921\"]], \"type\": \"histogram2dcontour\"}], \"mesh3d\": [{\"colorbar\": {\"outlinewidth\": 0, \"ticks\": \"\"}, \"type\": \"mesh3d\"}], \"parcoords\": [{\"line\": {\"colorbar\": {\"outlinewidth\": 0, \"ticks\": \"\"}}, \"type\": \"parcoords\"}], \"pie\": [{\"automargin\": true, \"type\": \"pie\"}], \"scatter\": [{\"marker\": {\"colorbar\": {\"outlinewidth\": 0, \"ticks\": \"\"}}, \"type\": \"scatter\"}], \"scatter3d\": [{\"line\": {\"colorbar\": {\"outlinewidth\": 0, \"ticks\": \"\"}}, \"marker\": {\"colorbar\": {\"outlinewidth\": 0, \"ticks\": \"\"}}, \"type\": \"scatter3d\"}], \"scattercarpet\": [{\"marker\": {\"colorbar\": {\"outlinewidth\": 0, \"ticks\": \"\"}}, \"type\": \"scattercarpet\"}], \"scattergeo\": [{\"marker\": {\"colorbar\": {\"outlinewidth\": 0, \"ticks\": \"\"}}, \"type\": \"scattergeo\"}], \"scattergl\": [{\"marker\": {\"colorbar\": {\"outlinewidth\": 0, \"ticks\": \"\"}}, \"type\": \"scattergl\"}], \"scattermapbox\": [{\"marker\": {\"colorbar\": {\"outlinewidth\": 0, \"ticks\": \"\"}}, \"type\": \"scattermapbox\"}], \"scatterpolar\": [{\"marker\": {\"colorbar\": {\"outlinewidth\": 0, \"ticks\": \"\"}}, \"type\": \"scatterpolar\"}], \"scatterpolargl\": [{\"marker\": {\"colorbar\": {\"outlinewidth\": 0, \"ticks\": \"\"}}, \"type\": \"scatterpolargl\"}], \"scatterternary\": [{\"marker\": {\"colorbar\": {\"outlinewidth\": 0, \"ticks\": \"\"}}, \"type\": \"scatterternary\"}], \"surface\": [{\"colorbar\": {\"outlinewidth\": 0, \"ticks\": \"\"}, \"colorscale\": [[0.0, \"#0d0887\"], [0.1111111111111111, \"#46039f\"], [0.2222222222222222, \"#7201a8\"], [0.3333333333333333, \"#9c179e\"], [0.4444444444444444, \"#bd3786\"], [0.5555555555555556, \"#d8576b\"], [0.6666666666666666, \"#ed7953\"], [0.7777777777777778, \"#fb9f3a\"], [0.8888888888888888, \"#fdca26\"], [1.0, \"#f0f921\"]], \"type\": \"surface\"}], \"table\": [{\"cells\": {\"fill\": {\"color\": \"#EBF0F8\"}, \"line\": {\"color\": \"white\"}}, \"header\": {\"fill\": {\"color\": \"#C8D4E3\"}, \"line\": {\"color\": \"white\"}}, \"type\": \"table\"}]}, \"layout\": {\"annotationdefaults\": {\"arrowcolor\": \"#2a3f5f\", \"arrowhead\": 0, \"arrowwidth\": 1}, \"autotypenumbers\": \"strict\", \"coloraxis\": {\"colorbar\": {\"outlinewidth\": 0, \"ticks\": \"\"}}, \"colorscale\": {\"diverging\": [[0, \"#8e0152\"], [0.1, \"#c51b7d\"], [0.2, \"#de77ae\"], [0.3, \"#f1b6da\"], [0.4, \"#fde0ef\"], [0.5, \"#f7f7f7\"], [0.6, \"#e6f5d0\"], [0.7, \"#b8e186\"], [0.8, \"#7fbc41\"], [0.9, \"#4d9221\"], [1, \"#276419\"]], \"sequential\": [[0.0, \"#0d0887\"], [0.1111111111111111, \"#46039f\"], [0.2222222222222222, \"#7201a8\"], [0.3333333333333333, \"#9c179e\"], [0.4444444444444444, \"#bd3786\"], [0.5555555555555556, \"#d8576b\"], [0.6666666666666666, \"#ed7953\"], [0.7777777777777778, \"#fb9f3a\"], [0.8888888888888888, \"#fdca26\"], [1.0, \"#f0f921\"]], \"sequentialminus\": [[0.0, \"#0d0887\"], [0.1111111111111111, \"#46039f\"], [0.2222222222222222, \"#7201a8\"], [0.3333333333333333, \"#9c179e\"], [0.4444444444444444, \"#bd3786\"], [0.5555555555555556, \"#d8576b\"], [0.6666666666666666, \"#ed7953\"], [0.7777777777777778, \"#fb9f3a\"], [0.8888888888888888, \"#fdca26\"], [1.0, \"#f0f921\"]]}, \"colorway\": [\"#636efa\", \"#EF553B\", \"#00cc96\", \"#ab63fa\", \"#FFA15A\", \"#19d3f3\", \"#FF6692\", \"#B6E880\", \"#FF97FF\", \"#FECB52\"], \"font\": {\"color\": \"#2a3f5f\"}, \"geo\": {\"bgcolor\": \"white\", \"lakecolor\": \"white\", \"landcolor\": \"#E5ECF6\", \"showlakes\": true, \"showland\": true, \"subunitcolor\": \"white\"}, \"hoverlabel\": {\"align\": \"left\"}, \"hovermode\": \"closest\", \"mapbox\": {\"style\": \"light\"}, \"paper_bgcolor\": \"white\", \"plot_bgcolor\": \"#E5ECF6\", \"polar\": {\"angularaxis\": {\"gridcolor\": \"white\", \"linecolor\": \"white\", \"ticks\": \"\"}, \"bgcolor\": \"#E5ECF6\", \"radialaxis\": {\"gridcolor\": \"white\", \"linecolor\": \"white\", \"ticks\": \"\"}}, \"scene\": {\"xaxis\": {\"backgroundcolor\": \"#E5ECF6\", \"gridcolor\": \"white\", \"gridwidth\": 2, \"linecolor\": \"white\", \"showbackground\": true, \"ticks\": \"\", \"zerolinecolor\": \"white\"}, \"yaxis\": {\"backgroundcolor\": \"#E5ECF6\", \"gridcolor\": \"white\", \"gridwidth\": 2, \"linecolor\": \"white\", \"showbackground\": true, \"ticks\": \"\", \"zerolinecolor\": \"white\"}, \"zaxis\": {\"backgroundcolor\": \"#E5ECF6\", \"gridcolor\": \"white\", \"gridwidth\": 2, \"linecolor\": \"white\", \"showbackground\": true, \"ticks\": \"\", \"zerolinecolor\": \"white\"}}, \"shapedefaults\": {\"line\": {\"color\": \"#2a3f5f\"}}, \"ternary\": {\"aaxis\": {\"gridcolor\": \"white\", \"linecolor\": \"white\", \"ticks\": \"\"}, \"baxis\": {\"gridcolor\": \"white\", \"linecolor\": \"white\", \"ticks\": \"\"}, \"bgcolor\": \"#E5ECF6\", \"caxis\": {\"gridcolor\": \"white\", \"linecolor\": \"white\", \"ticks\": \"\"}}, \"title\": {\"x\": 0.05}, \"xaxis\": {\"automargin\": true, \"gridcolor\": \"white\", \"linecolor\": \"white\", \"ticks\": \"\", \"title\": {\"standoff\": 15}, \"zerolinecolor\": \"white\", \"zerolinewidth\": 2}, \"yaxis\": {\"automargin\": true, \"gridcolor\": \"white\", \"linecolor\": \"white\", \"ticks\": \"\", \"title\": {\"standoff\": 15}, \"zerolinecolor\": \"white\", \"zerolinewidth\": 2}}}, \"xaxis\": {\"anchor\": \"y\", \"domain\": [0.0, 1.0], \"title\": {\"text\": \"channel_name\"}}, \"yaxis\": {\"anchor\": \"x\", \"domain\": [0.0, 1.0], \"title\": {\"text\": \"value\"}}},                        {\"responsive\": true}                    ).then(function(){\n",
       "                            \n",
       "var gd = document.getElementById('126f98a2-2218-446b-879f-a3d6109d0d43');\n",
       "var x = new MutationObserver(function (mutations, observer) {{\n",
       "        var display = window.getComputedStyle(gd).display;\n",
       "        if (!display || display === 'none') {{\n",
       "            console.log([gd, 'removed!']);\n",
       "            Plotly.purge(gd);\n",
       "            observer.disconnect();\n",
       "        }}\n",
       "}});\n",
       "\n",
       "// Listen for the removal of the full notebook cells\n",
       "var notebookContainer = gd.closest('#notebook-container');\n",
       "if (notebookContainer) {{\n",
       "    x.observe(notebookContainer, {childList: true});\n",
       "}}\n",
       "\n",
       "// Listen for the clearing of the current output cell\n",
       "var outputEl = gd.closest('.output');\n",
       "if (outputEl) {{\n",
       "    x.observe(outputEl, {childList: true});\n",
       "}}\n",
       "\n",
       "                        })                };                });            </script>        </div>"
      ]
     },
     "metadata": {},
     "output_type": "display_data"
    }
   ],
   "source": [
    "R1=pd.melt(R, id_vars=\"channel_name\")\n",
    "fig = px.bar(R1, x=\"channel_name\", y=\"value\", color=\"variable\", \n",
    "             hover_data=['value'], \n",
    "             barmode = 'group',\n",
    "             color_discrete_sequence=px.colors.qualitative.Bold)\n",
    "fig.update_layout({ 'plot_bgcolor': 'rgba(0, 0, 0, 0)', 'paper_bgcolor': 'rgba(0, 0, 0, 0)'})\n",
    "fig.show()"
   ]
  },
  {
   "cell_type": "markdown",
   "metadata": {},
   "source": [
    "### 1. Email attribution is significantly reduced in first touch model upon improving the user channel paths\n",
    "### 2. Organic - SEO/Direct is also deriving consistent attribution from all models\n",
    "### 3. Top attributing channel from Markov models are: \n",
    "\n",
    "    a. Partnerships\n",
    "    \n",
    "    b. Organic - SEO\n",
    "    \n",
    "    c. Direct\n",
    "    \n",
    "    d. Email\n",
    "    \n",
    "    e. Paid Search - NB\n",
    "    \n",
    "    f. Paid Search B"
   ]
  },
  {
   "cell_type": "code",
   "execution_count": 64,
   "metadata": {},
   "outputs": [
    {
     "data": {
      "application/vnd.plotly.v1+json": {
       "config": {
        "plotlyServerURL": "https://plot.ly"
       },
       "data": [
        {
         "name": "First Touch model",
         "type": "bar",
         "x": [
          "Blog",
          "Connected TV/TV",
          "Direct",
          "Display",
          "Earned Media",
          "Email",
          "Facebook",
          "Gmail",
          "Influencer",
          "Internal",
          "Lead Gen",
          "Organic - Brand",
          "Organic - SEO",
          "Other",
          "Paid Email",
          "Paid Search - B",
          "Paid Search - NB",
          "Paid Social",
          "Partnerships",
          "Referral",
          "Warm Lead",
          "YouTube"
         ],
         "xaxis": "x",
         "y": [
          0.012560973056712792,
          0,
          16.235057675801283,
          0.07327234283082464,
          0.04605690120794691,
          2.309125546925702,
          2.0599995813008984,
          0.05024389222685117,
          0.27634140724768147,
          0,
          0.2805283982665857,
          0.38939016475809657,
          18.634203529633428,
          0.014654468566164926,
          0.7557518789122197,
          7.312579814516298,
          10.557497854167103,
          0.01674796407561706,
          39.52728871396571,
          0.5191868863441288,
          0.38939016475809657,
          0.54012184143865
         ],
         "yaxis": "y"
        },
        {
         "name": "Last Touch model",
         "type": "bar",
         "x": [
          "Blog",
          "Connected TV/TV",
          "Direct",
          "Display",
          "Earned Media",
          "Email",
          "Facebook",
          "Gmail",
          "Influencer",
          "Internal",
          "Lead Gen",
          "Organic - Brand",
          "Organic - SEO",
          "Other",
          "Paid Email",
          "Paid Search - B",
          "Paid Search - NB",
          "Paid Social",
          "Partnerships",
          "Referral",
          "Warm Lead",
          "YouTube"
         ],
         "xaxis": "x3",
         "y": [
          0.05024389222685117,
          0.004186991018904265,
          15.521175707078108,
          0.30355684887055917,
          0.7704063474783847,
          13.080159943056922,
          1.4926622982393702,
          0.058617874264659704,
          0.2260975150208303,
          0.010467477547260661,
          0.18004061381288336,
          1.7020118491845835,
          21.625808612640526,
          0.01674796407561706,
          0.48569095819289465,
          6.089978436996253,
          6.933657127305462,
          0.014654468566164926,
          28.925827454100112,
          1.7648167144681475,
          0.3098373353989156,
          0.4333535704565914
         ],
         "yaxis": "y3"
        },
        {
         "name": "Linear Touch model",
         "type": "bar",
         "x": [
          "Blog",
          "Connected TV/TV",
          "Direct",
          "Display",
          "Earned Media",
          "Email",
          "Facebook",
          "Gmail",
          "Influencer",
          "Internal",
          "Lead Gen",
          "Organic - Brand",
          "Organic - SEO",
          "Other",
          "Paid Email",
          "Paid Search - B",
          "Paid Search - NB",
          "Paid Social",
          "Partnerships",
          "Referral",
          "Warm Lead",
          "YouTube"
         ],
         "xaxis": "x2",
         "y": [
          0.040668642527666554,
          0.002337736652221549,
          15.663151038069136,
          0.24082281623175622,
          0.49544107251310954,
          8.953232177135991,
          1.7410349981999886,
          0.054366235621076855,
          0.2523708836644547,
          0.0031053516723539977,
          0.22378470093419742,
          1.0649740431001997,
          19.692184611970266,
          0.018143627748585155,
          0.5984000135820431,
          6.648782008344854,
          8.542126408121756,
          0.017376012728452708,
          33.47905830504157,
          1.44598364065738,
          0.3352550292906608,
          0.48740064619228085
         ],
         "yaxis": "y2"
        },
        {
         "name": "Markov Conv model",
         "type": "bar",
         "x": [
          "Blog",
          "Connected TV/TV",
          "Direct",
          "Display",
          "Earned Media",
          "Email",
          "Facebook",
          "Gmail",
          "Influencer",
          "Internal",
          "Lead Gen",
          "Organic - Brand",
          "Organic - SEO",
          "Other",
          "Paid Email",
          "Paid Search - B",
          "Paid Search - NB",
          "Paid Social",
          "Partnerships",
          "Referral",
          "Warm Lead",
          "YouTube"
         ],
         "xaxis": "x4",
         "y": [
          0.044495296211543356,
          0.006356470887363335,
          14.181286549707602,
          0.40681413679125344,
          0.8263412153572337,
          13.615560640732266,
          1.5382659547419273,
          0.044495296211543356,
          0.21612001017035343,
          0.006356470887363335,
          0.24790236460717008,
          1.6717518433765572,
          20.753877447241294,
          0.044495296211543356,
          0.4195270785659802,
          6.254767353165523,
          7.894736842105263,
          0.01271294177472667,
          27.943046020849227,
          3.0956013221459444,
          0.23518942283244343,
          0.5403000254258835
         ],
         "yaxis": "y4"
        }
       ],
       "layout": {
        "annotations": [
         {
          "font": {
           "size": 16
          },
          "showarrow": false,
          "text": "First Touch",
          "x": 0.225,
          "xanchor": "center",
          "xref": "paper",
          "y": 1,
          "yanchor": "bottom",
          "yref": "paper"
         },
         {
          "font": {
           "size": 16
          },
          "showarrow": false,
          "text": "Linear Touch",
          "x": 0.775,
          "xanchor": "center",
          "xref": "paper",
          "y": 1,
          "yanchor": "bottom",
          "yref": "paper"
         },
         {
          "font": {
           "size": 16
          },
          "showarrow": false,
          "text": "Last Touch",
          "x": 0.225,
          "xanchor": "center",
          "xref": "paper",
          "y": 0.375,
          "yanchor": "bottom",
          "yref": "paper"
         },
         {
          "font": {
           "size": 16
          },
          "showarrow": false,
          "text": "Markov Conv model",
          "x": 0.775,
          "xanchor": "center",
          "xref": "paper",
          "y": 0.375,
          "yanchor": "bottom",
          "yref": "paper"
         }
        ],
        "barmode": "stack",
        "height": 1000,
        "template": {
         "data": {
          "bar": [
           {
            "error_x": {
             "color": "#2a3f5f"
            },
            "error_y": {
             "color": "#2a3f5f"
            },
            "marker": {
             "line": {
              "color": "#E5ECF6",
              "width": 0.5
             }
            },
            "type": "bar"
           }
          ],
          "barpolar": [
           {
            "marker": {
             "line": {
              "color": "#E5ECF6",
              "width": 0.5
             }
            },
            "type": "barpolar"
           }
          ],
          "carpet": [
           {
            "aaxis": {
             "endlinecolor": "#2a3f5f",
             "gridcolor": "white",
             "linecolor": "white",
             "minorgridcolor": "white",
             "startlinecolor": "#2a3f5f"
            },
            "baxis": {
             "endlinecolor": "#2a3f5f",
             "gridcolor": "white",
             "linecolor": "white",
             "minorgridcolor": "white",
             "startlinecolor": "#2a3f5f"
            },
            "type": "carpet"
           }
          ],
          "choropleth": [
           {
            "colorbar": {
             "outlinewidth": 0,
             "ticks": ""
            },
            "type": "choropleth"
           }
          ],
          "contour": [
           {
            "colorbar": {
             "outlinewidth": 0,
             "ticks": ""
            },
            "colorscale": [
             [
              0,
              "#0d0887"
             ],
             [
              0.1111111111111111,
              "#46039f"
             ],
             [
              0.2222222222222222,
              "#7201a8"
             ],
             [
              0.3333333333333333,
              "#9c179e"
             ],
             [
              0.4444444444444444,
              "#bd3786"
             ],
             [
              0.5555555555555556,
              "#d8576b"
             ],
             [
              0.6666666666666666,
              "#ed7953"
             ],
             [
              0.7777777777777778,
              "#fb9f3a"
             ],
             [
              0.8888888888888888,
              "#fdca26"
             ],
             [
              1,
              "#f0f921"
             ]
            ],
            "type": "contour"
           }
          ],
          "contourcarpet": [
           {
            "colorbar": {
             "outlinewidth": 0,
             "ticks": ""
            },
            "type": "contourcarpet"
           }
          ],
          "heatmap": [
           {
            "colorbar": {
             "outlinewidth": 0,
             "ticks": ""
            },
            "colorscale": [
             [
              0,
              "#0d0887"
             ],
             [
              0.1111111111111111,
              "#46039f"
             ],
             [
              0.2222222222222222,
              "#7201a8"
             ],
             [
              0.3333333333333333,
              "#9c179e"
             ],
             [
              0.4444444444444444,
              "#bd3786"
             ],
             [
              0.5555555555555556,
              "#d8576b"
             ],
             [
              0.6666666666666666,
              "#ed7953"
             ],
             [
              0.7777777777777778,
              "#fb9f3a"
             ],
             [
              0.8888888888888888,
              "#fdca26"
             ],
             [
              1,
              "#f0f921"
             ]
            ],
            "type": "heatmap"
           }
          ],
          "heatmapgl": [
           {
            "colorbar": {
             "outlinewidth": 0,
             "ticks": ""
            },
            "colorscale": [
             [
              0,
              "#0d0887"
             ],
             [
              0.1111111111111111,
              "#46039f"
             ],
             [
              0.2222222222222222,
              "#7201a8"
             ],
             [
              0.3333333333333333,
              "#9c179e"
             ],
             [
              0.4444444444444444,
              "#bd3786"
             ],
             [
              0.5555555555555556,
              "#d8576b"
             ],
             [
              0.6666666666666666,
              "#ed7953"
             ],
             [
              0.7777777777777778,
              "#fb9f3a"
             ],
             [
              0.8888888888888888,
              "#fdca26"
             ],
             [
              1,
              "#f0f921"
             ]
            ],
            "type": "heatmapgl"
           }
          ],
          "histogram": [
           {
            "marker": {
             "colorbar": {
              "outlinewidth": 0,
              "ticks": ""
             }
            },
            "type": "histogram"
           }
          ],
          "histogram2d": [
           {
            "colorbar": {
             "outlinewidth": 0,
             "ticks": ""
            },
            "colorscale": [
             [
              0,
              "#0d0887"
             ],
             [
              0.1111111111111111,
              "#46039f"
             ],
             [
              0.2222222222222222,
              "#7201a8"
             ],
             [
              0.3333333333333333,
              "#9c179e"
             ],
             [
              0.4444444444444444,
              "#bd3786"
             ],
             [
              0.5555555555555556,
              "#d8576b"
             ],
             [
              0.6666666666666666,
              "#ed7953"
             ],
             [
              0.7777777777777778,
              "#fb9f3a"
             ],
             [
              0.8888888888888888,
              "#fdca26"
             ],
             [
              1,
              "#f0f921"
             ]
            ],
            "type": "histogram2d"
           }
          ],
          "histogram2dcontour": [
           {
            "colorbar": {
             "outlinewidth": 0,
             "ticks": ""
            },
            "colorscale": [
             [
              0,
              "#0d0887"
             ],
             [
              0.1111111111111111,
              "#46039f"
             ],
             [
              0.2222222222222222,
              "#7201a8"
             ],
             [
              0.3333333333333333,
              "#9c179e"
             ],
             [
              0.4444444444444444,
              "#bd3786"
             ],
             [
              0.5555555555555556,
              "#d8576b"
             ],
             [
              0.6666666666666666,
              "#ed7953"
             ],
             [
              0.7777777777777778,
              "#fb9f3a"
             ],
             [
              0.8888888888888888,
              "#fdca26"
             ],
             [
              1,
              "#f0f921"
             ]
            ],
            "type": "histogram2dcontour"
           }
          ],
          "mesh3d": [
           {
            "colorbar": {
             "outlinewidth": 0,
             "ticks": ""
            },
            "type": "mesh3d"
           }
          ],
          "parcoords": [
           {
            "line": {
             "colorbar": {
              "outlinewidth": 0,
              "ticks": ""
             }
            },
            "type": "parcoords"
           }
          ],
          "pie": [
           {
            "automargin": true,
            "type": "pie"
           }
          ],
          "scatter": [
           {
            "marker": {
             "colorbar": {
              "outlinewidth": 0,
              "ticks": ""
             }
            },
            "type": "scatter"
           }
          ],
          "scatter3d": [
           {
            "line": {
             "colorbar": {
              "outlinewidth": 0,
              "ticks": ""
             }
            },
            "marker": {
             "colorbar": {
              "outlinewidth": 0,
              "ticks": ""
             }
            },
            "type": "scatter3d"
           }
          ],
          "scattercarpet": [
           {
            "marker": {
             "colorbar": {
              "outlinewidth": 0,
              "ticks": ""
             }
            },
            "type": "scattercarpet"
           }
          ],
          "scattergeo": [
           {
            "marker": {
             "colorbar": {
              "outlinewidth": 0,
              "ticks": ""
             }
            },
            "type": "scattergeo"
           }
          ],
          "scattergl": [
           {
            "marker": {
             "colorbar": {
              "outlinewidth": 0,
              "ticks": ""
             }
            },
            "type": "scattergl"
           }
          ],
          "scattermapbox": [
           {
            "marker": {
             "colorbar": {
              "outlinewidth": 0,
              "ticks": ""
             }
            },
            "type": "scattermapbox"
           }
          ],
          "scatterpolar": [
           {
            "marker": {
             "colorbar": {
              "outlinewidth": 0,
              "ticks": ""
             }
            },
            "type": "scatterpolar"
           }
          ],
          "scatterpolargl": [
           {
            "marker": {
             "colorbar": {
              "outlinewidth": 0,
              "ticks": ""
             }
            },
            "type": "scatterpolargl"
           }
          ],
          "scatterternary": [
           {
            "marker": {
             "colorbar": {
              "outlinewidth": 0,
              "ticks": ""
             }
            },
            "type": "scatterternary"
           }
          ],
          "surface": [
           {
            "colorbar": {
             "outlinewidth": 0,
             "ticks": ""
            },
            "colorscale": [
             [
              0,
              "#0d0887"
             ],
             [
              0.1111111111111111,
              "#46039f"
             ],
             [
              0.2222222222222222,
              "#7201a8"
             ],
             [
              0.3333333333333333,
              "#9c179e"
             ],
             [
              0.4444444444444444,
              "#bd3786"
             ],
             [
              0.5555555555555556,
              "#d8576b"
             ],
             [
              0.6666666666666666,
              "#ed7953"
             ],
             [
              0.7777777777777778,
              "#fb9f3a"
             ],
             [
              0.8888888888888888,
              "#fdca26"
             ],
             [
              1,
              "#f0f921"
             ]
            ],
            "type": "surface"
           }
          ],
          "table": [
           {
            "cells": {
             "fill": {
              "color": "#EBF0F8"
             },
             "line": {
              "color": "white"
             }
            },
            "header": {
             "fill": {
              "color": "#C8D4E3"
             },
             "line": {
              "color": "white"
             }
            },
            "type": "table"
           }
          ]
         },
         "layout": {
          "annotationdefaults": {
           "arrowcolor": "#2a3f5f",
           "arrowhead": 0,
           "arrowwidth": 1
          },
          "autotypenumbers": "strict",
          "coloraxis": {
           "colorbar": {
            "outlinewidth": 0,
            "ticks": ""
           }
          },
          "colorscale": {
           "diverging": [
            [
             0,
             "#8e0152"
            ],
            [
             0.1,
             "#c51b7d"
            ],
            [
             0.2,
             "#de77ae"
            ],
            [
             0.3,
             "#f1b6da"
            ],
            [
             0.4,
             "#fde0ef"
            ],
            [
             0.5,
             "#f7f7f7"
            ],
            [
             0.6,
             "#e6f5d0"
            ],
            [
             0.7,
             "#b8e186"
            ],
            [
             0.8,
             "#7fbc41"
            ],
            [
             0.9,
             "#4d9221"
            ],
            [
             1,
             "#276419"
            ]
           ],
           "sequential": [
            [
             0,
             "#0d0887"
            ],
            [
             0.1111111111111111,
             "#46039f"
            ],
            [
             0.2222222222222222,
             "#7201a8"
            ],
            [
             0.3333333333333333,
             "#9c179e"
            ],
            [
             0.4444444444444444,
             "#bd3786"
            ],
            [
             0.5555555555555556,
             "#d8576b"
            ],
            [
             0.6666666666666666,
             "#ed7953"
            ],
            [
             0.7777777777777778,
             "#fb9f3a"
            ],
            [
             0.8888888888888888,
             "#fdca26"
            ],
            [
             1,
             "#f0f921"
            ]
           ],
           "sequentialminus": [
            [
             0,
             "#0d0887"
            ],
            [
             0.1111111111111111,
             "#46039f"
            ],
            [
             0.2222222222222222,
             "#7201a8"
            ],
            [
             0.3333333333333333,
             "#9c179e"
            ],
            [
             0.4444444444444444,
             "#bd3786"
            ],
            [
             0.5555555555555556,
             "#d8576b"
            ],
            [
             0.6666666666666666,
             "#ed7953"
            ],
            [
             0.7777777777777778,
             "#fb9f3a"
            ],
            [
             0.8888888888888888,
             "#fdca26"
            ],
            [
             1,
             "#f0f921"
            ]
           ]
          },
          "colorway": [
           "#636efa",
           "#EF553B",
           "#00cc96",
           "#ab63fa",
           "#FFA15A",
           "#19d3f3",
           "#FF6692",
           "#B6E880",
           "#FF97FF",
           "#FECB52"
          ],
          "font": {
           "color": "#2a3f5f"
          },
          "geo": {
           "bgcolor": "white",
           "lakecolor": "white",
           "landcolor": "#E5ECF6",
           "showlakes": true,
           "showland": true,
           "subunitcolor": "white"
          },
          "hoverlabel": {
           "align": "left"
          },
          "hovermode": "closest",
          "mapbox": {
           "style": "light"
          },
          "paper_bgcolor": "white",
          "plot_bgcolor": "#E5ECF6",
          "polar": {
           "angularaxis": {
            "gridcolor": "white",
            "linecolor": "white",
            "ticks": ""
           },
           "bgcolor": "#E5ECF6",
           "radialaxis": {
            "gridcolor": "white",
            "linecolor": "white",
            "ticks": ""
           }
          },
          "scene": {
           "xaxis": {
            "backgroundcolor": "#E5ECF6",
            "gridcolor": "white",
            "gridwidth": 2,
            "linecolor": "white",
            "showbackground": true,
            "ticks": "",
            "zerolinecolor": "white"
           },
           "yaxis": {
            "backgroundcolor": "#E5ECF6",
            "gridcolor": "white",
            "gridwidth": 2,
            "linecolor": "white",
            "showbackground": true,
            "ticks": "",
            "zerolinecolor": "white"
           },
           "zaxis": {
            "backgroundcolor": "#E5ECF6",
            "gridcolor": "white",
            "gridwidth": 2,
            "linecolor": "white",
            "showbackground": true,
            "ticks": "",
            "zerolinecolor": "white"
           }
          },
          "shapedefaults": {
           "line": {
            "color": "#2a3f5f"
           }
          },
          "ternary": {
           "aaxis": {
            "gridcolor": "white",
            "linecolor": "white",
            "ticks": ""
           },
           "baxis": {
            "gridcolor": "white",
            "linecolor": "white",
            "ticks": ""
           },
           "bgcolor": "#E5ECF6",
           "caxis": {
            "gridcolor": "white",
            "linecolor": "white",
            "ticks": ""
           }
          },
          "title": {
           "x": 0.05
          },
          "xaxis": {
           "automargin": true,
           "gridcolor": "white",
           "linecolor": "white",
           "ticks": "",
           "title": {
            "standoff": 15
           },
           "zerolinecolor": "white",
           "zerolinewidth": 2
          },
          "yaxis": {
           "automargin": true,
           "gridcolor": "white",
           "linecolor": "white",
           "ticks": "",
           "title": {
            "standoff": 15
           },
           "zerolinecolor": "white",
           "zerolinewidth": 2
          }
         }
        },
        "width": 1100,
        "xaxis": {
         "anchor": "y",
         "domain": [
          0,
          0.45
         ]
        },
        "xaxis2": {
         "anchor": "y2",
         "domain": [
          0.55,
          1
         ]
        },
        "xaxis3": {
         "anchor": "y3",
         "domain": [
          0,
          0.45
         ]
        },
        "xaxis4": {
         "anchor": "y4",
         "domain": [
          0.55,
          1
         ]
        },
        "yaxis": {
         "anchor": "x",
         "domain": [
          0.625,
          1
         ]
        },
        "yaxis2": {
         "anchor": "x2",
         "domain": [
          0.625,
          1
         ]
        },
        "yaxis3": {
         "anchor": "x3",
         "domain": [
          0,
          0.375
         ]
        },
        "yaxis4": {
         "anchor": "x4",
         "domain": [
          0,
          0.375
         ]
        }
       }
      },
      "text/html": [
       "<div>                            <div id=\"dc4cb510-038e-4675-bc15-efea1ddb887a\" class=\"plotly-graph-div\" style=\"height:1000px; width:1100px;\"></div>            <script type=\"text/javascript\">                require([\"plotly\"], function(Plotly) {                    window.PLOTLYENV=window.PLOTLYENV || {};                                    if (document.getElementById(\"dc4cb510-038e-4675-bc15-efea1ddb887a\")) {                    Plotly.newPlot(                        \"dc4cb510-038e-4675-bc15-efea1ddb887a\",                        [{\"name\": \"First Touch model\", \"type\": \"bar\", \"x\": [\"Blog\", \"Connected TV/TV\", \"Direct\", \"Display\", \"Earned Media\", \"Email\", \"Facebook\", \"Gmail\", \"Influencer\", \"Internal\", \"Lead Gen\", \"Organic - Brand\", \"Organic - SEO\", \"Other\", \"Paid Email\", \"Paid Search - B\", \"Paid Search - NB\", \"Paid Social\", \"Partnerships\", \"Referral\", \"Warm Lead\", \"YouTube\"], \"xaxis\": \"x\", \"y\": [0.012560973056712792, 0.0, 16.235057675801283, 0.07327234283082464, 0.04605690120794691, 2.309125546925702, 2.0599995813008984, 0.05024389222685117, 0.27634140724768147, 0.0, 0.2805283982665857, 0.38939016475809657, 18.634203529633428, 0.014654468566164926, 0.7557518789122197, 7.312579814516298, 10.557497854167103, 0.01674796407561706, 39.52728871396571, 0.5191868863441288, 0.38939016475809657, 0.54012184143865], \"yaxis\": \"y\"}, {\"name\": \"Last Touch model\", \"type\": \"bar\", \"x\": [\"Blog\", \"Connected TV/TV\", \"Direct\", \"Display\", \"Earned Media\", \"Email\", \"Facebook\", \"Gmail\", \"Influencer\", \"Internal\", \"Lead Gen\", \"Organic - Brand\", \"Organic - SEO\", \"Other\", \"Paid Email\", \"Paid Search - B\", \"Paid Search - NB\", \"Paid Social\", \"Partnerships\", \"Referral\", \"Warm Lead\", \"YouTube\"], \"xaxis\": \"x3\", \"y\": [0.05024389222685117, 0.004186991018904265, 15.521175707078108, 0.30355684887055917, 0.7704063474783847, 13.080159943056922, 1.4926622982393702, 0.058617874264659704, 0.2260975150208303, 0.010467477547260661, 0.18004061381288336, 1.7020118491845835, 21.625808612640526, 0.01674796407561706, 0.48569095819289465, 6.089978436996253, 6.933657127305462, 0.014654468566164926, 28.925827454100112, 1.7648167144681475, 0.3098373353989156, 0.4333535704565914], \"yaxis\": \"y3\"}, {\"name\": \"Linear Touch model\", \"type\": \"bar\", \"x\": [\"Blog\", \"Connected TV/TV\", \"Direct\", \"Display\", \"Earned Media\", \"Email\", \"Facebook\", \"Gmail\", \"Influencer\", \"Internal\", \"Lead Gen\", \"Organic - Brand\", \"Organic - SEO\", \"Other\", \"Paid Email\", \"Paid Search - B\", \"Paid Search - NB\", \"Paid Social\", \"Partnerships\", \"Referral\", \"Warm Lead\", \"YouTube\"], \"xaxis\": \"x2\", \"y\": [0.040668642527666554, 0.002337736652221549, 15.663151038069136, 0.24082281623175622, 0.49544107251310954, 8.953232177135991, 1.7410349981999886, 0.054366235621076855, 0.2523708836644547, 0.0031053516723539977, 0.22378470093419742, 1.0649740431001997, 19.692184611970266, 0.018143627748585155, 0.5984000135820431, 6.648782008344854, 8.542126408121756, 0.017376012728452708, 33.47905830504157, 1.44598364065738, 0.3352550292906608, 0.48740064619228085], \"yaxis\": \"y2\"}, {\"name\": \"Markov Conv model\", \"type\": \"bar\", \"x\": [\"Blog\", \"Connected TV/TV\", \"Direct\", \"Display\", \"Earned Media\", \"Email\", \"Facebook\", \"Gmail\", \"Influencer\", \"Internal\", \"Lead Gen\", \"Organic - Brand\", \"Organic - SEO\", \"Other\", \"Paid Email\", \"Paid Search - B\", \"Paid Search - NB\", \"Paid Social\", \"Partnerships\", \"Referral\", \"Warm Lead\", \"YouTube\"], \"xaxis\": \"x4\", \"y\": [0.044495296211543356, 0.006356470887363335, 14.181286549707602, 0.40681413679125344, 0.8263412153572337, 13.615560640732266, 1.5382659547419273, 0.044495296211543356, 0.21612001017035343, 0.006356470887363335, 0.24790236460717008, 1.6717518433765572, 20.753877447241294, 0.044495296211543356, 0.4195270785659802, 6.254767353165523, 7.894736842105263, 0.01271294177472667, 27.943046020849227, 3.0956013221459444, 0.23518942283244343, 0.5403000254258835], \"yaxis\": \"y4\"}],                        {\"annotations\": [{\"font\": {\"size\": 16}, \"showarrow\": false, \"text\": \"First Touch\", \"x\": 0.225, \"xanchor\": \"center\", \"xref\": \"paper\", \"y\": 1.0, \"yanchor\": \"bottom\", \"yref\": \"paper\"}, {\"font\": {\"size\": 16}, \"showarrow\": false, \"text\": \"Linear Touch\", \"x\": 0.775, \"xanchor\": \"center\", \"xref\": \"paper\", \"y\": 1.0, \"yanchor\": \"bottom\", \"yref\": \"paper\"}, {\"font\": {\"size\": 16}, \"showarrow\": false, \"text\": \"Last Touch\", \"x\": 0.225, \"xanchor\": \"center\", \"xref\": \"paper\", \"y\": 0.375, \"yanchor\": \"bottom\", \"yref\": \"paper\"}, {\"font\": {\"size\": 16}, \"showarrow\": false, \"text\": \"Markov Conv model\", \"x\": 0.775, \"xanchor\": \"center\", \"xref\": \"paper\", \"y\": 0.375, \"yanchor\": \"bottom\", \"yref\": \"paper\"}], \"barmode\": \"stack\", \"height\": 1000, \"template\": {\"data\": {\"bar\": [{\"error_x\": {\"color\": \"#2a3f5f\"}, \"error_y\": {\"color\": \"#2a3f5f\"}, \"marker\": {\"line\": {\"color\": \"#E5ECF6\", \"width\": 0.5}}, \"type\": \"bar\"}], \"barpolar\": [{\"marker\": {\"line\": {\"color\": \"#E5ECF6\", \"width\": 0.5}}, \"type\": \"barpolar\"}], \"carpet\": [{\"aaxis\": {\"endlinecolor\": \"#2a3f5f\", \"gridcolor\": \"white\", \"linecolor\": \"white\", \"minorgridcolor\": \"white\", \"startlinecolor\": \"#2a3f5f\"}, \"baxis\": {\"endlinecolor\": \"#2a3f5f\", \"gridcolor\": \"white\", \"linecolor\": \"white\", \"minorgridcolor\": \"white\", \"startlinecolor\": \"#2a3f5f\"}, \"type\": \"carpet\"}], \"choropleth\": [{\"colorbar\": {\"outlinewidth\": 0, \"ticks\": \"\"}, \"type\": \"choropleth\"}], \"contour\": [{\"colorbar\": {\"outlinewidth\": 0, \"ticks\": \"\"}, \"colorscale\": [[0.0, \"#0d0887\"], [0.1111111111111111, \"#46039f\"], [0.2222222222222222, \"#7201a8\"], [0.3333333333333333, \"#9c179e\"], [0.4444444444444444, \"#bd3786\"], [0.5555555555555556, \"#d8576b\"], [0.6666666666666666, \"#ed7953\"], [0.7777777777777778, \"#fb9f3a\"], [0.8888888888888888, \"#fdca26\"], [1.0, \"#f0f921\"]], \"type\": \"contour\"}], \"contourcarpet\": [{\"colorbar\": {\"outlinewidth\": 0, \"ticks\": \"\"}, \"type\": \"contourcarpet\"}], \"heatmap\": [{\"colorbar\": {\"outlinewidth\": 0, \"ticks\": \"\"}, \"colorscale\": [[0.0, \"#0d0887\"], [0.1111111111111111, \"#46039f\"], [0.2222222222222222, \"#7201a8\"], [0.3333333333333333, \"#9c179e\"], [0.4444444444444444, \"#bd3786\"], [0.5555555555555556, \"#d8576b\"], [0.6666666666666666, \"#ed7953\"], [0.7777777777777778, \"#fb9f3a\"], [0.8888888888888888, \"#fdca26\"], [1.0, \"#f0f921\"]], \"type\": \"heatmap\"}], \"heatmapgl\": [{\"colorbar\": {\"outlinewidth\": 0, \"ticks\": \"\"}, \"colorscale\": [[0.0, \"#0d0887\"], [0.1111111111111111, \"#46039f\"], [0.2222222222222222, \"#7201a8\"], [0.3333333333333333, \"#9c179e\"], [0.4444444444444444, \"#bd3786\"], [0.5555555555555556, \"#d8576b\"], [0.6666666666666666, \"#ed7953\"], [0.7777777777777778, \"#fb9f3a\"], [0.8888888888888888, \"#fdca26\"], [1.0, \"#f0f921\"]], \"type\": \"heatmapgl\"}], \"histogram\": [{\"marker\": {\"colorbar\": {\"outlinewidth\": 0, \"ticks\": \"\"}}, \"type\": \"histogram\"}], \"histogram2d\": [{\"colorbar\": {\"outlinewidth\": 0, \"ticks\": \"\"}, \"colorscale\": [[0.0, \"#0d0887\"], [0.1111111111111111, \"#46039f\"], [0.2222222222222222, \"#7201a8\"], [0.3333333333333333, \"#9c179e\"], [0.4444444444444444, \"#bd3786\"], [0.5555555555555556, \"#d8576b\"], [0.6666666666666666, \"#ed7953\"], [0.7777777777777778, \"#fb9f3a\"], [0.8888888888888888, \"#fdca26\"], [1.0, \"#f0f921\"]], \"type\": \"histogram2d\"}], \"histogram2dcontour\": [{\"colorbar\": {\"outlinewidth\": 0, \"ticks\": \"\"}, \"colorscale\": [[0.0, \"#0d0887\"], [0.1111111111111111, \"#46039f\"], [0.2222222222222222, \"#7201a8\"], [0.3333333333333333, \"#9c179e\"], [0.4444444444444444, \"#bd3786\"], [0.5555555555555556, \"#d8576b\"], [0.6666666666666666, \"#ed7953\"], [0.7777777777777778, \"#fb9f3a\"], [0.8888888888888888, \"#fdca26\"], [1.0, \"#f0f921\"]], \"type\": \"histogram2dcontour\"}], \"mesh3d\": [{\"colorbar\": {\"outlinewidth\": 0, \"ticks\": \"\"}, \"type\": \"mesh3d\"}], \"parcoords\": [{\"line\": {\"colorbar\": {\"outlinewidth\": 0, \"ticks\": \"\"}}, \"type\": \"parcoords\"}], \"pie\": [{\"automargin\": true, \"type\": \"pie\"}], \"scatter\": [{\"marker\": {\"colorbar\": {\"outlinewidth\": 0, \"ticks\": \"\"}}, \"type\": \"scatter\"}], \"scatter3d\": [{\"line\": {\"colorbar\": {\"outlinewidth\": 0, \"ticks\": \"\"}}, \"marker\": {\"colorbar\": {\"outlinewidth\": 0, \"ticks\": \"\"}}, \"type\": \"scatter3d\"}], \"scattercarpet\": [{\"marker\": {\"colorbar\": {\"outlinewidth\": 0, \"ticks\": \"\"}}, \"type\": \"scattercarpet\"}], \"scattergeo\": [{\"marker\": {\"colorbar\": {\"outlinewidth\": 0, \"ticks\": \"\"}}, \"type\": \"scattergeo\"}], \"scattergl\": [{\"marker\": {\"colorbar\": {\"outlinewidth\": 0, \"ticks\": \"\"}}, \"type\": \"scattergl\"}], \"scattermapbox\": [{\"marker\": {\"colorbar\": {\"outlinewidth\": 0, \"ticks\": \"\"}}, \"type\": \"scattermapbox\"}], \"scatterpolar\": [{\"marker\": {\"colorbar\": {\"outlinewidth\": 0, \"ticks\": \"\"}}, \"type\": \"scatterpolar\"}], \"scatterpolargl\": [{\"marker\": {\"colorbar\": {\"outlinewidth\": 0, \"ticks\": \"\"}}, \"type\": \"scatterpolargl\"}], \"scatterternary\": [{\"marker\": {\"colorbar\": {\"outlinewidth\": 0, \"ticks\": \"\"}}, \"type\": \"scatterternary\"}], \"surface\": [{\"colorbar\": {\"outlinewidth\": 0, \"ticks\": \"\"}, \"colorscale\": [[0.0, \"#0d0887\"], [0.1111111111111111, \"#46039f\"], [0.2222222222222222, \"#7201a8\"], [0.3333333333333333, \"#9c179e\"], [0.4444444444444444, \"#bd3786\"], [0.5555555555555556, \"#d8576b\"], [0.6666666666666666, \"#ed7953\"], [0.7777777777777778, \"#fb9f3a\"], [0.8888888888888888, \"#fdca26\"], [1.0, \"#f0f921\"]], \"type\": \"surface\"}], \"table\": [{\"cells\": {\"fill\": {\"color\": \"#EBF0F8\"}, \"line\": {\"color\": \"white\"}}, \"header\": {\"fill\": {\"color\": \"#C8D4E3\"}, \"line\": {\"color\": \"white\"}}, \"type\": \"table\"}]}, \"layout\": {\"annotationdefaults\": {\"arrowcolor\": \"#2a3f5f\", \"arrowhead\": 0, \"arrowwidth\": 1}, \"autotypenumbers\": \"strict\", \"coloraxis\": {\"colorbar\": {\"outlinewidth\": 0, \"ticks\": \"\"}}, \"colorscale\": {\"diverging\": [[0, \"#8e0152\"], [0.1, \"#c51b7d\"], [0.2, \"#de77ae\"], [0.3, \"#f1b6da\"], [0.4, \"#fde0ef\"], [0.5, \"#f7f7f7\"], [0.6, \"#e6f5d0\"], [0.7, \"#b8e186\"], [0.8, \"#7fbc41\"], [0.9, \"#4d9221\"], [1, \"#276419\"]], \"sequential\": [[0.0, \"#0d0887\"], [0.1111111111111111, \"#46039f\"], [0.2222222222222222, \"#7201a8\"], [0.3333333333333333, \"#9c179e\"], [0.4444444444444444, \"#bd3786\"], [0.5555555555555556, \"#d8576b\"], [0.6666666666666666, \"#ed7953\"], [0.7777777777777778, \"#fb9f3a\"], [0.8888888888888888, \"#fdca26\"], [1.0, \"#f0f921\"]], \"sequentialminus\": [[0.0, \"#0d0887\"], [0.1111111111111111, \"#46039f\"], [0.2222222222222222, \"#7201a8\"], [0.3333333333333333, \"#9c179e\"], [0.4444444444444444, \"#bd3786\"], [0.5555555555555556, \"#d8576b\"], [0.6666666666666666, \"#ed7953\"], [0.7777777777777778, \"#fb9f3a\"], [0.8888888888888888, \"#fdca26\"], [1.0, \"#f0f921\"]]}, \"colorway\": [\"#636efa\", \"#EF553B\", \"#00cc96\", \"#ab63fa\", \"#FFA15A\", \"#19d3f3\", \"#FF6692\", \"#B6E880\", \"#FF97FF\", \"#FECB52\"], \"font\": {\"color\": \"#2a3f5f\"}, \"geo\": {\"bgcolor\": \"white\", \"lakecolor\": \"white\", \"landcolor\": \"#E5ECF6\", \"showlakes\": true, \"showland\": true, \"subunitcolor\": \"white\"}, \"hoverlabel\": {\"align\": \"left\"}, \"hovermode\": \"closest\", \"mapbox\": {\"style\": \"light\"}, \"paper_bgcolor\": \"white\", \"plot_bgcolor\": \"#E5ECF6\", \"polar\": {\"angularaxis\": {\"gridcolor\": \"white\", \"linecolor\": \"white\", \"ticks\": \"\"}, \"bgcolor\": \"#E5ECF6\", \"radialaxis\": {\"gridcolor\": \"white\", \"linecolor\": \"white\", \"ticks\": \"\"}}, \"scene\": {\"xaxis\": {\"backgroundcolor\": \"#E5ECF6\", \"gridcolor\": \"white\", \"gridwidth\": 2, \"linecolor\": \"white\", \"showbackground\": true, \"ticks\": \"\", \"zerolinecolor\": \"white\"}, \"yaxis\": {\"backgroundcolor\": \"#E5ECF6\", \"gridcolor\": \"white\", \"gridwidth\": 2, \"linecolor\": \"white\", \"showbackground\": true, \"ticks\": \"\", \"zerolinecolor\": \"white\"}, \"zaxis\": {\"backgroundcolor\": \"#E5ECF6\", \"gridcolor\": \"white\", \"gridwidth\": 2, \"linecolor\": \"white\", \"showbackground\": true, \"ticks\": \"\", \"zerolinecolor\": \"white\"}}, \"shapedefaults\": {\"line\": {\"color\": \"#2a3f5f\"}}, \"ternary\": {\"aaxis\": {\"gridcolor\": \"white\", \"linecolor\": \"white\", \"ticks\": \"\"}, \"baxis\": {\"gridcolor\": \"white\", \"linecolor\": \"white\", \"ticks\": \"\"}, \"bgcolor\": \"#E5ECF6\", \"caxis\": {\"gridcolor\": \"white\", \"linecolor\": \"white\", \"ticks\": \"\"}}, \"title\": {\"x\": 0.05}, \"xaxis\": {\"automargin\": true, \"gridcolor\": \"white\", \"linecolor\": \"white\", \"ticks\": \"\", \"title\": {\"standoff\": 15}, \"zerolinecolor\": \"white\", \"zerolinewidth\": 2}, \"yaxis\": {\"automargin\": true, \"gridcolor\": \"white\", \"linecolor\": \"white\", \"ticks\": \"\", \"title\": {\"standoff\": 15}, \"zerolinecolor\": \"white\", \"zerolinewidth\": 2}}}, \"width\": 1100, \"xaxis\": {\"anchor\": \"y\", \"domain\": [0.0, 0.45]}, \"xaxis2\": {\"anchor\": \"y2\", \"domain\": [0.55, 1.0]}, \"xaxis3\": {\"anchor\": \"y3\", \"domain\": [0.0, 0.45]}, \"xaxis4\": {\"anchor\": \"y4\", \"domain\": [0.55, 1.0]}, \"yaxis\": {\"anchor\": \"x\", \"domain\": [0.625, 1.0]}, \"yaxis2\": {\"anchor\": \"x2\", \"domain\": [0.625, 1.0]}, \"yaxis3\": {\"anchor\": \"x3\", \"domain\": [0.0, 0.375]}, \"yaxis4\": {\"anchor\": \"x4\", \"domain\": [0.0, 0.375]}},                        {\"responsive\": true}                    ).then(function(){\n",
       "                            \n",
       "var gd = document.getElementById('dc4cb510-038e-4675-bc15-efea1ddb887a');\n",
       "var x = new MutationObserver(function (mutations, observer) {{\n",
       "        var display = window.getComputedStyle(gd).display;\n",
       "        if (!display || display === 'none') {{\n",
       "            console.log([gd, 'removed!']);\n",
       "            Plotly.purge(gd);\n",
       "            observer.disconnect();\n",
       "        }}\n",
       "}});\n",
       "\n",
       "// Listen for the removal of the full notebook cells\n",
       "var notebookContainer = gd.closest('#notebook-container');\n",
       "if (notebookContainer) {{\n",
       "    x.observe(notebookContainer, {childList: true});\n",
       "}}\n",
       "\n",
       "// Listen for the clearing of the current output cell\n",
       "var outputEl = gd.closest('.output');\n",
       "if (outputEl) {{\n",
       "    x.observe(outputEl, {childList: true});\n",
       "}}\n",
       "\n",
       "                        })                };                });            </script>        </div>"
      ]
     },
     "metadata": {},
     "output_type": "display_data"
    }
   ],
   "source": [
    "from plotly.subplots import make_subplots\n",
    "import plotly.graph_objs as go\n",
    "from plotly import tools\n",
    "R1 = R.sort_values(['first_touch'], ascending=False)\n",
    "R2 = R.sort_values(['last_touch'], ascending=True)\n",
    "fig = make_subplots(\n",
    "    rows=2, cols=2,\n",
    "    subplot_titles=(\"First Touch\", \"Linear Touch\", \"Last Touch\", \"Markov Conv model\")\n",
    ")\n",
    "trace1 = go.Bar(x=R.channel_name, y=R.first_touch.values, name=\"First Touch model\")\n",
    "trace2 = go.Bar(x=R.channel_name, y=R.last_touch.values, name=\"Last Touch model\")\n",
    "trace3 = go.Bar(x=R.channel_name, y=R.linear_touch.values, name=\"Linear Touch model\")\n",
    "trace4 = go.Bar(x=R.channel_name, y=R.markov_model.values, name=\"Markov Conv model\")\n",
    "\n",
    "fig.append_trace(trace1, 1,1)\n",
    "fig.append_trace(trace2, 2, 1)\n",
    "fig.append_trace(trace3, 1, 2)\n",
    "fig.append_trace(trace4, 2, 2)\n",
    "\n",
    "fig['layout'].update(height=1000, width=1100)\n",
    "fig.update_layout(barmode='stack')\n",
    "fig.show()"
   ]
  },
  {
   "cell_type": "code",
   "execution_count": null,
   "metadata": {},
   "outputs": [],
   "source": []
  },
  {
   "cell_type": "code",
   "execution_count": null,
   "metadata": {},
   "outputs": [],
   "source": []
  },
  {
   "cell_type": "code",
   "execution_count": null,
   "metadata": {},
   "outputs": [],
   "source": []
  }
 ],
 "metadata": {
  "colab": {
   "collapsed_sections": [
    "Su3TPMfTxh74",
    "imKTUxvox1Nw",
    "EqcNzj370Ohs",
    "CYFbt3VO0DJ7"
   ],
   "name": "MTA_v1.ipynb",
   "provenance": []
  },
  "kernelspec": {
   "display_name": "Python 3",
   "language": "python",
   "name": "python3"
  },
  "language_info": {
   "codemirror_mode": {
    "name": "ipython",
    "version": 3
   },
   "file_extension": ".py",
   "mimetype": "text/x-python",
   "name": "python",
   "nbconvert_exporter": "python",
   "pygments_lexer": "ipython3",
   "version": "3.7.8"
  }
 },
 "nbformat": 4,
 "nbformat_minor": 1
}
