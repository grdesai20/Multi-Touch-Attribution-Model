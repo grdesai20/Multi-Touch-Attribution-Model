{
 "cells": [
  {
   "cell_type": "markdown",
   "metadata": {},
   "source": [
    " "
   ]
  },
  {
   "cell_type": "markdown",
   "metadata": {},
   "source": [
    " "
   ]
  },
  {
   "cell_type": "markdown",
   "metadata": {},
   "source": [
    "    This file contains: Data Cleaning, Sessioning and Aggregation"
   ]
  },
  {
   "cell_type": "markdown",
   "metadata": {},
   "source": [
    " "
   ]
  },
  {
   "cell_type": "markdown",
   "metadata": {},
   "source": [
    "### Load Libraries\n"
   ]
  },
  {
   "cell_type": "code",
   "execution_count": 27,
   "metadata": {},
   "outputs": [],
   "source": [
    "import pandas as pd\n",
    "import numpy as np\n",
    "\n",
    "#importing liabraries for graphical representation\n",
    "import matplotlib.pyplot as plt\n",
    "import seaborn as sns\n",
    "sns.set(style=\"darkgrid\")\n",
    "%matplotlib inline\n"
   ]
  },
  {
   "cell_type": "markdown",
   "metadata": {},
   "source": [
    " "
   ]
  },
  {
   "cell_type": "markdown",
   "metadata": {},
   "source": [
    "## Data Understanding \n",
    "\n"
   ]
  },
  {
   "cell_type": "code",
   "execution_count": 6,
   "metadata": {},
   "outputs": [],
   "source": [
    "data_file = '../data/data_mta_mta_data_000000000001.csv'\n",
    "df = pd.read_csv(data_file)"
   ]
  },
  {
   "cell_type": "code",
   "execution_count": 8,
   "metadata": {},
   "outputs": [
    {
     "name": "stdout",
     "output_type": "stream",
     "text": [
      "Data Shape\n",
      "----------\n",
      "Number of columns: 15\n",
      "Number of observations: 2661982\n"
     ]
    },
    {
     "data": {
      "text/html": [
       "<div>\n",
       "<style scoped>\n",
       "    .dataframe tbody tr th:only-of-type {\n",
       "        vertical-align: middle;\n",
       "    }\n",
       "\n",
       "    .dataframe tbody tr th {\n",
       "        vertical-align: top;\n",
       "    }\n",
       "\n",
       "    .dataframe thead th {\n",
       "        text-align: right;\n",
       "    }\n",
       "</style>\n",
       "<table border=\"1\" class=\"dataframe\">\n",
       "  <thead>\n",
       "    <tr style=\"text-align: right;\">\n",
       "      <th></th>\n",
       "      <th>user_analytics_id</th>\n",
       "      <th>user_agent</th>\n",
       "      <th>referred_to_url</th>\n",
       "      <th>created_at</th>\n",
       "      <th>visitor_source</th>\n",
       "      <th>conv_1_life</th>\n",
       "      <th>conv_1_life_date</th>\n",
       "      <th>conv_2_life</th>\n",
       "      <th>conv_2_life_date</th>\n",
       "      <th>conv_3_life</th>\n",
       "      <th>conv_3_life_date</th>\n",
       "      <th>exit_survey_source_category</th>\n",
       "      <th>exit_survey_submitted_product</th>\n",
       "      <th>exit_survey_source</th>\n",
       "      <th>product_visited</th>\n",
       "    </tr>\n",
       "  </thead>\n",
       "  <tbody>\n",
       "    <tr>\n",
       "      <th>0</th>\n",
       "      <td>170bc53eb46b4e59a2f321bda584e9b8</td>\n",
       "      <td>Mozilla/5.0 (Macintosh; Intel Mac OS X 10_12_6...</td>\n",
       "      <td>/taxes/guide-to-gift-tax/</td>\n",
       "      <td>2020-10-08 13:41:43 UTC</td>\n",
       "      <td>Organic - SEO</td>\n",
       "      <td>NaN</td>\n",
       "      <td>NaN</td>\n",
       "      <td>NaN</td>\n",
       "      <td>NaN</td>\n",
       "      <td>NaN</td>\n",
       "      <td>NaN</td>\n",
       "      <td>NaN</td>\n",
       "      <td>NaN</td>\n",
       "      <td>NaN</td>\n",
       "      <td>other</td>\n",
       "    </tr>\n",
       "    <tr>\n",
       "      <th>1</th>\n",
       "      <td>bfdbb9389e6b4a0791b160de3bf38414</td>\n",
       "      <td>Mozilla/5.0 (Linux; Android 10; M2006C3MG) App...</td>\n",
       "      <td>/blog/money-themed-baby-names/</td>\n",
       "      <td>2020-10-08 10:36:07 UTC</td>\n",
       "      <td>Organic - SEO</td>\n",
       "      <td>NaN</td>\n",
       "      <td>NaN</td>\n",
       "      <td>NaN</td>\n",
       "      <td>NaN</td>\n",
       "      <td>NaN</td>\n",
       "      <td>NaN</td>\n",
       "      <td>NaN</td>\n",
       "      <td>NaN</td>\n",
       "      <td>NaN</td>\n",
       "      <td>other</td>\n",
       "    </tr>\n",
       "    <tr>\n",
       "      <th>2</th>\n",
       "      <td>9a3d7aa449b548b88b724ee74cdf4dfa</td>\n",
       "      <td>Mozilla/5.0 (Linux; Android 8.1.0; SM-T580) Ap...</td>\n",
       "      <td>/blog/state-by-state-guide-to-workers-compensa...</td>\n",
       "      <td>2020-10-08 11:03:46 UTC</td>\n",
       "      <td>Organic - SEO</td>\n",
       "      <td>NaN</td>\n",
       "      <td>NaN</td>\n",
       "      <td>NaN</td>\n",
       "      <td>NaN</td>\n",
       "      <td>NaN</td>\n",
       "      <td>NaN</td>\n",
       "      <td>NaN</td>\n",
       "      <td>NaN</td>\n",
       "      <td>NaN</td>\n",
       "      <td>other</td>\n",
       "    </tr>\n",
       "    <tr>\n",
       "      <th>3</th>\n",
       "      <td>d7a57b15d3f2426197b7e802e445ab09</td>\n",
       "      <td>Mozilla/5.0 (Linux; Android 10; SM-G973U) Appl...</td>\n",
       "      <td>/disability-insurance/what-to-know-about-disab...</td>\n",
       "      <td>2020-10-08 11:50:48 UTC</td>\n",
       "      <td>Organic - SEO</td>\n",
       "      <td>NaN</td>\n",
       "      <td>NaN</td>\n",
       "      <td>NaN</td>\n",
       "      <td>NaN</td>\n",
       "      <td>NaN</td>\n",
       "      <td>NaN</td>\n",
       "      <td>NaN</td>\n",
       "      <td>NaN</td>\n",
       "      <td>NaN</td>\n",
       "      <td>other</td>\n",
       "    </tr>\n",
       "    <tr>\n",
       "      <th>4</th>\n",
       "      <td>03bc72cf09ab4a02940b153ac9541458</td>\n",
       "      <td>Mozilla/5.0 (compatible; parse.ly scraper/0.16...</td>\n",
       "      <td>/policy-center/secure-files</td>\n",
       "      <td>2020-10-08 17:32:21 UTC</td>\n",
       "      <td>Organic - SEO</td>\n",
       "      <td>NaN</td>\n",
       "      <td>NaN</td>\n",
       "      <td>NaN</td>\n",
       "      <td>NaN</td>\n",
       "      <td>NaN</td>\n",
       "      <td>NaN</td>\n",
       "      <td>NaN</td>\n",
       "      <td>NaN</td>\n",
       "      <td>NaN</td>\n",
       "      <td>other</td>\n",
       "    </tr>\n",
       "  </tbody>\n",
       "</table>\n",
       "</div>"
      ],
      "text/plain": [
       "                  user_analytics_id  \\\n",
       "0  170bc53eb46b4e59a2f321bda584e9b8   \n",
       "1  bfdbb9389e6b4a0791b160de3bf38414   \n",
       "2  9a3d7aa449b548b88b724ee74cdf4dfa   \n",
       "3  d7a57b15d3f2426197b7e802e445ab09   \n",
       "4  03bc72cf09ab4a02940b153ac9541458   \n",
       "\n",
       "                                          user_agent  \\\n",
       "0  Mozilla/5.0 (Macintosh; Intel Mac OS X 10_12_6...   \n",
       "1  Mozilla/5.0 (Linux; Android 10; M2006C3MG) App...   \n",
       "2  Mozilla/5.0 (Linux; Android 8.1.0; SM-T580) Ap...   \n",
       "3  Mozilla/5.0 (Linux; Android 10; SM-G973U) Appl...   \n",
       "4  Mozilla/5.0 (compatible; parse.ly scraper/0.16...   \n",
       "\n",
       "                                     referred_to_url               created_at  \\\n",
       "0                          /taxes/guide-to-gift-tax/  2020-10-08 13:41:43 UTC   \n",
       "1                     /blog/money-themed-baby-names/  2020-10-08 10:36:07 UTC   \n",
       "2  /blog/state-by-state-guide-to-workers-compensa...  2020-10-08 11:03:46 UTC   \n",
       "3  /disability-insurance/what-to-know-about-disab...  2020-10-08 11:50:48 UTC   \n",
       "4                        /policy-center/secure-files  2020-10-08 17:32:21 UTC   \n",
       "\n",
       "  visitor_source  conv_1_life conv_1_life_date  conv_2_life conv_2_life_date  \\\n",
       "0  Organic - SEO          NaN              NaN          NaN              NaN   \n",
       "1  Organic - SEO          NaN              NaN          NaN              NaN   \n",
       "2  Organic - SEO          NaN              NaN          NaN              NaN   \n",
       "3  Organic - SEO          NaN              NaN          NaN              NaN   \n",
       "4  Organic - SEO          NaN              NaN          NaN              NaN   \n",
       "\n",
       "   conv_3_life conv_3_life_date exit_survey_source_category  \\\n",
       "0          NaN              NaN                         NaN   \n",
       "1          NaN              NaN                         NaN   \n",
       "2          NaN              NaN                         NaN   \n",
       "3          NaN              NaN                         NaN   \n",
       "4          NaN              NaN                         NaN   \n",
       "\n",
       "  exit_survey_submitted_product exit_survey_source product_visited  \n",
       "0                           NaN                NaN           other  \n",
       "1                           NaN                NaN           other  \n",
       "2                           NaN                NaN           other  \n",
       "3                           NaN                NaN           other  \n",
       "4                           NaN                NaN           other  "
      ]
     },
     "execution_count": 8,
     "metadata": {},
     "output_type": "execute_result"
    }
   ],
   "source": [
    "#number of observations and features\n",
    "print(df.shape)\n",
    "\n",
    "df.head(5)"
   ]
  },
  {
   "cell_type": "markdown",
   "metadata": {},
   "source": [
    " "
   ]
  },
  {
   "cell_type": "markdown",
   "metadata": {},
   "source": [
    " "
   ]
  },
  {
   "cell_type": "markdown",
   "metadata": {},
   "source": [
    "## Data Preprocessing & Analysis \n"
   ]
  },
  {
   "cell_type": "markdown",
   "metadata": {},
   "source": [
    " "
   ]
  },
  {
   "cell_type": "code",
   "execution_count": 10,
   "metadata": {},
   "outputs": [
    {
     "data": {
      "text/plain": [
       "created_at                       2465847\n",
       "user_analytics_id                2302821\n",
       "user_agent                        105949\n",
       "referred_to_url                    98947\n",
       "conv_1_life_date                   14299\n",
       "conv_2_life_date                   10867\n",
       "conv_3_life_date                    6634\n",
       "exit_survey_source                   349\n",
       "exit_survey_source_category           34\n",
       "visitor_source                        24\n",
       "exit_survey_submitted_product          5\n",
       "product_visited                        4\n",
       "conv_3_life                            2\n",
       "conv_2_life                            2\n",
       "conv_1_life                            2\n",
       "dtype: int64"
      ]
     },
     "execution_count": 10,
     "metadata": {},
     "output_type": "execute_result"
    }
   ],
   "source": [
    "unique_rate = df.apply(lambda x: len(pd.unique(x)),axis = 0).sort_values(ascending = False) #unique rate and sort\n",
    "unique_rate"
   ]
  },
  {
   "cell_type": "markdown",
   "metadata": {},
   "source": [
    " "
   ]
  },
  {
   "cell_type": "markdown",
   "metadata": {},
   "source": [
    "###  Null Values "
   ]
  },
  {
   "cell_type": "code",
   "execution_count": 8,
   "metadata": {},
   "outputs": [
    {
     "data": {
      "text/plain": [
       "['user_agent',\n",
       " 'referred_to_url',\n",
       " 'conv_1_life',\n",
       " 'conv_1_life_date',\n",
       " 'conv_2_life',\n",
       " 'conv_2_life_date',\n",
       " 'conv_3_life',\n",
       " 'conv_3_life_date',\n",
       " 'exit_survey_source_category',\n",
       " 'exit_survey_submitted_product',\n",
       " 'exit_survey_source']"
      ]
     },
     "execution_count": 8,
     "metadata": {},
     "output_type": "execute_result"
    }
   ],
   "source": [
    "#Columns with Null Values\n",
    "df.columns[df.isna().any()].tolist()"
   ]
  },
  {
   "cell_type": "markdown",
   "metadata": {},
   "source": [
    "-----"
   ]
  },
  {
   "cell_type": "markdown",
   "metadata": {},
   "source": [
    "### Fill Null Values "
   ]
  },
  {
   "cell_type": "markdown",
   "metadata": {},
   "source": [
    "#### <span style=\"color:black\">  conversion </span>\n",
    "\n",
    "Conversion is a binary columns: \n",
    "- if the user has converted = 1\n",
    "- if the user has not converted = 0"
   ]
  },
  {
   "cell_type": "code",
   "execution_count": 11,
   "metadata": {},
   "outputs": [],
   "source": [
    "def replace_nan(df, col_list, fill_val):\n",
    "    for var in col_list:\n",
    "        df[var].fillna(fill_val, inplace=True)\n",
    "        \n",
    "col_list = ['conv_1_life','conv_2_life','conv_3_life']\n",
    "\n",
    "\n",
    "\n",
    "replace_nan(df, col_list, fill_val = 0)"
   ]
  },
  {
   "cell_type": "markdown",
   "metadata": {},
   "source": [
    " "
   ]
  },
  {
   "cell_type": "markdown",
   "metadata": {},
   "source": [
    " "
   ]
  },
  {
   "cell_type": "markdown",
   "metadata": {},
   "source": [
    "#### <span style=\"color:black\">  referred_to_url </span>"
   ]
  },
  {
   "cell_type": "code",
   "execution_count": 12,
   "metadata": {},
   "outputs": [
    {
     "data": {
      "text/html": [
       "<div>\n",
       "<style scoped>\n",
       "    .dataframe tbody tr th:only-of-type {\n",
       "        vertical-align: middle;\n",
       "    }\n",
       "\n",
       "    .dataframe tbody tr th {\n",
       "        vertical-align: top;\n",
       "    }\n",
       "\n",
       "    .dataframe thead th {\n",
       "        text-align: right;\n",
       "    }\n",
       "</style>\n",
       "<table border=\"1\" class=\"dataframe\">\n",
       "  <thead>\n",
       "    <tr style=\"text-align: right;\">\n",
       "      <th></th>\n",
       "      <th>user_analytics_id</th>\n",
       "      <th>user_agent</th>\n",
       "      <th>referred_to_url</th>\n",
       "      <th>created_at</th>\n",
       "      <th>visitor_source</th>\n",
       "      <th>conv_1_life</th>\n",
       "      <th>conv_1_life_date</th>\n",
       "      <th>conv_2_life</th>\n",
       "      <th>conv_2_life_date</th>\n",
       "      <th>conv_3_life</th>\n",
       "      <th>conv_3_life_date</th>\n",
       "      <th>exit_survey_source_category</th>\n",
       "      <th>exit_survey_submitted_product</th>\n",
       "      <th>exit_survey_source</th>\n",
       "      <th>product_visited</th>\n",
       "    </tr>\n",
       "  </thead>\n",
       "  <tbody>\n",
       "    <tr>\n",
       "      <th>0</th>\n",
       "      <td>170bc53eb46b4e59a2f321bda584e9b8</td>\n",
       "      <td>Mozilla/5.0 (Macintosh; Intel Mac OS X 10_12_6...</td>\n",
       "      <td>/taxes/guide-to-gift-tax/</td>\n",
       "      <td>2020-10-08 13:41:43 UTC</td>\n",
       "      <td>Organic - SEO</td>\n",
       "      <td>0.0</td>\n",
       "      <td>NaN</td>\n",
       "      <td>0.0</td>\n",
       "      <td>NaN</td>\n",
       "      <td>0.0</td>\n",
       "      <td>NaN</td>\n",
       "      <td>NaN</td>\n",
       "      <td>NaN</td>\n",
       "      <td>NaN</td>\n",
       "      <td>other</td>\n",
       "    </tr>\n",
       "  </tbody>\n",
       "</table>\n",
       "</div>"
      ],
      "text/plain": [
       "                  user_analytics_id  \\\n",
       "0  170bc53eb46b4e59a2f321bda584e9b8   \n",
       "\n",
       "                                          user_agent  \\\n",
       "0  Mozilla/5.0 (Macintosh; Intel Mac OS X 10_12_6...   \n",
       "\n",
       "             referred_to_url               created_at visitor_source  \\\n",
       "0  /taxes/guide-to-gift-tax/  2020-10-08 13:41:43 UTC  Organic - SEO   \n",
       "\n",
       "   conv_1_life conv_1_life_date  conv_2_life conv_2_life_date  conv_3_life  \\\n",
       "0          0.0              NaN          0.0              NaN          0.0   \n",
       "\n",
       "  conv_3_life_date exit_survey_source_category exit_survey_submitted_product  \\\n",
       "0              NaN                         NaN                           NaN   \n",
       "\n",
       "  exit_survey_source product_visited  \n",
       "0                NaN           other  "
      ]
     },
     "execution_count": 12,
     "metadata": {},
     "output_type": "execute_result"
    }
   ],
   "source": [
    "df.head(1)"
   ]
  },
  {
   "cell_type": "markdown",
   "metadata": {},
   "source": [
    "    Identify 'visitor_source' for which the referred to URL is null "
   ]
  },
  {
   "cell_type": "code",
   "execution_count": 13,
   "metadata": {},
   "outputs": [
    {
     "data": {
      "text/plain": [
       "array(['Direct', 'Warm Lead', 'Partnerships', 'Earned Media', 'Facebook',\n",
       "       'Email', 'Blog', 'Organic - SEO'], dtype=object)"
      ]
     },
     "execution_count": 13,
     "metadata": {},
     "output_type": "execute_result"
    }
   ],
   "source": [
    "df[df['referred_to_url'].isnull()]['visitor_source'].unique()"
   ]
  },
  {
   "cell_type": "markdown",
   "metadata": {},
   "source": [
    "    URL is missing for many visitor_sources."
   ]
  },
  {
   "cell_type": "code",
   "execution_count": 14,
   "metadata": {},
   "outputs": [
    {
     "data": {
      "text/plain": [
       "array([nan, '/'], dtype=object)"
      ]
     },
     "execution_count": 14,
     "metadata": {},
     "output_type": "execute_result"
    }
   ],
   "source": [
    "df[df['visitor_source'] == 'Direct']['referred_to_url'].unique()"
   ]
  },
  {
   "cell_type": "code",
   "execution_count": 15,
   "metadata": {},
   "outputs": [
    {
     "data": {
      "text/plain": [
       "array([nan], dtype=object)"
      ]
     },
     "execution_count": 15,
     "metadata": {},
     "output_type": "execute_result"
    }
   ],
   "source": [
    "df[df['visitor_source'] == 'Warm Lead']['referred_to_url'].unique()"
   ]
  },
  {
   "cell_type": "markdown",
   "metadata": {},
   "source": [
    " "
   ]
  },
  {
   "cell_type": "markdown",
   "metadata": {},
   "source": [
    "Inference: For a user with visitor source 'Direct', we can notice that referred to URL is '/' "
   ]
  },
  {
   "cell_type": "markdown",
   "metadata": {},
   "source": [
    "Fill nan values in referred_to_url as following\n",
    "1. referred_to_url == Direct when visitor_source == '/'\n",
    "2. referred_to_url == unknown for any other nan/missing values"
   ]
  },
  {
   "cell_type": "code",
   "execution_count": 16,
   "metadata": {},
   "outputs": [],
   "source": [
    "df.loc[df.visitor_source == 'Direct','referred_to_url'] = '/'"
   ]
  },
  {
   "cell_type": "code",
   "execution_count": 17,
   "metadata": {},
   "outputs": [],
   "source": [
    "df['referred_to_url'].fillna('unknown', inplace=True)"
   ]
  },
  {
   "cell_type": "markdown",
   "metadata": {},
   "source": [
    " "
   ]
  },
  {
   "cell_type": "markdown",
   "metadata": {},
   "source": [
    "#### <span style=\"color:black\">  user_agent </span>"
   ]
  },
  {
   "cell_type": "code",
   "execution_count": 18,
   "metadata": {},
   "outputs": [],
   "source": [
    "df['user_agent'].fillna('unknown', inplace=True)"
   ]
  },
  {
   "cell_type": "markdown",
   "metadata": {},
   "source": [
    " "
   ]
  },
  {
   "cell_type": "markdown",
   "metadata": {},
   "source": [
    "##### <span style=\"color:black\">  exit_survey_source_category | exit_survey_submitted_product | exit_survey_source </span>    \n",
    "    \n",
    "    "
   ]
  },
  {
   "cell_type": "code",
   "execution_count": 19,
   "metadata": {},
   "outputs": [],
   "source": [
    "df['exit_survey_source_category'].fillna('unknown', inplace=True)\n",
    "df['exit_survey_submitted_product'].fillna('unknown', inplace=True)\n",
    "df['exit_survey_source'].fillna('unknown', inplace=True)"
   ]
  },
  {
   "cell_type": "markdown",
   "metadata": {},
   "source": [
    " "
   ]
  },
  {
   "cell_type": "markdown",
   "metadata": {},
   "source": [
    " "
   ]
  },
  {
   "cell_type": "markdown",
   "metadata": {},
   "source": [
    "--- "
   ]
  },
  {
   "cell_type": "markdown",
   "metadata": {},
   "source": [
    " "
   ]
  },
  {
   "cell_type": "markdown",
   "metadata": {},
   "source": [
    "## Check Sessions for users who Converted"
   ]
  },
  {
   "cell_type": "code",
   "execution_count": 20,
   "metadata": {},
   "outputs": [
    {
     "data": {
      "text/plain": [
       "array(['11a34cec60b748b28b5e0ebb9d6cd227',\n",
       "       'a5a94680e4e74de8adf5f541bfe68781',\n",
       "       'd74612ffc91f40068b1301e5f7d5a1b4', ...,\n",
       "       '8401b4e5910a4a609683e83c473d3a6d',\n",
       "       '5daf8ce6bc7847c4b0ad02376e95f859',\n",
       "       'cfe8ad4c2bf644d18cf60384efc0a2d3'], dtype=object)"
      ]
     },
     "execution_count": 20,
     "metadata": {},
     "output_type": "execute_result"
    }
   ],
   "source": [
    "df[df['conv_1_life'] == 1]['user_analytics_id'].unique()"
   ]
  },
  {
   "cell_type": "markdown",
   "metadata": {},
   "source": [
    "        If the user has converted, is it Consistent for all the entries?"
   ]
  },
  {
   "cell_type": "code",
   "execution_count": 21,
   "metadata": {},
   "outputs": [
    {
     "data": {
      "text/plain": [
       "array([1.])"
      ]
     },
     "execution_count": 21,
     "metadata": {},
     "output_type": "execute_result"
    }
   ],
   "source": [
    "df[df['user_analytics_id']== '0000876502e244daac0d7c4fafc91392']['conv_1_life'].unique()"
   ]
  },
  {
   "cell_type": "markdown",
   "metadata": {},
   "source": [
    " "
   ]
  },
  {
   "cell_type": "markdown",
   "metadata": {},
   "source": [
    " "
   ]
  },
  {
   "cell_type": "markdown",
   "metadata": {},
   "source": [
    " "
   ]
  },
  {
   "cell_type": "markdown",
   "metadata": {},
   "source": [
    "- **conversion_date**"
   ]
  },
  {
   "cell_type": "code",
   "execution_count": 22,
   "metadata": {},
   "outputs": [],
   "source": [
    "df['conv_1_life_date'] = pd.to_datetime(df['conv_1_life_date'])\n",
    "df['conv_2_life_date'] = pd.to_datetime(df['conv_2_life_date'])\n",
    "df['conv_3_life_date'] = pd.to_datetime(df['conv_3_life_date'])"
   ]
  },
  {
   "cell_type": "markdown",
   "metadata": {},
   "source": [
    "- **created_at**"
   ]
  },
  {
   "cell_type": "markdown",
   "metadata": {},
   "source": [
    "Create Date and Time columns from 'created_at'"
   ]
  },
  {
   "cell_type": "code",
   "execution_count": 23,
   "metadata": {},
   "outputs": [],
   "source": [
    "df['created_at'] = df['created_at'].map(lambda x: x.rstrip(' UTC'))\n",
    "df['created_at'] = pd.to_datetime(df['created_at'])"
   ]
  },
  {
   "cell_type": "markdown",
   "metadata": {},
   "source": [
    " "
   ]
  },
  {
   "cell_type": "markdown",
   "metadata": {},
   "source": [
    " "
   ]
  },
  {
   "cell_type": "markdown",
   "metadata": {},
   "source": [
    " "
   ]
  },
  {
   "cell_type": "markdown",
   "metadata": {},
   "source": [
    "### Create new columns"
   ]
  },
  {
   "cell_type": "code",
   "execution_count": 24,
   "metadata": {},
   "outputs": [
    {
     "data": {
      "text/html": [
       "<div>\n",
       "<style scoped>\n",
       "    .dataframe tbody tr th:only-of-type {\n",
       "        vertical-align: middle;\n",
       "    }\n",
       "\n",
       "    .dataframe tbody tr th {\n",
       "        vertical-align: top;\n",
       "    }\n",
       "\n",
       "    .dataframe thead th {\n",
       "        text-align: right;\n",
       "    }\n",
       "</style>\n",
       "<table border=\"1\" class=\"dataframe\">\n",
       "  <thead>\n",
       "    <tr style=\"text-align: right;\">\n",
       "      <th></th>\n",
       "      <th>user_analytics_id</th>\n",
       "      <th>user_agent</th>\n",
       "      <th>referred_to_url</th>\n",
       "      <th>created_at</th>\n",
       "      <th>visitor_source</th>\n",
       "      <th>conv_1_life</th>\n",
       "      <th>conv_1_life_date</th>\n",
       "      <th>conv_2_life</th>\n",
       "      <th>conv_2_life_date</th>\n",
       "      <th>conv_3_life</th>\n",
       "      <th>conv_3_life_date</th>\n",
       "      <th>exit_survey_source_category</th>\n",
       "      <th>exit_survey_submitted_product</th>\n",
       "      <th>exit_survey_source</th>\n",
       "      <th>product_visited</th>\n",
       "      <th>Time</th>\n",
       "      <th>Date</th>\n",
       "      <th>time_diff_sec</th>\n",
       "    </tr>\n",
       "  </thead>\n",
       "  <tbody>\n",
       "    <tr>\n",
       "      <th>0</th>\n",
       "      <td>170bc53eb46b4e59a2f321bda584e9b8</td>\n",
       "      <td>Mozilla/5.0 (Macintosh; Intel Mac OS X 10_12_6...</td>\n",
       "      <td>/taxes/guide-to-gift-tax/</td>\n",
       "      <td>2020-10-08 13:41:43</td>\n",
       "      <td>Organic - SEO</td>\n",
       "      <td>0.0</td>\n",
       "      <td>NaT</td>\n",
       "      <td>0.0</td>\n",
       "      <td>NaT</td>\n",
       "      <td>0.0</td>\n",
       "      <td>NaT</td>\n",
       "      <td>unknown</td>\n",
       "      <td>unknown</td>\n",
       "      <td>unknown</td>\n",
       "      <td>other</td>\n",
       "      <td>13:41:43</td>\n",
       "      <td>2020-10-08</td>\n",
       "      <td>NaT</td>\n",
       "    </tr>\n",
       "  </tbody>\n",
       "</table>\n",
       "</div>"
      ],
      "text/plain": [
       "                  user_analytics_id  \\\n",
       "0  170bc53eb46b4e59a2f321bda584e9b8   \n",
       "\n",
       "                                          user_agent  \\\n",
       "0  Mozilla/5.0 (Macintosh; Intel Mac OS X 10_12_6...   \n",
       "\n",
       "             referred_to_url          created_at visitor_source  conv_1_life  \\\n",
       "0  /taxes/guide-to-gift-tax/ 2020-10-08 13:41:43  Organic - SEO          0.0   \n",
       "\n",
       "  conv_1_life_date  conv_2_life conv_2_life_date  conv_3_life  \\\n",
       "0              NaT          0.0              NaT          0.0   \n",
       "\n",
       "  conv_3_life_date exit_survey_source_category exit_survey_submitted_product  \\\n",
       "0              NaT                     unknown                       unknown   \n",
       "\n",
       "  exit_survey_source product_visited      Time        Date time_diff_sec  \n",
       "0            unknown           other  13:41:43  2020-10-08           NaT  "
      ]
     },
     "execution_count": 24,
     "metadata": {},
     "output_type": "execute_result"
    }
   ],
   "source": [
    "#1.Created a Date and Time column from created_at\n",
    "\n",
    "df['Time'],df['Date']= df['created_at'].apply(lambda x:x.time()), df['created_at'].apply(lambda x:x.date())\n",
    "df['time_diff_sec'] = df.groupby('user_analytics_id')['created_at'].diff()\n",
    "\n",
    "df.head(1)"
   ]
  },
  {
   "cell_type": "code",
   "execution_count": 25,
   "metadata": {},
   "outputs": [],
   "source": [
    "df['time_diff_sec'] = df.groupby('user_analytics_id')['created_at'].diff()"
   ]
  },
  {
   "cell_type": "markdown",
   "metadata": {},
   "source": [
    " "
   ]
  },
  {
   "cell_type": "code",
   "execution_count": 26,
   "metadata": {},
   "outputs": [
    {
     "data": {
      "text/html": [
       "<div>\n",
       "<style scoped>\n",
       "    .dataframe tbody tr th:only-of-type {\n",
       "        vertical-align: middle;\n",
       "    }\n",
       "\n",
       "    .dataframe tbody tr th {\n",
       "        vertical-align: top;\n",
       "    }\n",
       "\n",
       "    .dataframe thead th {\n",
       "        text-align: right;\n",
       "    }\n",
       "</style>\n",
       "<table border=\"1\" class=\"dataframe\">\n",
       "  <thead>\n",
       "    <tr style=\"text-align: right;\">\n",
       "      <th></th>\n",
       "      <th>user_analytics_id</th>\n",
       "      <th>user_agent</th>\n",
       "      <th>referred_to_url</th>\n",
       "      <th>created_at</th>\n",
       "      <th>visitor_source</th>\n",
       "      <th>conv_1_life</th>\n",
       "      <th>conv_1_life_date</th>\n",
       "      <th>conv_2_life</th>\n",
       "      <th>conv_2_life_date</th>\n",
       "      <th>conv_3_life</th>\n",
       "      <th>conv_3_life_date</th>\n",
       "      <th>exit_survey_source_category</th>\n",
       "      <th>exit_survey_submitted_product</th>\n",
       "      <th>exit_survey_source</th>\n",
       "      <th>product_visited</th>\n",
       "      <th>Time</th>\n",
       "      <th>Date</th>\n",
       "      <th>time_diff_sec</th>\n",
       "    </tr>\n",
       "  </thead>\n",
       "  <tbody>\n",
       "    <tr>\n",
       "      <th>0</th>\n",
       "      <td>00000873fbff416da9913db8a99a1b9d</td>\n",
       "      <td>Mozilla/5.0 (Windows NT 10.0; Win64; x64) Appl...</td>\n",
       "      <td>/affiliates/landing</td>\n",
       "      <td>2020-03-20 18:27:46</td>\n",
       "      <td>Partnerships</td>\n",
       "      <td>0.0</td>\n",
       "      <td>NaT</td>\n",
       "      <td>0.0</td>\n",
       "      <td>NaT</td>\n",
       "      <td>0.0</td>\n",
       "      <td>NaT</td>\n",
       "      <td>unknown</td>\n",
       "      <td>unknown</td>\n",
       "      <td>unknown</td>\n",
       "      <td>other</td>\n",
       "      <td>18:27:46</td>\n",
       "      <td>2020-03-20</td>\n",
       "      <td>NaT</td>\n",
       "    </tr>\n",
       "    <tr>\n",
       "      <th>1</th>\n",
       "      <td>00000c61c3c741298c2b64dccac6cd3a</td>\n",
       "      <td>Mozilla/5.0 (Macintosh; Intel Mac OS X 10_15_3...</td>\n",
       "      <td>https://renters.policygenius.com/renters-insur...</td>\n",
       "      <td>2020-04-18 19:33:29</td>\n",
       "      <td>Earned Media</td>\n",
       "      <td>0.0</td>\n",
       "      <td>NaT</td>\n",
       "      <td>0.0</td>\n",
       "      <td>NaT</td>\n",
       "      <td>0.0</td>\n",
       "      <td>NaT</td>\n",
       "      <td>unknown</td>\n",
       "      <td>unknown</td>\n",
       "      <td>unknown</td>\n",
       "      <td>other</td>\n",
       "      <td>19:33:29</td>\n",
       "      <td>2020-04-18</td>\n",
       "      <td>-5 days +10:35:26</td>\n",
       "    </tr>\n",
       "    <tr>\n",
       "      <th>2</th>\n",
       "      <td>00000c61c3c741298c2b64dccac6cd3a</td>\n",
       "      <td>Mozilla/5.0 (Macintosh; Intel Mac OS X 10_15_3...</td>\n",
       "      <td>/</td>\n",
       "      <td>2020-04-23 08:58:03</td>\n",
       "      <td>Direct</td>\n",
       "      <td>0.0</td>\n",
       "      <td>NaT</td>\n",
       "      <td>0.0</td>\n",
       "      <td>NaT</td>\n",
       "      <td>0.0</td>\n",
       "      <td>NaT</td>\n",
       "      <td>unknown</td>\n",
       "      <td>unknown</td>\n",
       "      <td>unknown</td>\n",
       "      <td>other</td>\n",
       "      <td>08:58:03</td>\n",
       "      <td>2020-04-23</td>\n",
       "      <td>NaT</td>\n",
       "    </tr>\n",
       "    <tr>\n",
       "      <th>3</th>\n",
       "      <td>00001b6b02e74e44b3a14485e39038fc</td>\n",
       "      <td>Mozilla/5.0 (Windows NT 10.0; Win64; x64; rv:8...</td>\n",
       "      <td>/blog/american-money-what-lincoln-teaches-us-a...</td>\n",
       "      <td>2021-01-25 23:00:06</td>\n",
       "      <td>Organic - SEO</td>\n",
       "      <td>0.0</td>\n",
       "      <td>NaT</td>\n",
       "      <td>0.0</td>\n",
       "      <td>NaT</td>\n",
       "      <td>0.0</td>\n",
       "      <td>NaT</td>\n",
       "      <td>unknown</td>\n",
       "      <td>unknown</td>\n",
       "      <td>unknown</td>\n",
       "      <td>other</td>\n",
       "      <td>23:00:06</td>\n",
       "      <td>2021-01-25</td>\n",
       "      <td>NaT</td>\n",
       "    </tr>\n",
       "  </tbody>\n",
       "</table>\n",
       "</div>"
      ],
      "text/plain": [
       "                  user_analytics_id  \\\n",
       "0  00000873fbff416da9913db8a99a1b9d   \n",
       "1  00000c61c3c741298c2b64dccac6cd3a   \n",
       "2  00000c61c3c741298c2b64dccac6cd3a   \n",
       "3  00001b6b02e74e44b3a14485e39038fc   \n",
       "\n",
       "                                          user_agent  \\\n",
       "0  Mozilla/5.0 (Windows NT 10.0; Win64; x64) Appl...   \n",
       "1  Mozilla/5.0 (Macintosh; Intel Mac OS X 10_15_3...   \n",
       "2  Mozilla/5.0 (Macintosh; Intel Mac OS X 10_15_3...   \n",
       "3  Mozilla/5.0 (Windows NT 10.0; Win64; x64; rv:8...   \n",
       "\n",
       "                                     referred_to_url          created_at  \\\n",
       "0                                /affiliates/landing 2020-03-20 18:27:46   \n",
       "1  https://renters.policygenius.com/renters-insur... 2020-04-18 19:33:29   \n",
       "2                                                  / 2020-04-23 08:58:03   \n",
       "3  /blog/american-money-what-lincoln-teaches-us-a... 2021-01-25 23:00:06   \n",
       "\n",
       "  visitor_source  conv_1_life conv_1_life_date  conv_2_life conv_2_life_date  \\\n",
       "0   Partnerships          0.0              NaT          0.0              NaT   \n",
       "1   Earned Media          0.0              NaT          0.0              NaT   \n",
       "2         Direct          0.0              NaT          0.0              NaT   \n",
       "3  Organic - SEO          0.0              NaT          0.0              NaT   \n",
       "\n",
       "   conv_3_life conv_3_life_date exit_survey_source_category  \\\n",
       "0          0.0              NaT                     unknown   \n",
       "1          0.0              NaT                     unknown   \n",
       "2          0.0              NaT                     unknown   \n",
       "3          0.0              NaT                     unknown   \n",
       "\n",
       "  exit_survey_submitted_product exit_survey_source product_visited      Time  \\\n",
       "0                       unknown            unknown           other  18:27:46   \n",
       "1                       unknown            unknown           other  19:33:29   \n",
       "2                       unknown            unknown           other  08:58:03   \n",
       "3                       unknown            unknown           other  23:00:06   \n",
       "\n",
       "         Date     time_diff_sec  \n",
       "0  2020-03-20               NaT  \n",
       "1  2020-04-18 -5 days +10:35:26  \n",
       "2  2020-04-23               NaT  \n",
       "3  2021-01-25               NaT  "
      ]
     },
     "execution_count": 26,
     "metadata": {},
     "output_type": "execute_result"
    }
   ],
   "source": [
    "df.sort_values(['user_analytics_id','Date','Time'], inplace=True)\n",
    "df.reset_index(drop=True, inplace=True)\n",
    "df.head(4)"
   ]
  },
  {
   "cell_type": "markdown",
   "metadata": {},
   "source": [
    " "
   ]
  },
  {
   "cell_type": "markdown",
   "metadata": {},
   "source": [
    " "
   ]
  },
  {
   "cell_type": "markdown",
   "metadata": {},
   "source": [
    " "
   ]
  },
  {
   "cell_type": "markdown",
   "metadata": {},
   "source": [
    "### Analyze the time difference between the two clicks "
   ]
  },
  {
   "cell_type": "code",
   "execution_count": 43,
   "metadata": {},
   "outputs": [
    {
     "data": {
      "image/png": "[encoded data removed]",
      "text/plain": [
       "<Figure size 576x360 with 1 Axes>"
      ]
     },
     "metadata": {
      "needs_background": "light"
     },
     "output_type": "display_data"
    }
   ],
   "source": [
    "#Plot Time difference < 60 mins\n",
    "\n",
    "plt.figure(figsize=(8,5))\n",
    "sns.kdeplot(df[df['time_diff_sec'] <= pd.Timedelta(60,'m')]['time_diff_sec'].dt.components['minutes'], color=\"darkturquoise\", shade=True)\n",
    "plt.legend(['Time between the two clicks'])\n",
    "plt.title('Density Plot of Time (min) between the two clicks ')\n",
    "plt.xlabel('Time in min')\n",
    "plt.show()"
   ]
  },
  {
   "cell_type": "markdown",
   "metadata": {},
   "source": [
    " "
   ]
  },
  {
   "cell_type": "markdown",
   "metadata": {},
   "source": [
    "---"
   ]
  },
  {
   "cell_type": "markdown",
   "metadata": {},
   "source": [
    " "
   ]
  },
  {
   "cell_type": "markdown",
   "metadata": {},
   "source": [
    " "
   ]
  },
  {
   "cell_type": "markdown",
   "metadata": {},
   "source": [
    "# Change 1 "
   ]
  },
  {
   "cell_type": "markdown",
   "metadata": {},
   "source": [
    "##  referred_to_url "
   ]
  },
  {
   "cell_type": "code",
   "execution_count": 122,
   "metadata": {},
   "outputs": [
    {
     "data": {
      "text/plain": [
       "array(['/thebalance-life-aig', '/thebalance-life-aig/'], dtype=object)"
      ]
     },
     "execution_count": 122,
     "metadata": {},
     "output_type": "execute_result"
    }
   ],
   "source": [
    "df[df['user_analytics_id']=='000ddd7a158043beac42f14d418cd574']['referred_to_url'].unique()"
   ]
  },
  {
   "cell_type": "code",
   "execution_count": 123,
   "metadata": {},
   "outputs": [],
   "source": [
    "df['referred_to_url'] = df['referred_to_url'].astype('str')\n",
    "df['referred_to_url'] = df['referred_to_url'].apply(lambda x: x + '/' if not x.endswith('/') else x)"
   ]
  },
  {
   "cell_type": "code",
   "execution_count": 124,
   "metadata": {},
   "outputs": [
    {
     "data": {
      "text/plain": [
       "array(['/thebalance-life-aig/'], dtype=object)"
      ]
     },
     "execution_count": 124,
     "metadata": {},
     "output_type": "execute_result"
    }
   ],
   "source": [
    "df[df['user_analytics_id']=='000ddd7a158043beac42f14d418cd574']['referred_to_url'].unique()"
   ]
  },
  {
   "cell_type": "markdown",
   "metadata": {},
   "source": [
    " "
   ]
  },
  {
   "cell_type": "markdown",
   "metadata": {},
   "source": [
    " "
   ]
  },
  {
   "cell_type": "markdown",
   "metadata": {},
   "source": [
    " "
   ]
  },
  {
   "cell_type": "markdown",
   "metadata": {},
   "source": [
    "# Change 2 "
   ]
  },
  {
   "cell_type": "markdown",
   "metadata": {},
   "source": [
    " "
   ]
  },
  {
   "cell_type": "markdown",
   "metadata": {},
   "source": [
    "## product_visited "
   ]
  },
  {
   "cell_type": "code",
   "execution_count": 55,
   "metadata": {},
   "outputs": [
    {
     "data": {
      "text/plain": [
       "array(['/life-insurance/fbtp/', '/life-insurance/application',\n",
       "       '/life-insurance/no-zip-mlp-1', ...,\n",
       "       '/autologin/BAh7CDoMdXNlcl9pZGkE7q%252BbAToQcmVkaXJlY3RfdG8wOg9leHBpcmVzX2F0VTogQWN0aXZlU3VwcG9ydDo6VGltZVdpdGhab25lWwhJdToJVGltZQ12Ch7ApiBWoAk6CXpvbmVJIghVVEMGOgZFRjoNbmFub19udW1pAngDOg1uYW5vX2RlbmkGOg1zdWJtaWNybyIHiIBJIghVVEMGOwtUQAo%253D--27d88df159d76d9a98a262ba445f6529b314c58f/r/life-insurance/signatures/security-questions/ac1d7bf5-0b6f-49bd-a472-6eb6263c3621',\n",
       "       '/life-insurance/signatures/security-questions/9d028f15-4501-487e-aaaf-e6747b64e013',\n",
       "       '/life-insurance/signatures/basics-confirmation/af92067d-835c-41b1-b030-b3fc1ba83626'],\n",
       "      dtype=object)"
      ]
     },
     "execution_count": 55,
     "metadata": {},
     "output_type": "execute_result"
    }
   ],
   "source": [
    "df[df['product_visited'] == 'life']['referred_to_url'].unique()"
   ]
  },
  {
   "cell_type": "markdown",
   "metadata": {},
   "source": [
    " "
   ]
  },
  {
   "cell_type": "code",
   "execution_count": 56,
   "metadata": {},
   "outputs": [
    {
     "data": {
      "text/html": [
       "<div>\n",
       "<style scoped>\n",
       "    .dataframe tbody tr th:only-of-type {\n",
       "        vertical-align: middle;\n",
       "    }\n",
       "\n",
       "    .dataframe tbody tr th {\n",
       "        vertical-align: top;\n",
       "    }\n",
       "\n",
       "    .dataframe thead th {\n",
       "        text-align: right;\n",
       "    }\n",
       "</style>\n",
       "<table border=\"1\" class=\"dataframe\">\n",
       "  <thead>\n",
       "    <tr style=\"text-align: right;\">\n",
       "      <th></th>\n",
       "      <th>product_visited</th>\n",
       "      <th>referred_to_url</th>\n",
       "    </tr>\n",
       "  </thead>\n",
       "  <tbody>\n",
       "    <tr>\n",
       "      <th>0</th>\n",
       "      <td>auto</td>\n",
       "      <td>[/auto-insurance/reviews/metlife/]</td>\n",
       "    </tr>\n",
       "    <tr>\n",
       "      <th>1</th>\n",
       "      <td>home</td>\n",
       "      <td>[/homeowners-insurance/reviews/metlife/, /home...</td>\n",
       "    </tr>\n",
       "    <tr>\n",
       "      <th>2</th>\n",
       "      <td>other</td>\n",
       "      <td>[/awareness-5-tips-for-spouses-shopping-for-li...</td>\n",
       "    </tr>\n",
       "  </tbody>\n",
       "</table>\n",
       "</div>"
      ],
      "text/plain": [
       "  product_visited                                    referred_to_url\n",
       "0            auto                 [/auto-insurance/reviews/metlife/]\n",
       "1            home  [/homeowners-insurance/reviews/metlife/, /home...\n",
       "2           other  [/awareness-5-tips-for-spouses-shopping-for-li..."
      ]
     },
     "execution_count": 56,
     "metadata": {},
     "output_type": "execute_result"
    }
   ],
   "source": [
    "product_visited_df = pd.DataFrame(df[(df['referred_to_url'].str.contains(\"life\", na=False)) & (df['product_visited'] != 'life')][['referred_to_url','product_visited']]\\\n",
    "             .groupby(['product_visited'])['referred_to_url'].unique()).reset_index()\n",
    "\n",
    "\n",
    "\n",
    "product_visited_df"
   ]
  },
  {
   "cell_type": "code",
   "execution_count": 71,
   "metadata": {},
   "outputs": [
    {
     "name": "stdout",
     "output_type": "stream",
     "text": [
      "auto:  1\n",
      "home:  3\n",
      "other:  15149\n"
     ]
    }
   ],
   "source": [
    "print(\"auto: \", len(list(product_visited_df[product_visited_df['product_visited'] == 'auto']['referred_to_url'][0])))\n",
    "print(\"home: \", len( list(product_visited_df[product_visited_df['product_visited'] == 'home']['referred_to_url'][1])))\n",
    "print(\"other: \", len( list(product_visited_df[product_visited_df['product_visited'] == 'other']['referred_to_url'][2])))"
   ]
  },
  {
   "cell_type": "markdown",
   "metadata": {},
   "source": [
    " "
   ]
  },
  {
   "cell_type": "markdown",
   "metadata": {},
   "source": [
    " "
   ]
  },
  {
   "cell_type": "markdown",
   "metadata": {},
   "source": [
    " "
   ]
  },
  {
   "cell_type": "markdown",
   "metadata": {},
   "source": [
    "**product_visited = auto**\n",
    "\n",
    "Check unique referred_to_url for product visited 'auto'"
   ]
  },
  {
   "cell_type": "code",
   "execution_count": 72,
   "metadata": {},
   "outputs": [
    {
     "data": {
      "text/plain": [
       "['/auto-insurance/reviews/metlife/']"
      ]
     },
     "execution_count": 72,
     "metadata": {},
     "output_type": "execute_result"
    }
   ],
   "source": [
    "product_visited_df[product_visited_df['product_visited']== 'auto']['referred_to_url'][0].tolist()"
   ]
  },
  {
   "cell_type": "markdown",
   "metadata": {},
   "source": [
    " "
   ]
  },
  {
   "cell_type": "markdown",
   "metadata": {},
   "source": [
    " "
   ]
  },
  {
   "cell_type": "markdown",
   "metadata": {},
   "source": [
    "**product_visited = home**\n",
    "\n",
    "Check unique referred_to_url for product visited 'home'"
   ]
  },
  {
   "cell_type": "code",
   "execution_count": 73,
   "metadata": {},
   "outputs": [
    {
     "data": {
      "text/plain": [
       "['/homeowners-insurance/reviews/metlife/',\n",
       " '/homeowners-insurance/home-insurance-vs-life-insurance/',\n",
       " '/homeowners-insurance/home-insurance-vs-life-insurance']"
      ]
     },
     "execution_count": 73,
     "metadata": {},
     "output_type": "execute_result"
    }
   ],
   "source": [
    "product_visited_df[product_visited_df['product_visited']== 'home']['referred_to_url'][1].tolist()"
   ]
  },
  {
   "cell_type": "markdown",
   "metadata": {},
   "source": [
    " "
   ]
  },
  {
   "cell_type": "markdown",
   "metadata": {},
   "source": [
    " "
   ]
  },
  {
   "cell_type": "markdown",
   "metadata": {},
   "source": [
    "**product_visited = other**\n",
    "\n",
    "Check unique referred_to_url for product visited 'auto'\n",
    "\n",
    "- /umbrella/v1/gold-rush/lincoln-national-life/\n",
    "- /blog/new-parent-additional-life-insurance/\n",
    "- /investopedia-life-protective\n",
    "- /blog/is-pet-life-insurance-worth-it/\n",
    "- /creditkarma-life/\n",
    "- /nerdwallet-life/\n",
    "- /blog/what-happens-when-youre-owed-life-insurance-money-dont-know-it/\n",
    "\n",
    "**life insurance related**\n",
    "- /policy-center/life/confirmation\n",
    "- /bestowlife\n",
    "- /policy-center/life\n",
    "- /physicianonfirelife/\n",
    "\n",
    "**non-life insurance related**\n",
    "- /defrancolife/\n",
    "- /whatsinsidelife/\n",
    "\n"
   ]
  },
  {
   "cell_type": "markdown",
   "metadata": {},
   "source": [
    " "
   ]
  },
  {
   "cell_type": "markdown",
   "metadata": {},
   "source": [
    " "
   ]
  },
  {
   "cell_type": "code",
   "execution_count": null,
   "metadata": {},
   "outputs": [],
   "source": [
    "#product_visited_df[product_visited_df['product_visited']== 'other']['referred_to_url'][2].tolist()"
   ]
  },
  {
   "cell_type": "markdown",
   "metadata": {},
   "source": [
    "#### <span style=\"color:black\"> Replace product_visited = Life </span>"
   ]
  },
  {
   "cell_type": "code",
   "execution_count": 74,
   "metadata": {},
   "outputs": [],
   "source": [
    "df.loc[(df['referred_to_url'].str.contains(\"-life\", na=False)) & (df['product_visited'] == 'other'), 'product_visited'] = 'life'"
   ]
  },
  {
   "cell_type": "markdown",
   "metadata": {},
   "source": [
    " "
   ]
  },
  {
   "cell_type": "markdown",
   "metadata": {},
   "source": [
    " "
   ]
  },
  {
   "cell_type": "code",
   "execution_count": null,
   "metadata": {},
   "outputs": [],
   "source": [
    "df.to_csv(\"datacleaning.csv\")"
   ]
  },
  {
   "cell_type": "markdown",
   "metadata": {},
   "source": [
    " "
   ]
  },
  {
   "cell_type": "markdown",
   "metadata": {},
   "source": [
    "------"
   ]
  },
  {
   "cell_type": "markdown",
   "metadata": {},
   "source": [
    "# Change 3 "
   ]
  },
  {
   "cell_type": "markdown",
   "metadata": {},
   "source": [
    "## Create Sessions "
   ]
  },
  {
   "cell_type": "markdown",
   "metadata": {},
   "source": [
    " "
   ]
  },
  {
   "cell_type": "markdown",
   "metadata": {},
   "source": [
    "A session is a group of user interactions with your website that take place within a given time frame (a single session can contain multiple page views)\n",
    "\n",
    "We are following two methods by which a session ends:\n",
    "\n",
    "- Time-based expiration:\n",
    "    - After 30 minutes of inactivity\n",
    "    - At midnight\n",
    "    \n",
    "    \n",
    "- Campaign change:\n",
    "    - If a user arrives via one campaign, leaves, and then comes back via a different campaign.\n",
    "    \n",
    "    \n",
    "    \n",
    "A single user can open multiple sessions. Those sessions can occur on the same day, or over several days, weeks, or months. As soon as one session ends, there is then an opportunity to start a new session. "
   ]
  },
  {
   "cell_type": "markdown",
   "metadata": {},
   "source": [
    " "
   ]
  },
  {
   "cell_type": "markdown",
   "metadata": {},
   "source": [
    " "
   ]
  },
  {
   "cell_type": "markdown",
   "metadata": {},
   "source": [
    "For each user, we have created separate sessions based on their inactivity on the page. For example, if a user is inactive for more than 30 mins, we tag his next interaction as a new session. The above script assigns a session id in an incremental format for each user based on the time difference between their consecutive interactions. Also, we assume that a new session starts with a new day.  "
   ]
  },
  {
   "cell_type": "code",
   "execution_count": 94,
   "metadata": {},
   "outputs": [],
   "source": [
    "# Sorting is needed, otherwise .diff() will output wrong results\n",
    "df.sort_values(['user_analytics_id', 'created_at'], inplace=True)\n",
    "\n",
    "# Create unique session_id for every user with Timestamp diff in seconds\n",
    "df['session_id'] = df.loc[(df.groupby('user_analytics_id')['created_at'].diff().isnull()) | (df.groupby('user_analytics_id')['created_at'].diff() > pd.Timedelta(60, 's')), ['user_analytics_id', 'created_at']] \\\n",
    ".groupby('user_analytics_id').rank(method='first').astype(int).fillna(method='ffill').astype(int)\n"
   ]
  },
  {
   "cell_type": "markdown",
   "metadata": {},
   "source": [
    " "
   ]
  },
  {
   "cell_type": "markdown",
   "metadata": {},
   "source": [
    "## Analysis "
   ]
  },
  {
   "cell_type": "markdown",
   "metadata": {},
   "source": [
    "##  Example 1 \n",
    "    USER: e92e0324865f41ae85c1feda74f566f6"
   ]
  },
  {
   "cell_type": "code",
   "execution_count": 101,
   "metadata": {},
   "outputs": [
    {
     "data": {
      "text/html": [
       "<div>\n",
       "<style scoped>\n",
       "    .dataframe tbody tr th:only-of-type {\n",
       "        vertical-align: middle;\n",
       "    }\n",
       "\n",
       "    .dataframe tbody tr th {\n",
       "        vertical-align: top;\n",
       "    }\n",
       "\n",
       "    .dataframe thead th {\n",
       "        text-align: right;\n",
       "    }\n",
       "</style>\n",
       "<table border=\"1\" class=\"dataframe\">\n",
       "  <thead>\n",
       "    <tr style=\"text-align: right;\">\n",
       "      <th></th>\n",
       "      <th>user_analytics_id</th>\n",
       "      <th>user_agent</th>\n",
       "      <th>referred_to_url</th>\n",
       "      <th>visitor_source</th>\n",
       "      <th>product_visited</th>\n",
       "      <th>Time</th>\n",
       "      <th>Date</th>\n",
       "      <th>session_id</th>\n",
       "    </tr>\n",
       "  </thead>\n",
       "  <tbody>\n",
       "    <tr>\n",
       "      <th>0</th>\n",
       "      <td>e92e0324865f41ae85c1feda74f566f6</td>\n",
       "      <td>Mozilla/5.0 (Linux; Android 8.1.0; LML211BL) A...</td>\n",
       "      <td>/top10-life/index.html/</td>\n",
       "      <td>Partnerships</td>\n",
       "      <td>life</td>\n",
       "      <td>11:36:17</td>\n",
       "      <td>2020-09-17</td>\n",
       "      <td>1</td>\n",
       "    </tr>\n",
       "    <tr>\n",
       "      <th>1</th>\n",
       "      <td>e92e0324865f41ae85c1feda74f566f6</td>\n",
       "      <td>Mozilla/5.0 (Linux; Android 8.1.0; LML211BL) A...</td>\n",
       "      <td>/autologin/BAh7CDoMdXNlcl9pZGkEp%252F8YAjoQcmV...</td>\n",
       "      <td>Email</td>\n",
       "      <td>life</td>\n",
       "      <td>12:02:13</td>\n",
       "      <td>2020-10-02</td>\n",
       "      <td>2</td>\n",
       "    </tr>\n",
       "    <tr>\n",
       "      <th>2</th>\n",
       "      <td>e92e0324865f41ae85c1feda74f566f6</td>\n",
       "      <td>Mozilla/5.0 (Linux; Android 8.1.0; LML211BL) A...</td>\n",
       "      <td>/life-insurance/comparison/</td>\n",
       "      <td>Email</td>\n",
       "      <td>life</td>\n",
       "      <td>12:04:49</td>\n",
       "      <td>2020-10-02</td>\n",
       "      <td>2</td>\n",
       "    </tr>\n",
       "    <tr>\n",
       "      <th>3</th>\n",
       "      <td>e92e0324865f41ae85c1feda74f566f6</td>\n",
       "      <td>Mozilla/5.0 (Linux; Android 8.1.0; LML211BL) A...</td>\n",
       "      <td>/life-insurance/comparison/</td>\n",
       "      <td>Email</td>\n",
       "      <td>life</td>\n",
       "      <td>12:04:55</td>\n",
       "      <td>2020-10-02</td>\n",
       "      <td>2</td>\n",
       "    </tr>\n",
       "    <tr>\n",
       "      <th>4</th>\n",
       "      <td>e92e0324865f41ae85c1feda74f566f6</td>\n",
       "      <td>Mozilla/5.0 (Linux; Android 8.1.0; LML211BL) A...</td>\n",
       "      <td>/life-insurance/comparison/</td>\n",
       "      <td>Email</td>\n",
       "      <td>life</td>\n",
       "      <td>12:05:11</td>\n",
       "      <td>2020-10-02</td>\n",
       "      <td>2</td>\n",
       "    </tr>\n",
       "    <tr>\n",
       "      <th>5</th>\n",
       "      <td>e92e0324865f41ae85c1feda74f566f6</td>\n",
       "      <td>Mozilla/5.0 (Linux; Android 8.1.0; LML211BL) A...</td>\n",
       "      <td>/life-insurance/comparison/</td>\n",
       "      <td>Email</td>\n",
       "      <td>life</td>\n",
       "      <td>12:07:05</td>\n",
       "      <td>2020-10-02</td>\n",
       "      <td>2</td>\n",
       "    </tr>\n",
       "    <tr>\n",
       "      <th>6</th>\n",
       "      <td>e92e0324865f41ae85c1feda74f566f6</td>\n",
       "      <td>Mozilla/5.0 (Linux; Android 8.1.0; LML211BL) A...</td>\n",
       "      <td>/life-insurance/comparison/</td>\n",
       "      <td>Email</td>\n",
       "      <td>life</td>\n",
       "      <td>12:14:47</td>\n",
       "      <td>2020-10-02</td>\n",
       "      <td>2</td>\n",
       "    </tr>\n",
       "    <tr>\n",
       "      <th>7</th>\n",
       "      <td>e92e0324865f41ae85c1feda74f566f6</td>\n",
       "      <td>Mozilla/5.0 (Linux; Android 8.1.0; LML211BL) A...</td>\n",
       "      <td>/life-insurance/comparison/</td>\n",
       "      <td>Email</td>\n",
       "      <td>life</td>\n",
       "      <td>12:25:59</td>\n",
       "      <td>2020-10-02</td>\n",
       "      <td>2</td>\n",
       "    </tr>\n",
       "    <tr>\n",
       "      <th>8</th>\n",
       "      <td>e92e0324865f41ae85c1feda74f566f6</td>\n",
       "      <td>Mozilla/5.0 (Linux; Android 8.1.0; LML211BL) A...</td>\n",
       "      <td>/life-insurance/comparison/</td>\n",
       "      <td>Email</td>\n",
       "      <td>life</td>\n",
       "      <td>12:37:30</td>\n",
       "      <td>2020-10-02</td>\n",
       "      <td>2</td>\n",
       "    </tr>\n",
       "    <tr>\n",
       "      <th>9</th>\n",
       "      <td>e92e0324865f41ae85c1feda74f566f6</td>\n",
       "      <td>Mozilla/5.0 (Linux; Android 8.1.0; LML211BL) A...</td>\n",
       "      <td>/life-insurance/comparison/</td>\n",
       "      <td>Email</td>\n",
       "      <td>life</td>\n",
       "      <td>12:38:17</td>\n",
       "      <td>2020-10-02</td>\n",
       "      <td>2</td>\n",
       "    </tr>\n",
       "    <tr>\n",
       "      <th>10</th>\n",
       "      <td>e92e0324865f41ae85c1feda74f566f6</td>\n",
       "      <td>Mozilla/5.0 (Linux; Android 8.1.0; LML211BL) A...</td>\n",
       "      <td>/life-insurance/comparison/</td>\n",
       "      <td>Email</td>\n",
       "      <td>life</td>\n",
       "      <td>12:38:36</td>\n",
       "      <td>2020-10-02</td>\n",
       "      <td>2</td>\n",
       "    </tr>\n",
       "    <tr>\n",
       "      <th>11</th>\n",
       "      <td>e92e0324865f41ae85c1feda74f566f6</td>\n",
       "      <td>Mozilla/5.0 (Linux; Android 8.1.0; LML211BL) A...</td>\n",
       "      <td>/life-insurance/comparison/</td>\n",
       "      <td>Email</td>\n",
       "      <td>life</td>\n",
       "      <td>14:01:09</td>\n",
       "      <td>2020-10-02</td>\n",
       "      <td>3</td>\n",
       "    </tr>\n",
       "    <tr>\n",
       "      <th>12</th>\n",
       "      <td>e92e0324865f41ae85c1feda74f566f6</td>\n",
       "      <td>Mozilla/5.0 (Linux; Android 8.1.0; LML211BL) A...</td>\n",
       "      <td>/life-insurance/comparison/</td>\n",
       "      <td>Email</td>\n",
       "      <td>life</td>\n",
       "      <td>14:01:35</td>\n",
       "      <td>2020-10-02</td>\n",
       "      <td>3</td>\n",
       "    </tr>\n",
       "    <tr>\n",
       "      <th>13</th>\n",
       "      <td>e92e0324865f41ae85c1feda74f566f6</td>\n",
       "      <td>Mozilla/5.0 (Linux; Android 8.1.0; LML211BL) A...</td>\n",
       "      <td>/life-insurance/comparison/</td>\n",
       "      <td>Email</td>\n",
       "      <td>life</td>\n",
       "      <td>14:02:27</td>\n",
       "      <td>2020-10-02</td>\n",
       "      <td>3</td>\n",
       "    </tr>\n",
       "    <tr>\n",
       "      <th>14</th>\n",
       "      <td>e92e0324865f41ae85c1feda74f566f6</td>\n",
       "      <td>Mozilla/5.0 (Linux; Android 8.1.0; LML211BL) A...</td>\n",
       "      <td>/life-insurance/comparison/</td>\n",
       "      <td>Email</td>\n",
       "      <td>life</td>\n",
       "      <td>14:04:11</td>\n",
       "      <td>2020-10-02</td>\n",
       "      <td>3</td>\n",
       "    </tr>\n",
       "    <tr>\n",
       "      <th>15</th>\n",
       "      <td>e92e0324865f41ae85c1feda74f566f6</td>\n",
       "      <td>Mozilla/5.0 (Linux; Android 8.1.0; LML211BL) A...</td>\n",
       "      <td>/life-insurance/comparison/</td>\n",
       "      <td>Email</td>\n",
       "      <td>life</td>\n",
       "      <td>14:07:26</td>\n",
       "      <td>2020-10-02</td>\n",
       "      <td>3</td>\n",
       "    </tr>\n",
       "    <tr>\n",
       "      <th>16</th>\n",
       "      <td>e92e0324865f41ae85c1feda74f566f6</td>\n",
       "      <td>Mozilla/5.0 (Linux; Android 8.1.0; LML211BL) A...</td>\n",
       "      <td>/life-insurance/comparison/</td>\n",
       "      <td>Email</td>\n",
       "      <td>life</td>\n",
       "      <td>14:08:12</td>\n",
       "      <td>2020-10-02</td>\n",
       "      <td>3</td>\n",
       "    </tr>\n",
       "    <tr>\n",
       "      <th>17</th>\n",
       "      <td>e92e0324865f41ae85c1feda74f566f6</td>\n",
       "      <td>Mozilla/5.0 (Linux; Android 8.1.0; LML211BL) A...</td>\n",
       "      <td>/life-insurance/comparison/</td>\n",
       "      <td>Email</td>\n",
       "      <td>life</td>\n",
       "      <td>14:08:38</td>\n",
       "      <td>2020-10-02</td>\n",
       "      <td>3</td>\n",
       "    </tr>\n",
       "    <tr>\n",
       "      <th>18</th>\n",
       "      <td>e92e0324865f41ae85c1feda74f566f6</td>\n",
       "      <td>Mozilla/5.0 (Linux; Android 8.1.0; LML211BL) A...</td>\n",
       "      <td>/life-insurance/comparison/</td>\n",
       "      <td>Email</td>\n",
       "      <td>life</td>\n",
       "      <td>14:09:02</td>\n",
       "      <td>2020-10-02</td>\n",
       "      <td>3</td>\n",
       "    </tr>\n",
       "    <tr>\n",
       "      <th>19</th>\n",
       "      <td>e92e0324865f41ae85c1feda74f566f6</td>\n",
       "      <td>Mozilla/5.0 (Linux; Android 8.1.0; LML211BL) A...</td>\n",
       "      <td>/life-insurance/comparison/</td>\n",
       "      <td>Email</td>\n",
       "      <td>life</td>\n",
       "      <td>14:09:08</td>\n",
       "      <td>2020-10-02</td>\n",
       "      <td>3</td>\n",
       "    </tr>\n",
       "  </tbody>\n",
       "</table>\n",
       "</div>"
      ],
      "text/plain": [
       "                   user_analytics_id  \\\n",
       "0   e92e0324865f41ae85c1feda74f566f6   \n",
       "1   e92e0324865f41ae85c1feda74f566f6   \n",
       "2   e92e0324865f41ae85c1feda74f566f6   \n",
       "3   e92e0324865f41ae85c1feda74f566f6   \n",
       "4   e92e0324865f41ae85c1feda74f566f6   \n",
       "5   e92e0324865f41ae85c1feda74f566f6   \n",
       "6   e92e0324865f41ae85c1feda74f566f6   \n",
       "7   e92e0324865f41ae85c1feda74f566f6   \n",
       "8   e92e0324865f41ae85c1feda74f566f6   \n",
       "9   e92e0324865f41ae85c1feda74f566f6   \n",
       "10  e92e0324865f41ae85c1feda74f566f6   \n",
       "11  e92e0324865f41ae85c1feda74f566f6   \n",
       "12  e92e0324865f41ae85c1feda74f566f6   \n",
       "13  e92e0324865f41ae85c1feda74f566f6   \n",
       "14  e92e0324865f41ae85c1feda74f566f6   \n",
       "15  e92e0324865f41ae85c1feda74f566f6   \n",
       "16  e92e0324865f41ae85c1feda74f566f6   \n",
       "17  e92e0324865f41ae85c1feda74f566f6   \n",
       "18  e92e0324865f41ae85c1feda74f566f6   \n",
       "19  e92e0324865f41ae85c1feda74f566f6   \n",
       "\n",
       "                                           user_agent  \\\n",
       "0   Mozilla/5.0 (Linux; Android 8.1.0; LML211BL) A...   \n",
       "1   Mozilla/5.0 (Linux; Android 8.1.0; LML211BL) A...   \n",
       "2   Mozilla/5.0 (Linux; Android 8.1.0; LML211BL) A...   \n",
       "3   Mozilla/5.0 (Linux; Android 8.1.0; LML211BL) A...   \n",
       "4   Mozilla/5.0 (Linux; Android 8.1.0; LML211BL) A...   \n",
       "5   Mozilla/5.0 (Linux; Android 8.1.0; LML211BL) A...   \n",
       "6   Mozilla/5.0 (Linux; Android 8.1.0; LML211BL) A...   \n",
       "7   Mozilla/5.0 (Linux; Android 8.1.0; LML211BL) A...   \n",
       "8   Mozilla/5.0 (Linux; Android 8.1.0; LML211BL) A...   \n",
       "9   Mozilla/5.0 (Linux; Android 8.1.0; LML211BL) A...   \n",
       "10  Mozilla/5.0 (Linux; Android 8.1.0; LML211BL) A...   \n",
       "11  Mozilla/5.0 (Linux; Android 8.1.0; LML211BL) A...   \n",
       "12  Mozilla/5.0 (Linux; Android 8.1.0; LML211BL) A...   \n",
       "13  Mozilla/5.0 (Linux; Android 8.1.0; LML211BL) A...   \n",
       "14  Mozilla/5.0 (Linux; Android 8.1.0; LML211BL) A...   \n",
       "15  Mozilla/5.0 (Linux; Android 8.1.0; LML211BL) A...   \n",
       "16  Mozilla/5.0 (Linux; Android 8.1.0; LML211BL) A...   \n",
       "17  Mozilla/5.0 (Linux; Android 8.1.0; LML211BL) A...   \n",
       "18  Mozilla/5.0 (Linux; Android 8.1.0; LML211BL) A...   \n",
       "19  Mozilla/5.0 (Linux; Android 8.1.0; LML211BL) A...   \n",
       "\n",
       "                                      referred_to_url visitor_source  \\\n",
       "0                             /top10-life/index.html/   Partnerships   \n",
       "1   /autologin/BAh7CDoMdXNlcl9pZGkEp%252F8YAjoQcmV...          Email   \n",
       "2                         /life-insurance/comparison/          Email   \n",
       "3                         /life-insurance/comparison/          Email   \n",
       "4                         /life-insurance/comparison/          Email   \n",
       "5                         /life-insurance/comparison/          Email   \n",
       "6                         /life-insurance/comparison/          Email   \n",
       "7                         /life-insurance/comparison/          Email   \n",
       "8                         /life-insurance/comparison/          Email   \n",
       "9                         /life-insurance/comparison/          Email   \n",
       "10                        /life-insurance/comparison/          Email   \n",
       "11                        /life-insurance/comparison/          Email   \n",
       "12                        /life-insurance/comparison/          Email   \n",
       "13                        /life-insurance/comparison/          Email   \n",
       "14                        /life-insurance/comparison/          Email   \n",
       "15                        /life-insurance/comparison/          Email   \n",
       "16                        /life-insurance/comparison/          Email   \n",
       "17                        /life-insurance/comparison/          Email   \n",
       "18                        /life-insurance/comparison/          Email   \n",
       "19                        /life-insurance/comparison/          Email   \n",
       "\n",
       "   product_visited      Time        Date  session_id  \n",
       "0             life  11:36:17  2020-09-17           1  \n",
       "1             life  12:02:13  2020-10-02           2  \n",
       "2             life  12:04:49  2020-10-02           2  \n",
       "3             life  12:04:55  2020-10-02           2  \n",
       "4             life  12:05:11  2020-10-02           2  \n",
       "5             life  12:07:05  2020-10-02           2  \n",
       "6             life  12:14:47  2020-10-02           2  \n",
       "7             life  12:25:59  2020-10-02           2  \n",
       "8             life  12:37:30  2020-10-02           2  \n",
       "9             life  12:38:17  2020-10-02           2  \n",
       "10            life  12:38:36  2020-10-02           2  \n",
       "11            life  14:01:09  2020-10-02           3  \n",
       "12            life  14:01:35  2020-10-02           3  \n",
       "13            life  14:02:27  2020-10-02           3  \n",
       "14            life  14:04:11  2020-10-02           3  \n",
       "15            life  14:07:26  2020-10-02           3  \n",
       "16            life  14:08:12  2020-10-02           3  \n",
       "17            life  14:08:38  2020-10-02           3  \n",
       "18            life  14:09:02  2020-10-02           3  \n",
       "19            life  14:09:08  2020-10-02           3  "
      ]
     },
     "execution_count": 101,
     "metadata": {},
     "output_type": "execute_result"
    }
   ],
   "source": [
    "data = df[df['user_analytics_id']== 'e92e0324865f41ae85c1feda74f566f6']\n",
    "data[['user_analytics_id', 'user_agent', 'referred_to_url', 'visitor_source','product_visited', 'Time', 'Date','session_id']].reset_index(drop=True)[:20]"
   ]
  },
  {
   "cell_type": "markdown",
   "metadata": {},
   "source": [
    " "
   ]
  },
  {
   "cell_type": "markdown",
   "metadata": {},
   "source": [
    " "
   ]
  },
  {
   "cell_type": "markdown",
   "metadata": {},
   "source": [
    " "
   ]
  },
  {
   "cell_type": "markdown",
   "metadata": {},
   "source": [
    "---------"
   ]
  },
  {
   "cell_type": "markdown",
   "metadata": {},
   "source": [
    "## Example 2 \n",
    "    USER: 1d9a49b7cd79499da2eecbfcc932209e"
   ]
  },
  {
   "cell_type": "markdown",
   "metadata": {},
   "source": [
    "    Note: Here, Session 3: has different “referred_to_url” source"
   ]
  },
  {
   "cell_type": "code",
   "execution_count": 115,
   "metadata": {},
   "outputs": [
    {
     "data": {
      "text/html": [
       "<div>\n",
       "<style scoped>\n",
       "    .dataframe tbody tr th:only-of-type {\n",
       "        vertical-align: middle;\n",
       "    }\n",
       "\n",
       "    .dataframe tbody tr th {\n",
       "        vertical-align: top;\n",
       "    }\n",
       "\n",
       "    .dataframe thead th {\n",
       "        text-align: right;\n",
       "    }\n",
       "</style>\n",
       "<table border=\"1\" class=\"dataframe\">\n",
       "  <thead>\n",
       "    <tr style=\"text-align: right;\">\n",
       "      <th></th>\n",
       "      <th>user_analytics_id</th>\n",
       "      <th>user_agent</th>\n",
       "      <th>referred_to_url</th>\n",
       "      <th>visitor_source</th>\n",
       "      <th>product_visited</th>\n",
       "      <th>Time</th>\n",
       "      <th>Date</th>\n",
       "      <th>session_id</th>\n",
       "    </tr>\n",
       "  </thead>\n",
       "  <tbody>\n",
       "    <tr>\n",
       "      <th>0</th>\n",
       "      <td>1d9a49b7cd79499da2eecbfcc932209e</td>\n",
       "      <td>Mozilla/5.0 (iPhone; CPU iPhone OS 13_6_1 like...</td>\n",
       "      <td>/autologin/BAh7CDoMdXNlcl9pZGkE%252B%252B38ATo...</td>\n",
       "      <td>Email</td>\n",
       "      <td>life</td>\n",
       "      <td>20:07:27</td>\n",
       "      <td>2020-09-23</td>\n",
       "      <td>3</td>\n",
       "    </tr>\n",
       "    <tr>\n",
       "      <th>1</th>\n",
       "      <td>1d9a49b7cd79499da2eecbfcc932209e</td>\n",
       "      <td>Mozilla/5.0 (iPhone; CPU iPhone OS 13_6_1 like...</td>\n",
       "      <td>/life-insurance/comparison/</td>\n",
       "      <td>Email</td>\n",
       "      <td>life</td>\n",
       "      <td>20:07:42</td>\n",
       "      <td>2020-09-23</td>\n",
       "      <td>3</td>\n",
       "    </tr>\n",
       "    <tr>\n",
       "      <th>2</th>\n",
       "      <td>1d9a49b7cd79499da2eecbfcc932209e</td>\n",
       "      <td>Mozilla/5.0 (iPhone; CPU iPhone OS 13_6_1 like...</td>\n",
       "      <td>/life-insurance/comparison/</td>\n",
       "      <td>Email</td>\n",
       "      <td>life</td>\n",
       "      <td>20:07:45</td>\n",
       "      <td>2020-09-23</td>\n",
       "      <td>3</td>\n",
       "    </tr>\n",
       "    <tr>\n",
       "      <th>3</th>\n",
       "      <td>1d9a49b7cd79499da2eecbfcc932209e</td>\n",
       "      <td>Mozilla/5.0 (iPhone; CPU iPhone OS 13_6_1 like...</td>\n",
       "      <td>/life-insurance/comparison/</td>\n",
       "      <td>Email</td>\n",
       "      <td>life</td>\n",
       "      <td>20:07:48</td>\n",
       "      <td>2020-09-23</td>\n",
       "      <td>3</td>\n",
       "    </tr>\n",
       "    <tr>\n",
       "      <th>4</th>\n",
       "      <td>1d9a49b7cd79499da2eecbfcc932209e</td>\n",
       "      <td>Mozilla/5.0 (iPhone; CPU iPhone OS 13_6_1 like...</td>\n",
       "      <td>/life-insurance/comparison/</td>\n",
       "      <td>Email</td>\n",
       "      <td>life</td>\n",
       "      <td>20:08:28</td>\n",
       "      <td>2020-09-23</td>\n",
       "      <td>3</td>\n",
       "    </tr>\n",
       "  </tbody>\n",
       "</table>\n",
       "</div>"
      ],
      "text/plain": [
       "                  user_analytics_id  \\\n",
       "0  1d9a49b7cd79499da2eecbfcc932209e   \n",
       "1  1d9a49b7cd79499da2eecbfcc932209e   \n",
       "2  1d9a49b7cd79499da2eecbfcc932209e   \n",
       "3  1d9a49b7cd79499da2eecbfcc932209e   \n",
       "4  1d9a49b7cd79499da2eecbfcc932209e   \n",
       "\n",
       "                                          user_agent  \\\n",
       "0  Mozilla/5.0 (iPhone; CPU iPhone OS 13_6_1 like...   \n",
       "1  Mozilla/5.0 (iPhone; CPU iPhone OS 13_6_1 like...   \n",
       "2  Mozilla/5.0 (iPhone; CPU iPhone OS 13_6_1 like...   \n",
       "3  Mozilla/5.0 (iPhone; CPU iPhone OS 13_6_1 like...   \n",
       "4  Mozilla/5.0 (iPhone; CPU iPhone OS 13_6_1 like...   \n",
       "\n",
       "                                     referred_to_url visitor_source  \\\n",
       "0  /autologin/BAh7CDoMdXNlcl9pZGkE%252B%252B38ATo...          Email   \n",
       "1                        /life-insurance/comparison/          Email   \n",
       "2                        /life-insurance/comparison/          Email   \n",
       "3                        /life-insurance/comparison/          Email   \n",
       "4                        /life-insurance/comparison/          Email   \n",
       "\n",
       "  product_visited      Time        Date  session_id  \n",
       "0            life  20:07:27  2020-09-23           3  \n",
       "1            life  20:07:42  2020-09-23           3  \n",
       "2            life  20:07:45  2020-09-23           3  \n",
       "3            life  20:07:48  2020-09-23           3  \n",
       "4            life  20:08:28  2020-09-23           3  "
      ]
     },
     "execution_count": 115,
     "metadata": {},
     "output_type": "execute_result"
    }
   ],
   "source": [
    "data = df[df['user_analytics_id']== '1d9a49b7cd79499da2eecbfcc932209e']\n",
    "data[data['session_id']==3][['user_analytics_id', 'user_agent', 'referred_to_url', 'visitor_source','product_visited', 'Time', 'Date','session_id']].reset_index(drop=True)[0:5]"
   ]
  },
  {
   "cell_type": "markdown",
   "metadata": {},
   "source": [
    " "
   ]
  },
  {
   "cell_type": "markdown",
   "metadata": {},
   "source": [
    "# Aggregation"
   ]
  },
  {
   "cell_type": "markdown",
   "metadata": {},
   "source": [
    "Once we have created unique sessions, we identified multiple interactions of every user in every session. In Aggregation, we have aggregated the interactions each user had within each session. This could also be thought of as removing duplicates. In the above code, we now have a unique entry for each user based on user_analytics_id, Date, session_id, user_agent, referred_to_url, product_visited, and visitor_source columns. "
   ]
  },
  {
   "cell_type": "code",
   "execution_count": null,
   "metadata": {},
   "outputs": [],
   "source": [
    "def my_agg(x):\n",
    "    names = {\n",
    "        'user_analytics_id': x['user_analytics_id'].max(),\n",
    "        'Date': x['Date'].max(),\n",
    "        'Start Time':  x['Time'].min(),\n",
    "        'End Time':  x['Time'].max(),\n",
    "        \n",
    "        'user_agent': x['user_agent'].dropna().max(),\n",
    "        'referred_to_url': x['referred_to_url'].dropna().max(),\n",
    "        'visitor_source': x['visitor_source'].max(),\n",
    "        \n",
    "        'conv_1_life': x['conv_1_life'].max(),\n",
    "        'conv_1_life_date': x['conv_1_life_date'].max(),\n",
    "        \n",
    "        'conv_2_life': x['conv_2_life'].max(),\n",
    "        'conv_2_life_date': x['conv_2_life_date'].max(),\n",
    "        \n",
    "        'conv_3_life': x['conv_3_life'].max(),\n",
    "        'conv_3_life_date': x['conv_3_life_date'].max(),\n",
    "        \n",
    "        'exit_survey_source_category': x['exit_survey_source_category'].max(),\n",
    "        'exit_survey_submitted_product': x['exit_survey_submitted_product'].max(),\n",
    "        'exit_survey_source': x['exit_survey_source'].max(),\n",
    "        'product_visited': x['product_visited'].max()}\n",
    "\n",
    "    return pd.Series(names, index=['user_analytics_id','Date', 'Start Time', 'End Time','user_agent', 'referred_to_url','visitor_source'\\\n",
    "                                  'conv_1_life','conv_1_life_date','conv_2_life','conv_2_life_date','conv_3_life','conv_3_life_date'\\\n",
    "                                  'exit_survey_source_category','exit_survey_submitted_product','exit_survey_source','product_visited'])\n",
    "\n",
    "\n",
    "df = gdf.groupby((gdf[['user_analytics_id','Date','user_agent','referred_to_url','product_visited']] != gdf[['user_analytics_id','Date','user_agent','referred_to_url','product_visited']].shift()).any(axis=1).cumsum()).apply(my_agg).reset_index(drop=True)\n"
   ]
  },
  {
   "cell_type": "code",
   "execution_count": null,
   "metadata": {},
   "outputs": [],
   "source": [
    "df.head(3)"
   ]
  },
  {
   "cell_type": "code",
   "execution_count": null,
   "metadata": {},
   "outputs": [],
   "source": [
    "data = df[['user_analytics_id','created_at','session_id','visitor_source','conv_1_life']]"
   ]
  },
  {
   "cell_type": "code",
   "execution_count": null,
   "metadata": {},
   "outputs": [],
   "source": [
    "### converting date_served into date format\n",
    "#data['date_served'] = pd.to_datetime(data['date_served'], format='%m/%d/%y', errors='coerce')"
   ]
  },
  {
   "cell_type": "markdown",
   "metadata": {},
   "source": [
    " "
   ]
  },
  {
   "cell_type": "markdown",
   "metadata": {},
   "source": [
    " "
   ]
  },
  {
   "cell_type": "markdown",
   "metadata": {},
   "source": [
    "-----"
   ]
  },
  {
   "cell_type": "markdown",
   "metadata": {},
   "source": [
    "## User Path Aggregation\n",
    "\n",
    "For each user: creat his entire journey from his first touch point to the last. After this step, we expect to have one single record for each user with his journey denoted by ' > '"
   ]
  },
  {
   "cell_type": "code",
   "execution_count": null,
   "metadata": {},
   "outputs": [],
   "source": [
    "# first level - sort\n",
    "data1 = data[['user_analytics_id', 'visitor_source', 'conv_1_life']].sort_values(by=['user_analytics_id', 'visitor_source'])\n",
    "\n",
    "\n",
    "#if any conversion took place\n",
    "data2 = data1.groupby(['user_analytics_id'], as_index=False).agg({'visitor_source': lambda x: ','.join(map(str,x.unique())),'conv_1_life':max}).rename(columns={'visitor_source':'marketing_channel_subset'}, inplace=True)\n",
    "\n",
    "\n",
    "# third level\n",
    "data3 = data2.groupby(['marketing_channel_subset'], as_index=False).agg(sum)"
   ]
  },
  {
   "cell_type": "markdown",
   "metadata": {},
   "source": [
    " \n",
    "\n"
   ]
  },
  {
   "cell_type": "markdown",
   "metadata": {},
   "source": [
    " "
   ]
  },
  {
   "cell_type": "markdown",
   "metadata": {},
   "source": [
    "---------"
   ]
  },
  {
   "cell_type": "markdown",
   "metadata": {},
   "source": [
    " "
   ]
  },
  {
   "cell_type": "markdown",
   "metadata": {},
   "source": [
    " "
   ]
  }
 ],
 "metadata": {
  "kernelspec": {
   "display_name": "gDL",
   "language": "python",
   "name": "gdl"
  },
  "language_info": {
   "codemirror_mode": {
    "name": "ipython",
    "version": 3
   },
   "file_extension": ".py",
   "mimetype": "text/x-python",
   "name": "python",
   "nbconvert_exporter": "python",
   "pygments_lexer": "ipython3",
   "version": "3.8.2"
  }
 },
 "nbformat": 4,
 "nbformat_minor": 4
}
